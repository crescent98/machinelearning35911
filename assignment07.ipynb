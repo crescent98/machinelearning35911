{
  "nbformat": 4,
  "nbformat_minor": 0,
  "metadata": {
    "colab": {
      "name": "assignment07.ipynb",
      "provenance": [],
      "collapsed_sections": [],
      "machine_shape": "hm",
      "authorship_tag": "ABX9TyNGVWqaHGfVPOxSPZ1OWkkQ",
      "include_colab_link": true
    },
    "kernelspec": {
      "name": "python3",
      "display_name": "Python 3"
    },
    "accelerator": "GPU"
  },
  "cells": [
    {
      "cell_type": "markdown",
      "metadata": {
        "id": "view-in-github",
        "colab_type": "text"
      },
      "source": [
        "<a href=\"https://colab.research.google.com/github/crescent98/machinelearning35911/blob/master/assignment07.ipynb\" target=\"_parent\"><img src=\"https://colab.research.google.com/assets/colab-badge.svg\" alt=\"Open In Colab\"/></a>"
      ]
    },
    {
      "cell_type": "code",
      "metadata": {
        "id": "q7DpvIu1kNvX",
        "colab_type": "code",
        "colab": {}
      },
      "source": [
        "import numpy as np\n",
        "import matplotlib.pyplot as plt\n",
        "\n",
        "data    = np.genfromtxt(\"data-nonlinear.txt\", delimiter=',')\n",
        "\n",
        "pointX  = data[:, 0]\n",
        "pointY  = data[:, 1]\n",
        "label   = data[:, 2]\n",
        "\n",
        "pointX0 = pointX[label == 0]\n",
        "pointY0 = pointY[label == 0]\n",
        "\n",
        "pointX1 = pointX[label == 1]\n",
        "pointY1 = pointY[label == 1]\n",
        "\n",
        "data=np.array(data)"
      ],
      "execution_count": 0,
      "outputs": []
    },
    {
      "cell_type": "markdown",
      "metadata": {
        "id": "9K4X-_N1pYvC",
        "colab_type": "text"
      },
      "source": [
        "functions\n"
      ]
    },
    {
      "cell_type": "code",
      "metadata": {
        "id": "x5kXiZsYpL1V",
        "colab_type": "code",
        "colab": {}
      },
      "source": [
        "\"\"\"\n",
        "def g_function(x,y,theta):\n",
        "  sum=0\n",
        "  for i in range(0,10):\n",
        "    for j in range(0,10):\n",
        "      sum=sum+theta[i][j]*np.power(x,i)*np.power(y,j)\n",
        "  return sum\n",
        "\"\"\"\n",
        "def g_function(x,y,theta):\n",
        "  total=0\n",
        "  temp_row=np.arange(0,10)\n",
        "  temp_col=np.arange(0,10).reshape(10,1)\n",
        "  x_array=np.power(x,temp_row)\n",
        "  y_array=np.power(y,temp_col)\n",
        "  total=theta_temp1*x_array*y_array\n",
        "  return total.sum()\n",
        "\n",
        "def h_function(x,y,theta):\n",
        "  return (1/(1+np.exp((-1)*g_function(x,y,theta))))\n",
        "\n",
        "def objective_function(m,theta,data,lamb): #with a regularization term\n",
        "  sum1=0\n",
        "  sum2=0\n",
        "  for i in range(0,m):\n",
        "    if data[i][2]==0:\n",
        "      sum1=sum1-np.log(1-h_function(data[i][0],data[i][1],theta))\n",
        "    elif data[i][2]==1:\n",
        "      sum1=sum1-np.log(h_function(data[i][0],data[i][1],theta))\n",
        "  sum2=np.power(theta,2)\n",
        "  sum2=sum2.sum()\n",
        "  return sum1/m+lamb/2*sum2\n",
        "\n",
        "def next_theta(m,a, theta,data,lamb): #theta is 10*10 matrix\n",
        "  temp=np.zeros((10,10))\n",
        "  x=np.arange(0,10)\n",
        "  y=np.arange(0,10).reshape(10,1)\n",
        "  for i in range(0,m):\n",
        "    temp=temp+(h_function(data[i][0],data[i][1],theta)-data[i][2])*np.power(data[i][0],x)*np.power(data[i][1],y)\n",
        "  theta_temp=theta*(1-lamb*a)-temp*a/m\n",
        "  #theta_temp[0][0]\n",
        "  sum=0\n",
        "  for i in range(0,m):\n",
        "    sum=sum+h_function(data[i][0],data[i][1],theta)-data[i][2]\n",
        "  the_sum=theta[0][0]-sum*a/m\n",
        "  theta_temp[0][0]=the_sum\n",
        "  return theta_temp\n",
        "\n",
        "def gradient(theta,m,data,lamb):\n",
        "  sum=[]\n",
        "  sum_temp=0\n",
        "  total=0\n",
        "  # theta0\n",
        "  append1=sum.append(sum_temp)\n",
        "  append2=sum.append(np.square(sum_temp))\n",
        "  for i in range(0,m):\n",
        "    sum_temp=sum_temp+h_function(data[i][0],data[i][1],theta)-data[i][2]\n",
        "  append1\n",
        "  # theta (!=0)\n",
        "  for i in range(0,10):\n",
        "    for j in range(0,10):\n",
        "      sum_temp=0\n",
        "      for k in range(0,m):\n",
        "        sum_temp=sum_temp+h_function(data[k][0],data[k][1],theta)*np.power(data[k][0],i)*np.power(data[k][1],j)\n",
        "      append2\n",
        "  for i in range(0,len(sum)):\n",
        "    total=total+sum[i]\n",
        "  return np.sqrt(total/m)"
      ],
      "execution_count": 0,
      "outputs": []
    },
    {
      "cell_type": "code",
      "metadata": {
        "id": "PfEVjxk3Ks11",
        "colab_type": "code",
        "colab": {}
      },
      "source": [
        "def accuracy_train(theta_temp,data,accuracy):\n",
        "  score_count=0\n",
        "  for i in range(0,len(data)):\n",
        "    if h_function(data[i][0],data[i][1],theta_temp)>1/2 and data[i][2]==1:\n",
        "      score_count=score_count+1\n",
        "    if h_function(data[i][0],data[i][1],theta_temp)<1/2 and data[i][2]==0:\n",
        "      score_count=score_count+1\n",
        "  accuracy.append(score_count/len(data))"
      ],
      "execution_count": 0,
      "outputs": []
    },
    {
      "cell_type": "markdown",
      "metadata": {
        "id": "TxpLHNNSsVjZ",
        "colab_type": "text"
      },
      "source": [
        "variables"
      ]
    },
    {
      "cell_type": "code",
      "metadata": {
        "id": "v6lFAxFmsYra",
        "colab_type": "code",
        "colab": {}
      },
      "source": [
        "m=len(data)\n",
        "theta_temp1=[[3,4,-6,-4,0,0,0,0,0,0],\n",
        "       [2,-5,0,0,0,0,0,0,0,0],\n",
        "       [-8,0,0,0,0,0,0,0,0,0],\n",
        "       [0.03,0,0,0,0,0,0,0,0,0],\n",
        "       [0,0,0,0,0,0,0,0,0,0],\n",
        "       [0,0,0,0,0,0,0,0,0,0],\n",
        "       [0,0,0,0,0,0,0,0,0,0],\n",
        "       [0,0,0,0,0,0,0,0,0,0],\n",
        "       [0,0,0,0,0,0,0,0,0,0],\n",
        "       [0,0,0,0,0,0,0,0,0,0]\n",
        "]\n",
        "theta_temp1=np.array(theta_temp1)\n",
        "theta_temp2=[[3,4,-6,-4,0,0,0,0,0,0],\n",
        "       [2,-5,0,0,0,0,0,0,0,0],\n",
        "       [-8,0,0,0,0,0,0,0,0,0],\n",
        "       [0.03,0,0,0,0,0,0,0,0,0],\n",
        "       [0,0,0,0,0,0,0,0,0,0],\n",
        "       [0,0,0,0,0,0,0,0,0,0],\n",
        "       [0,0,0,0,0,0,0,0,0,0],\n",
        "       [0,0,0,0,0,0,0,0,0,0],\n",
        "       [0,0,0,0,0,0,0,0,0,0],\n",
        "       [0,0,0,0,0,0,0,0,0,0]\n",
        "]\n",
        "theta_temp2=np.array(theta_temp2)\n",
        "theta_temp3=[[3,4,-6,-4,0,0,0,0,0,0],\n",
        "       [2,-5,0,0,0,0,0,0,0,0],\n",
        "       [-8,0,0,0,0,0,0,0,0,0],\n",
        "       [0.03,0,0,0,0,0,0,0,0,0],\n",
        "       [0,0,0,0,0,0,0,0,0,0],\n",
        "       [0,0,0,0,0,0,0,0,0,0],\n",
        "       [0,0,0,0,0,0,0,0,0,0],\n",
        "       [0,0,0,0,0,0,0,0,0,0],\n",
        "       [0,0,0,0,0,0,0,0,0,0],\n",
        "       [0,0,0,0,0,0,0,0,0,0]\n",
        "]\n",
        "theta_temp2=np.array(theta_temp2)\n",
        "\n",
        "lamb=100\n",
        "objective1=[]\n",
        "objective2=[]\n",
        "objective3=[]\n",
        "accuracy1=[]\n",
        "accuracy2=[]\n",
        "accuracy3=[]\n",
        "theta1=[]\n",
        "theta2=[]\n",
        "theta3=[]\n",
        "i=0\n",
        "a=0.6"
      ],
      "execution_count": 0,
      "outputs": []
    },
    {
      "cell_type": "code",
      "metadata": {
        "id": "IvjYAIDDsPi9",
        "colab_type": "code",
        "colab": {}
      },
      "source": [
        "#first test\n",
        "lamb=0\n",
        "i1=0\n",
        "theta_temp1=np.array(theta_temp1)"
      ],
      "execution_count": 0,
      "outputs": []
    },
    {
      "cell_type": "code",
      "metadata": {
        "id": "sMKC4AuRg0l_",
        "colab_type": "code",
        "colab": {}
      },
      "source": [
        "while i1!=20000:\n",
        "  objective1.append(objective_function(m,theta_temp1,data,lamb))\n",
        "  accuracy_train(theta_temp1,data,accuracy1)\n",
        "  theta1.append(theta_temp1)\n",
        "  theta_temp1=next_theta(m,a,theta_temp1,data,lamb)\n",
        "  i1=i1+1"
      ],
      "execution_count": 0,
      "outputs": []
    },
    {
      "cell_type": "code",
      "metadata": {
        "id": "MnfooWLCSjiM",
        "colab_type": "code",
        "colab": {}
      },
      "source": [
        "#second test\n",
        "lamb=10\n",
        "i2=0\n",
        "theta_temp2=[[3,4,-6,-4,0,0,0,0,0,0],\n",
        "       [2,-5,0,0,0,0,0,0,0,0],\n",
        "       [-8,0,0,0,0,0,0,0,0,0],\n",
        "       [0.03,0,0,0,0,0,0,0,0,0],\n",
        "       [0,0,0,0,0,0,0,0,0,0],\n",
        "       [0,0,0,0,0,0,0,0,0,0],\n",
        "       [0,0,0,0,0,0,0,0,0,0],\n",
        "       [0,0,0,0,0,0,0,0,0,0],\n",
        "       [0,0,0,0,0,0,0,0,0,0],\n",
        "       [0,0,0,0,0,0,0,0,0,0]\n",
        "]\n",
        "theta_temp2=np.array(theta_temp2)"
      ],
      "execution_count": 0,
      "outputs": []
    },
    {
      "cell_type": "code",
      "metadata": {
        "id": "9ZfaLUQul0Sd",
        "colab_type": "code",
        "colab": {}
      },
      "source": [
        "while i2!=1200:\n",
        "  objective2.append(objective_function(m,theta_temp2,data,lamb))\n",
        "  accuracy_train(theta_temp2,data,accuracy2)\n",
        "  theta2.append(theta_temp2)\n",
        "  theta_temp2=next_theta(m,a,theta_temp2,data,lamb)\n",
        "  i2=i2+1"
      ],
      "execution_count": 0,
      "outputs": []
    },
    {
      "cell_type": "code",
      "metadata": {
        "id": "UKQ6qZMwSj6h",
        "colab_type": "code",
        "colab": {
          "base_uri": "https://localhost:8080/",
          "height": 376
        },
        "outputId": "c4efef68-f68a-4bb8-adae-04a6f1ebad13"
      },
      "source": [
        "#third test\n",
        "lamb=1000\n",
        "i3=0\n",
        "theta_temp3=np.array(theta_temp3)\n",
        "while i3<:\n",
        "  objective3.append(objective_function(m,theta_temp3,data,lamb))\n",
        "  accuracy_train(theta_temp3,data,accuracy3)\n",
        "  theta3.append(theta_temp3)\n",
        "  theta_temp3=next_theta(m,a,theta_temp3,data,lamb)\n",
        "  i3=i3+1"
      ],
      "execution_count": 45,
      "outputs": [
        {
          "output_type": "error",
          "ename": "KeyboardInterrupt",
          "evalue": "ignored",
          "traceback": [
            "\u001b[0;31m---------------------------------------------------------------------------\u001b[0m",
            "\u001b[0;31mKeyboardInterrupt\u001b[0m                         Traceback (most recent call last)",
            "\u001b[0;32m<ipython-input-45-83825cd7827e>\u001b[0m in \u001b[0;36m<module>\u001b[0;34m()\u001b[0m\n\u001b[1;32m      7\u001b[0m   \u001b[0maccuracy_train\u001b[0m\u001b[0;34m(\u001b[0m\u001b[0mtheta_temp3\u001b[0m\u001b[0;34m,\u001b[0m\u001b[0mdata\u001b[0m\u001b[0;34m,\u001b[0m\u001b[0maccuracy3\u001b[0m\u001b[0;34m)\u001b[0m\u001b[0;34m\u001b[0m\u001b[0;34m\u001b[0m\u001b[0m\n\u001b[1;32m      8\u001b[0m   \u001b[0mtheta3\u001b[0m\u001b[0;34m.\u001b[0m\u001b[0mappend\u001b[0m\u001b[0;34m(\u001b[0m\u001b[0mtheta_temp3\u001b[0m\u001b[0;34m)\u001b[0m\u001b[0;34m\u001b[0m\u001b[0;34m\u001b[0m\u001b[0m\n\u001b[0;32m----> 9\u001b[0;31m   \u001b[0mtheta_temp3\u001b[0m\u001b[0;34m=\u001b[0m\u001b[0mnext_theta\u001b[0m\u001b[0;34m(\u001b[0m\u001b[0mm\u001b[0m\u001b[0;34m,\u001b[0m\u001b[0ma\u001b[0m\u001b[0;34m,\u001b[0m\u001b[0mtheta_temp3\u001b[0m\u001b[0;34m,\u001b[0m\u001b[0mdata\u001b[0m\u001b[0;34m,\u001b[0m\u001b[0mlamb\u001b[0m\u001b[0;34m)\u001b[0m\u001b[0;34m\u001b[0m\u001b[0;34m\u001b[0m\u001b[0m\n\u001b[0m\u001b[1;32m     10\u001b[0m   \u001b[0mi3\u001b[0m\u001b[0;34m=\u001b[0m\u001b[0mi3\u001b[0m\u001b[0;34m+\u001b[0m\u001b[0;36m1\u001b[0m\u001b[0;34m\u001b[0m\u001b[0;34m\u001b[0m\u001b[0m\n",
            "\u001b[0;32m<ipython-input-6-28adfa2f6d4e>\u001b[0m in \u001b[0;36mnext_theta\u001b[0;34m(m, a, theta, data, lamb)\u001b[0m\n\u001b[1;32m     58\u001b[0m   \u001b[0msum\u001b[0m\u001b[0;34m=\u001b[0m\u001b[0;36m0\u001b[0m\u001b[0;34m\u001b[0m\u001b[0;34m\u001b[0m\u001b[0m\n\u001b[1;32m     59\u001b[0m   \u001b[0;32mfor\u001b[0m \u001b[0mi\u001b[0m \u001b[0;32min\u001b[0m \u001b[0mrange\u001b[0m\u001b[0;34m(\u001b[0m\u001b[0;36m0\u001b[0m\u001b[0;34m,\u001b[0m\u001b[0mm\u001b[0m\u001b[0;34m)\u001b[0m\u001b[0;34m:\u001b[0m\u001b[0;34m\u001b[0m\u001b[0;34m\u001b[0m\u001b[0m\n\u001b[0;32m---> 60\u001b[0;31m     \u001b[0msum\u001b[0m\u001b[0;34m=\u001b[0m\u001b[0msum\u001b[0m\u001b[0;34m+\u001b[0m\u001b[0mh_function\u001b[0m\u001b[0;34m(\u001b[0m\u001b[0mdata\u001b[0m\u001b[0;34m[\u001b[0m\u001b[0mi\u001b[0m\u001b[0;34m]\u001b[0m\u001b[0;34m[\u001b[0m\u001b[0;36m0\u001b[0m\u001b[0;34m]\u001b[0m\u001b[0;34m,\u001b[0m\u001b[0mdata\u001b[0m\u001b[0;34m[\u001b[0m\u001b[0mi\u001b[0m\u001b[0;34m]\u001b[0m\u001b[0;34m[\u001b[0m\u001b[0;36m1\u001b[0m\u001b[0;34m]\u001b[0m\u001b[0;34m,\u001b[0m\u001b[0mtheta\u001b[0m\u001b[0;34m)\u001b[0m\u001b[0;34m-\u001b[0m\u001b[0mdata\u001b[0m\u001b[0;34m[\u001b[0m\u001b[0mi\u001b[0m\u001b[0;34m]\u001b[0m\u001b[0;34m[\u001b[0m\u001b[0;36m2\u001b[0m\u001b[0;34m]\u001b[0m\u001b[0;34m\u001b[0m\u001b[0;34m\u001b[0m\u001b[0m\n\u001b[0m\u001b[1;32m     61\u001b[0m   \u001b[0mthe_sum\u001b[0m\u001b[0;34m=\u001b[0m\u001b[0mtheta\u001b[0m\u001b[0;34m[\u001b[0m\u001b[0;36m0\u001b[0m\u001b[0;34m]\u001b[0m\u001b[0;34m[\u001b[0m\u001b[0;36m0\u001b[0m\u001b[0;34m]\u001b[0m\u001b[0;34m-\u001b[0m\u001b[0msum\u001b[0m\u001b[0;34m*\u001b[0m\u001b[0ma\u001b[0m\u001b[0;34m/\u001b[0m\u001b[0mm\u001b[0m\u001b[0;34m\u001b[0m\u001b[0;34m\u001b[0m\u001b[0m\n\u001b[1;32m     62\u001b[0m   \u001b[0mtheta_temp\u001b[0m\u001b[0;34m[\u001b[0m\u001b[0;36m0\u001b[0m\u001b[0;34m]\u001b[0m\u001b[0;34m[\u001b[0m\u001b[0;36m0\u001b[0m\u001b[0;34m]\u001b[0m\u001b[0;34m=\u001b[0m\u001b[0mthe_sum\u001b[0m\u001b[0;34m\u001b[0m\u001b[0;34m\u001b[0m\u001b[0m\n",
            "\u001b[0;32m<ipython-input-18-cad48ceaf856>\u001b[0m in \u001b[0;36mh_function\u001b[0;34m(x, y, theta)\u001b[0m\n\u001b[1;32m      7\u001b[0m \u001b[0;34m\u001b[0m\u001b[0m\n\u001b[1;32m      8\u001b[0m \u001b[0;32mdef\u001b[0m \u001b[0mh_function\u001b[0m\u001b[0;34m(\u001b[0m\u001b[0mx\u001b[0m\u001b[0;34m,\u001b[0m\u001b[0my\u001b[0m\u001b[0;34m,\u001b[0m\u001b[0mtheta\u001b[0m\u001b[0;34m)\u001b[0m\u001b[0;34m:\u001b[0m\u001b[0;34m\u001b[0m\u001b[0;34m\u001b[0m\u001b[0m\n\u001b[0;32m----> 9\u001b[0;31m   \u001b[0;32mreturn\u001b[0m \u001b[0;34m(\u001b[0m\u001b[0;36m1\u001b[0m\u001b[0;34m/\u001b[0m\u001b[0;34m(\u001b[0m\u001b[0;36m1\u001b[0m\u001b[0;34m+\u001b[0m\u001b[0mnp\u001b[0m\u001b[0;34m.\u001b[0m\u001b[0mexp\u001b[0m\u001b[0;34m(\u001b[0m\u001b[0;34m(\u001b[0m\u001b[0;34m-\u001b[0m\u001b[0;36m1\u001b[0m\u001b[0;34m)\u001b[0m\u001b[0;34m*\u001b[0m\u001b[0mg_function\u001b[0m\u001b[0;34m(\u001b[0m\u001b[0mx\u001b[0m\u001b[0;34m,\u001b[0m\u001b[0my\u001b[0m\u001b[0;34m,\u001b[0m\u001b[0mtheta\u001b[0m\u001b[0;34m)\u001b[0m\u001b[0;34m)\u001b[0m\u001b[0;34m)\u001b[0m\u001b[0;34m)\u001b[0m\u001b[0;34m\u001b[0m\u001b[0;34m\u001b[0m\u001b[0m\n\u001b[0m\u001b[1;32m     10\u001b[0m \u001b[0;34m\u001b[0m\u001b[0m\n\u001b[1;32m     11\u001b[0m \u001b[0;32mimport\u001b[0m \u001b[0mmatplotlib\u001b[0m \u001b[0;32mas\u001b[0m \u001b[0mmpl\u001b[0m\u001b[0;34m\u001b[0m\u001b[0;34m\u001b[0m\u001b[0m\n",
            "\u001b[0;32m<ipython-input-18-cad48ceaf856>\u001b[0m in \u001b[0;36mg_function\u001b[0;34m(x, y, theta)\u001b[0m\n\u001b[1;32m      3\u001b[0m   \u001b[0;32mfor\u001b[0m \u001b[0mi\u001b[0m \u001b[0;32min\u001b[0m \u001b[0mrange\u001b[0m\u001b[0;34m(\u001b[0m\u001b[0;36m0\u001b[0m\u001b[0;34m,\u001b[0m\u001b[0;36m10\u001b[0m\u001b[0;34m)\u001b[0m\u001b[0;34m:\u001b[0m\u001b[0;34m\u001b[0m\u001b[0;34m\u001b[0m\u001b[0m\n\u001b[1;32m      4\u001b[0m     \u001b[0;32mfor\u001b[0m \u001b[0mj\u001b[0m \u001b[0;32min\u001b[0m \u001b[0mrange\u001b[0m\u001b[0;34m(\u001b[0m\u001b[0;36m0\u001b[0m\u001b[0;34m,\u001b[0m\u001b[0;36m10\u001b[0m\u001b[0;34m)\u001b[0m\u001b[0;34m:\u001b[0m\u001b[0;34m\u001b[0m\u001b[0;34m\u001b[0m\u001b[0m\n\u001b[0;32m----> 5\u001b[0;31m       \u001b[0msum\u001b[0m\u001b[0;34m=\u001b[0m\u001b[0msum\u001b[0m\u001b[0;34m+\u001b[0m\u001b[0mtheta\u001b[0m\u001b[0;34m[\u001b[0m\u001b[0mi\u001b[0m\u001b[0;34m]\u001b[0m\u001b[0;34m[\u001b[0m\u001b[0mj\u001b[0m\u001b[0;34m]\u001b[0m\u001b[0;34m*\u001b[0m\u001b[0mnp\u001b[0m\u001b[0;34m.\u001b[0m\u001b[0mpower\u001b[0m\u001b[0;34m(\u001b[0m\u001b[0mx\u001b[0m\u001b[0;34m,\u001b[0m\u001b[0mi\u001b[0m\u001b[0;34m)\u001b[0m\u001b[0;34m*\u001b[0m\u001b[0mnp\u001b[0m\u001b[0;34m.\u001b[0m\u001b[0mpower\u001b[0m\u001b[0;34m(\u001b[0m\u001b[0my\u001b[0m\u001b[0;34m,\u001b[0m\u001b[0mj\u001b[0m\u001b[0;34m)\u001b[0m\u001b[0;34m\u001b[0m\u001b[0;34m\u001b[0m\u001b[0m\n\u001b[0m\u001b[1;32m      6\u001b[0m   \u001b[0;32mreturn\u001b[0m \u001b[0msum\u001b[0m\u001b[0;34m\u001b[0m\u001b[0;34m\u001b[0m\u001b[0m\n\u001b[1;32m      7\u001b[0m \u001b[0;34m\u001b[0m\u001b[0m\n",
            "\u001b[0;31mKeyboardInterrupt\u001b[0m: "
          ]
        }
      ]
    },
    {
      "cell_type": "code",
      "metadata": {
        "id": "7wJDoL3zqwwk",
        "colab_type": "code",
        "colab": {
          "base_uri": "https://localhost:8080/",
          "height": 35
        },
        "outputId": "7d9a6f08-0b5a-4921-ed01-36153e20c7c1"
      },
      "source": [
        "i3"
      ],
      "execution_count": 46,
      "outputs": [
        {
          "output_type": "execute_result",
          "data": {
            "text/plain": [
              "138"
            ]
          },
          "metadata": {
            "tags": []
          },
          "execution_count": 46
        }
      ]
    },
    {
      "cell_type": "markdown",
      "metadata": {
        "id": "rpfwpcebyljQ",
        "colab_type": "text"
      },
      "source": [
        "# ***1. Plot the training data***"
      ]
    },
    {
      "cell_type": "code",
      "metadata": {
        "id": "UWAI6PBdylBh",
        "colab_type": "code",
        "colab": {
          "base_uri": "https://localhost:8080/",
          "height": 297
        },
        "outputId": "a09d1aa7-5718-47ab-d353-5d510811e27d"
      },
      "source": [
        "plt.figure()\n",
        "plt.scatter(pointX0, pointY0, c='b')\n",
        "plt.scatter(pointX1, pointY1, c='r')\n",
        "plt.tight_layout()\n",
        "plt.gca().set_aspect('equal', adjustable='box')\n",
        "plt.show()"
      ],
      "execution_count": 44,
      "outputs": [
        {
          "output_type": "display_data",
          "data": {
            "image/png": "[encoded data removed]",
            "text/plain": [
              "<Figure size 432x288 with 1 Axes>"
            ]
          },
          "metadata": {
            "tags": [],
            "needs_background": "light"
          }
        }
      ]
    },
    {
      "cell_type": "markdown",
      "metadata": {
        "id": "32X9JN4ZyX9r",
        "colab_type": "text"
      },
      "source": [
        "# ***2. Plot the training error with varying regularization parameters***"
      ]
    },
    {
      "cell_type": "code",
      "metadata": {
        "id": "2p0Vl2i7m4IG",
        "colab_type": "code",
        "colab": {
          "base_uri": "https://localhost:8080/",
          "height": 283
        },
        "outputId": "b6d050d4-d694-4fc7-f3bd-175bf2f18a29"
      },
      "source": [
        "plt.scatter(range(0,len(objective1)),objective1,c=\"#0000ff\")"
      ],
      "execution_count": 14,
      "outputs": [
        {
          "output_type": "execute_result",
          "data": {
            "text/plain": [
              "<matplotlib.collections.PathCollection at 0x7f4ed26cd080>"
            ]
          },
          "metadata": {
            "tags": []
          },
          "execution_count": 14
        },
        {
          "output_type": "display_data",
          "data": {
            "image/png": "[encoded data removed]",
            "text/plain": [
              "<Figure size 432x288 with 1 Axes>"
            ]
          },
          "metadata": {
            "tags": [],
            "needs_background": "light"
          }
        }
      ]
    },
    {
      "cell_type": "code",
      "metadata": {
        "id": "hPB0485YfAha",
        "colab_type": "code",
        "colab": {
          "base_uri": "https://localhost:8080/",
          "height": 283
        },
        "outputId": "824de841-cd24-4660-9849-9c0f6a1fd327"
      },
      "source": [
        "plt.scatter(range(0,len(objective2)),objective2,c=\"#0000ff\")"
      ],
      "execution_count": 37,
      "outputs": [
        {
          "output_type": "execute_result",
          "data": {
            "text/plain": [
              "<matplotlib.collections.PathCollection at 0x7f4ece42e4e0>"
            ]
          },
          "metadata": {
            "tags": []
          },
          "execution_count": 37
        },
        {
          "output_type": "display_data",
          "data": {
            "image/png": "[encoded data removed]",
            "text/plain": [
              "<Figure size 432x288 with 1 Axes>"
            ]
          },
          "metadata": {
            "tags": [],
            "needs_background": "light"
          }
        }
      ]
    },
    {
      "cell_type": "code",
      "metadata": {
        "id": "XXlOpcw9fESC",
        "colab_type": "code",
        "colab": {}
      },
      "source": [
        "plt.scatter(range(0,len(objective3)),objective3,c=\"#0000ff\")"
      ],
      "execution_count": 0,
      "outputs": []
    },
    {
      "cell_type": "markdown",
      "metadata": {
        "id": "xOH3q5d-yqwU",
        "colab_type": "text"
      },
      "source": [
        "# ***3.Display the values of the chosen regularization parameters***"
      ]
    },
    {
      "cell_type": "code",
      "metadata": {
        "id": "cYXBq0s8hYyM",
        "colab_type": "code",
        "colab": {
          "base_uri": "https://localhost:8080/",
          "height": 35
        },
        "outputId": "3365fd19-cac7-4571-b039-1d2f9b1d5187"
      },
      "source": [
        "print(\"the value for regularization parameter is\",0) "
      ],
      "execution_count": 15,
      "outputs": [
        {
          "output_type": "stream",
          "text": [
            "the value for regularization parameter is 0\n"
          ],
          "name": "stdout"
        }
      ]
    },
    {
      "cell_type": "code",
      "metadata": {
        "id": "2Xk90CnjhZCX",
        "colab_type": "code",
        "colab": {
          "base_uri": "https://localhost:8080/",
          "height": 35
        },
        "outputId": "e3369193-1cd9-4253-bf90-637e40e2af58"
      },
      "source": [
        "print(\"the value for regularization parameter is\",10)"
      ],
      "execution_count": 42,
      "outputs": [
        {
          "output_type": "stream",
          "text": [
            "the value for regularization parameter is 10\n"
          ],
          "name": "stdout"
        }
      ]
    },
    {
      "cell_type": "code",
      "metadata": {
        "id": "SjdR-udehZMe",
        "colab_type": "code",
        "colab": {
          "base_uri": "https://localhost:8080/",
          "height": 35
        },
        "outputId": "54056c31-f782-45b5-ae9c-8e0c03ed99fa"
      },
      "source": [
        "print(\"the value for regularization parameter is\",1000)"
      ],
      "execution_count": 43,
      "outputs": [
        {
          "output_type": "stream",
          "text": [
            "the value for regularization parameter is 1000\n"
          ],
          "name": "stdout"
        }
      ]
    },
    {
      "cell_type": "markdown",
      "metadata": {
        "id": "NTjKn7qLyMJe",
        "colab_type": "text"
      },
      "source": [
        "# ***4. Plot the Training Accuracy with varying regularization Parameter***"
      ]
    },
    {
      "cell_type": "code",
      "metadata": {
        "id": "v1q1bYTO3KQw",
        "colab_type": "code",
        "colab": {
          "base_uri": "https://localhost:8080/",
          "height": 283
        },
        "outputId": "0077d9bd-f64f-4e1f-ebae-6b4299ea4548"
      },
      "source": [
        "plt.scatter(range(0,len(accuracy1)),accuracy1)"
      ],
      "execution_count": 17,
      "outputs": [
        {
          "output_type": "execute_result",
          "data": {
            "text/plain": [
              "<matplotlib.collections.PathCollection at 0x7f4ece817a20>"
            ]
          },
          "metadata": {
            "tags": []
          },
          "execution_count": 17
        },
        {
          "output_type": "display_data",
          "data": {
            "image/png": "[encoded data removed]",
            "text/plain": [
              "<Figure size 432x288 with 1 Axes>"
            ]
          },
          "metadata": {
            "tags": [],
            "needs_background": "light"
          }
        }
      ]
    },
    {
      "cell_type": "code",
      "metadata": {
        "id": "3oIZ8kC2C02x",
        "colab_type": "code",
        "colab": {
          "base_uri": "https://localhost:8080/",
          "height": 283
        },
        "outputId": "5e3da1df-a4f8-42b1-eada-8780e8928288"
      },
      "source": [
        "plt.scatter(range(0,len(accuracy2)),accuracy2,c=\"#ff0000\")"
      ],
      "execution_count": 38,
      "outputs": [
        {
          "output_type": "execute_result",
          "data": {
            "text/plain": [
              "<matplotlib.collections.PathCollection at 0x7f4ece3902e8>"
            ]
          },
          "metadata": {
            "tags": []
          },
          "execution_count": 38
        },
        {
          "output_type": "display_data",
          "data": {
            "image/png": "[encoded data removed]",
            "text/plain": [
              "<Figure size 432x288 with 1 Axes>"
            ]
          },
          "metadata": {
            "tags": [],
            "needs_background": "light"
          }
        }
      ]
    },
    {
      "cell_type": "code",
      "metadata": {
        "id": "oP1pZisZhNMM",
        "colab_type": "code",
        "colab": {
          "base_uri": "https://localhost:8080/",
          "height": 283
        },
        "outputId": "87592aec-8772-4b0d-e14e-c727b5918c89"
      },
      "source": [
        "plt.scatter(range(0,len(accuracy3)),accuracy3,c=\"#ff0000\")"
      ],
      "execution_count": 41,
      "outputs": [
        {
          "output_type": "execute_result",
          "data": {
            "text/plain": [
              "<matplotlib.collections.PathCollection at 0x7f4ece312160>"
            ]
          },
          "metadata": {
            "tags": []
          },
          "execution_count": 41
        },
        {
          "output_type": "display_data",
          "data": {
            "image/png": "[encoded data removed]",
            "text/plain": [
              "<Figure size 432x288 with 1 Axes>"
            ]
          },
          "metadata": {
            "tags": [],
            "needs_background": "light"
          }
        }
      ]
    },
    {
      "cell_type": "markdown",
      "metadata": {
        "id": "n4WfBX41yw1Y",
        "colab_type": "text"
      },
      "source": [
        "# ***6. Plot the optimal classifier with varying regularization parameters superimposed on the training data***"
      ]
    },
    {
      "cell_type": "code",
      "metadata": {
        "id": "LQ_1WAXdl0oW",
        "colab_type": "code",
        "colab": {
          "base_uri": "https://localhost:8080/",
          "height": 297
        },
        "outputId": "2c708d90-8a44-4138-cafe-b5afa9bb5c1f"
      },
      "source": [
        "import matplotlib as mpl\n",
        "%matplotlib inline\n",
        "\n",
        "x=np.linspace(-1,1,400)\n",
        "y=np.linspace(-1,1,400)\n",
        "X,Y=np.meshgrid(x,y)\n",
        "\n",
        "def axes():\n",
        "  plt.axhline(0, alpha=.1)\n",
        "  plt.axvline(0, alpha=.1)\n",
        "axes()\n",
        "z1=g_function(X,Y,theta_temp1)\n",
        "z2=g_function(X,Y,theta_temp2)\n",
        "z3=g_function(X,Y,theta_temp3)\n",
        "plt.contour(x,y,z,[0],colors='g')\n",
        "plt.contour(x,y,z,[0],colors='g')\n",
        "plt.contour(x,y,z,[0],colors='g')\n",
        "plt.scatter(pointX0, pointY0, c='b')\n",
        "plt.scatter(pointX1, pointY1, c='r')\n",
        "plt.tight_layout()\n",
        "plt.gca().set_aspect('equal', adjustable='box')\n",
        "plt.show()"
      ],
      "execution_count": 21,
      "outputs": [
        {
          "output_type": "display_data",
          "data": {
            "image/png": "[encoded data removed]",
            "text/plain": [
              "<Figure size 432x288 with 1 Axes>"
            ]
          },
          "metadata": {
            "tags": [],
            "needs_background": "light"
          }
        }
      ]
    }
  ]
}