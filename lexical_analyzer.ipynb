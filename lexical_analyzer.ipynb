{
  "nbformat": 4,
  "nbformat_minor": 0,
  "metadata": {
    "colab": {
      "name": "lexical analyzer.ipynb",
      "provenance": [],
      "collapsed_sections": [],
      "authorship_tag": "ABX9TyNJ6Y50aABnshtHSEEk9/bC",
      "include_colab_link": true
    },
    "kernelspec": {
      "name": "python3",
      "display_name": "Python 3"
    }
  },
  "cells": [
    {
      "cell_type": "markdown",
      "metadata": {
        "id": "view-in-github",
        "colab_type": "text"
      },
      "source": [
        "<a href=\"https://colab.research.google.com/github/crescent98/machinelearning35911/blob/master/lexical_analyzer.ipynb\" target=\"_parent\"><img src=\"https://colab.research.google.com/assets/colab-badge.svg\" alt=\"Open In Colab\"/></a>"
      ]
    },
    {
      "cell_type": "markdown",
      "metadata": {
        "id": "k0LwRLcn3c_o",
        "colab_type": "text"
      },
      "source": [
        "# ***Lexical Analyzer***"
      ]
    },
    {
      "cell_type": "markdown",
      "metadata": {
        "id": "yXFy5Une3kJM",
        "colab_type": "text"
      },
      "source": [
        "# *Token Scanner*"
      ]
    },
    {
      "cell_type": "markdown",
      "metadata": {
        "id": "u9hbYwEW5hAB",
        "colab_type": "text"
      },
      "source": [
        "Signed Integer Scanner"
      ]
    },
    {
      "cell_type": "code",
      "metadata": {
        "id": "P9XuAP7oOLqH",
        "colab_type": "code",
        "colab": {}
      },
      "source": [
        "#dictionary 형식으로 DFA 구현\n",
        "T_SI=[]\n",
        "T_SI.append({})\n",
        "T_SI[0][1]=1\n",
        "T_SI[0][2]=3\n",
        "T_SI[0][3]=2\n",
        "T_SI.append({})\n",
        "T_SI[1][3]=4\n",
        "T_SI.append({})\n",
        "T_SI[2][3]=6\n",
        "T_SI[2][2]=5\n",
        "T_SI.append({})\n",
        "T_SI.append({})\n",
        "T_SI[4][2]=5\n",
        "T_SI[4][3]=6\n",
        "T_SI.append({})\n",
        "T_SI[5][2]=5\n",
        "T_SI[5][3]=6\n",
        "T_SI.append({})\n",
        "T_SI[6][2]=5\n",
        "T_SI[6][3]=6\n",
        "\n",
        "#signed_integer scanner\n",
        "def signedInt_scanner(input):\n",
        "  t_state=0\n",
        "  for i in range(0,len(input)):\n",
        "    char_temp=0\n",
        "    if input[i]=='-':\n",
        "      char_temp=1\n",
        "    elif input[i]=='0':\n",
        "      char_temp=2\n",
        "    elif input[i].isdigit()==True:\n",
        "      char_temp=3\n",
        "    else:\n",
        "      print(\"Not Integer\")\n",
        "      return -1\n",
        "    t_state=T_SI[t_state][char_temp]\n",
        "  if t_state==4 or t_state==3 or t_state==2 or t_state==6 or t_state==5:\n",
        "    print(\"Integer\")\n",
        "  else:\n",
        "    print(\"Not Integer\")\n",
        "  return t_state"
      ],
      "execution_count": 0,
      "outputs": []
    },
    {
      "cell_type": "markdown",
      "metadata": {
        "id": "lXPokIwf5c7i",
        "colab_type": "text"
      },
      "source": [
        "Identifier Scanner"
      ]
    },
    {
      "cell_type": "code",
      "metadata": {
        "id": "pPnKiWzhUXlq",
        "colab_type": "code",
        "colab": {}
      },
      "source": [
        "T_ID=[{1: 1, 2: -1, 3: 2},\n",
        "      {1: 3, 2: 4, 3: 5},\n",
        "      {1: 6, 2: 7, 3: 8},\n",
        "      {1: 3, 2: 4, 3: 5},\n",
        "      {1: 3, 2: 4, 3: 5},\n",
        "      {1: 3, 2: 4, 3: 5},\n",
        "      {1: 6, 2: 7, 3: 8},\n",
        "      {1: 6, 2: 7, 3: 8},\n",
        "      {1: 6, 2: 7, 3: 8}]\n",
        "  \n",
        "#identifier\n",
        "def id_scanner(input):\n",
        "  t_state=0\n",
        "  for i in range(0,len(input)):\n",
        "    char_temp=0\n",
        "    if input[i]=='_':\n",
        "      char_temp=1\n",
        "      print(\"_\")\n",
        "    elif input[i].isdigit()==True:\n",
        "      char_temp=2\n",
        "      print(\"digit\")\n",
        "    elif input[i].isalpha()==True:\n",
        "      char_temp=3\n",
        "      print(\"alpha\")\n",
        "    else:\n",
        "      print(\"Not Identifier\")\n",
        "    t_state=T_ID[t_state][char_temp]\n",
        "    if t_state==-1:\n",
        "      print(\"Not Identifier\")\n",
        "      return -1\n",
        "  if t_state==1 or t_state==2 or t_state==3 or t_state==4 or t_state==5 or t_state==6 or t_state==7 or t_state==8:\n",
        "    print(\"Identifier\")\n",
        "    return t_state\n",
        "  else:\n",
        "    print(\"Not Identifier\")\n",
        "    return t_state"
      ],
      "execution_count": 0,
      "outputs": []
    },
    {
      "cell_type": "markdown",
      "metadata": {
        "id": "I6mKfXOV5a9A",
        "colab_type": "text"
      },
      "source": [
        "Operator Scanner"
      ]
    },
    {
      "cell_type": "code",
      "metadata": {
        "id": "0klk4cGys3xU",
        "colab_type": "code",
        "colab": {}
      },
      "source": [
        "T_OP=[{1: 1, 2: 2, 3: 3, 4: 4, 5: 5, 6: 6},\n",
        "      {1: -1, 2: -1, 3: -1, 4: -1, 5: -1, 6: -1},\n",
        "      {1: -1, 2: -1, 3: -1, 4: -1, 5: -1, 6: -1},\n",
        "      {1: -1, 2: -1, 3:  8, 4: -1, 5: -1, 6:  7},\n",
        "      {1: -1, 2: -1, 3: -1, 4: 10, 5: -1, 6:  9},\n",
        "      {1: -1, 2: -1, 3: -1, 4: -1, 5: -1, 6: 11},\n",
        "      {1: -1, 2: -1, 3: -1, 4: -1, 5: -1, 6: 12},\n",
        "      {1: -1, 2: -1, 3: -1, 4: -1, 5: -1, 6: -1},\n",
        "      {1: -1, 2: -1, 3: -1, 4: -1, 5: -1, 6: -1},\n",
        "      {1: -1, 2: -1, 3: -1, 4: -1, 5: -1, 6: -1},\n",
        "      {1: -1, 2: -1, 3: -1, 4: -1, 5: -1, 6: -1},\n",
        "      {1: -1, 2: -1, 3: -1, 4: -1, 5: -1, 6: -1},\n",
        "      {1: -1, 2: -1, 3: -1, 4: -1, 5: -1, 6: -1}\n",
        "      ]\n",
        "\n",
        "def op_scanner(input):\n",
        "  t_state=0\n",
        "  for i in range(0,len(input)):\n",
        "    char_temp=0\n",
        "    if input[i]=='&':\n",
        "      char_temp=1\n",
        "    elif input[i]=='|':\n",
        "      char_temp=2\n",
        "    elif input[i]=='<':\n",
        "      char_temp=3\n",
        "    elif input[i]=='>':\n",
        "      char_temp=4\n",
        "    elif input[i]=='!':\n",
        "      char_temp=5\n",
        "    elif input[i]=='=':\n",
        "      char_temp=6\n",
        "    else:\n",
        "      print(\"Not Operator\")\n",
        "      return -1\n",
        "    t_state=T_OP[t_state][char_temp]\n",
        "    if t_state==-1:\n",
        "      print(\"Not Operator\")\n",
        "      return -1\n",
        "  if t_state==1 or t_state==2 or t_state==3 or t_state==6 or t_state==7 or t_state==8 or t_state==9 or t_state==10 or t_state==11 or t_state==12:\n",
        "    print(\"Operator\")\n",
        "    return t_state\n",
        "  else:\n",
        "    print(\"Not Operator\")\n",
        "    return t_state"
      ],
      "execution_count": 0,
      "outputs": []
    },
    {
      "cell_type": "markdown",
      "metadata": {
        "id": "6O1ZTUmZATvj",
        "colab_type": "text"
      },
      "source": [
        "Keyword & VariableType Scanner"
      ]
    },
    {
      "cell_type": "code",
      "metadata": {
        "id": "pJVqFvLY3uGP",
        "colab_type": "code",
        "colab": {}
      },
      "source": [
        "T_KW=[{1: 1, 2: 2, 3: 3, 4: 4, 5: 5},\n",
        "      {1: -1, 2: -1, 3: -1, 4: -1, 5: -1},\n",
        "      {1: -1, 2: -1, 3: -1, 4: -1, 5: -1},\n",
        "      {1: -1, 2: -1, 3: -1, 4: -1, 5: -1},\n",
        "      {1: -1, 2: -1, 3: -1, 4: -1, 5: -1},\n",
        "      {1: -1, 2: -1, 3: -1, 4: -1, 5: -1}]\n",
        "\n",
        "def kw_scanner(input):\n",
        "  t_state=0\n",
        "  char_temp=0\n",
        "  if input==\"if\":\n",
        "    char_temp=1\n",
        "  elif input==\"else\":\n",
        "    char_temp=2\n",
        "  elif input==\"while\":\n",
        "    char_temp=3\n",
        "  elif input==\"for\":\n",
        "    char_temp=4\n",
        "  elif input==\"return\":\n",
        "    char_temp=5\n",
        "  else:\n",
        "    print(\"Not Keyword\")\n",
        "    return -1\n",
        "  t_state=T_KW[t_state][char_temp]\n",
        "  if t_state==-1:\n",
        "    print(\"Not Keyword\")\n",
        "    return -1\n",
        "  if t_state==1 or t_state==2 or t_state==3 or t_state==4 or t_state==5:\n",
        "    print(\"Keyword\")\n",
        "    return t_state\n",
        "\n",
        "\n",
        "T_VT=[{1: 1, 2: 2, 3: 3, 4: 4},\n",
        "      {1: -1, 2: -1, 3: -1, 4: -1},\n",
        "      {1: -1, 2: -1, 3: -1, 4: -1},\n",
        "      {1: -1, 2: -1, 3: -1, 4: -1},\n",
        "      {1: -1, 2: -1, 3: -1, 4: -1},]\n",
        "\n",
        "def vt_scanner(input):\n",
        "  t_state=0\n",
        "  char_temp=0\n",
        "  if input==\"int\":\n",
        "    char_temp=1\n",
        "  elif input==\"char\":\n",
        "    char_temp=2\n",
        "  elif input==\"bool\":\n",
        "    char_temp=3\n",
        "  elif input==\"float\":\n",
        "    char_temp=4\n",
        "  else:\n",
        "    print(\"Not Variable Type\")\n",
        "    return -1\n",
        "  t_state=T_VT[t_state][char_temp]\n",
        "  if t_state==-1:\n",
        "    print(\"Not VariableType\")\n",
        "    return -1\n",
        "  if t_state==1 or t_state==2 or t_state==3 or t_state==4:\n",
        "    print(\"Variable Type\")\n",
        "    return t_state"
      ],
      "execution_count": 0,
      "outputs": []
    },
    {
      "cell_type": "markdown",
      "metadata": {
        "id": "LTlT6hp9ATGU",
        "colab_type": "text"
      },
      "source": [
        "Literal String & Boolean String Scanner"
      ]
    },
    {
      "cell_type": "code",
      "metadata": {
        "id": "8mGQjoppBBtM",
        "colab_type": "code",
        "colab": {}
      },
      "source": [
        "T_LS=[{1: 1, 2: -1, 3: -1, 4: -1},\n",
        "      {1: -1, 2: 2, 3: 3, 4: 4},\n",
        "      {1: 5, 2: 2, 3: 3, 4: 4},\n",
        "      {1: 5, 2: 2, 3: 3, 4: 4},\n",
        "      {1: 5, 2: 2, 3: 3, 4: 4},\n",
        "      {1: -1, 2: -1, 3: -1, 4: -1}\n",
        "      ]\n",
        "\n",
        "def ls_scanner(input):\n",
        "  t_state=0\n",
        "  for i in range(0,len(input)):\n",
        "    char_temp=0\n",
        "    if input[i]=='\\\"':\n",
        "      char_temp=1\n",
        "    elif input[i].isalpha()==True:\n",
        "      char_temp=2\n",
        "    elif input[i].isdigit()==True:\n",
        "      char_temp=3\n",
        "    elif input[i]==' ':\n",
        "      char_temp=4\n",
        "    else:\n",
        "      print(\"Not Literal String\")\n",
        "      return -1\n",
        "    t_state=T_LS[t_state][char_temp]\n",
        "  if t_state==5:\n",
        "    print(\"Literal String\")\n",
        "    return t_state\n",
        "  else:\n",
        "    print(\"Not Literal String\")\n",
        "    return -1\n",
        "\n",
        "T_BS=[{1: 1, 2: 2},\n",
        "      {1: -1,2: -1},\n",
        "      {1: -1,2: -1}]\n",
        "\n",
        "def bs_scanner(input):\n",
        "  t_state=0\n",
        "  char_temp=0\n",
        "  if input==\"true\":\n",
        "    char_temp=1\n",
        "  elif input==\"false\":\n",
        "    char_temp=2\n",
        "  else:\n",
        "    print(\"Not Boolean String\")\n",
        "    return -1\n",
        "  t_state=T_BS[t_state][char_temp]\n",
        "  if t_state==1:\n",
        "    print(\"Boolean String: True\")\n",
        "    return t_state\n",
        "  elif t_state==2:\n",
        "    print(\"Boolean String: False\")\n",
        "    return t_state\n",
        "  else:\n",
        "    print(\"Not Boolean String\")\n",
        "    return t_state\n",
        "    "
      ],
      "execution_count": 0,
      "outputs": []
    },
    {
      "cell_type": "markdown",
      "metadata": {
        "id": "pSYttBzqyPHn",
        "colab_type": "text"
      },
      "source": [
        "Symbol Scanner"
      ]
    },
    {
      "cell_type": "code",
      "metadata": {
        "id": "j-YWLOnGhD2i",
        "colab_type": "code",
        "colab": {}
      },
      "source": [
        "T_SM=[{1: 1, 2: 2, 3: 3, 4: 4, 5: 5, 6: 6},\n",
        "      {1: -1, 2: -1, 3: -1, 4: -1, 5: -1, 6: -1},\n",
        "      {1: -1, 2: -1, 3: -1, 4: -1, 5: -1, 6: -1},\n",
        "      {1: -1, 2: -1, 3: -1, 4: -1, 5: -1, 6: -1},\n",
        "      {1: -1, 2: -1, 3: -1, 4: -1, 5: -1, 6: -1},\n",
        "      {1: -1, 2: -1, 3: -1, 4: -1, 5: -1, 6: -1},\n",
        "      ]\n",
        "\n",
        "def sm_scanner(input):\n",
        "  t_state=0\n",
        "  temp_char=0\n",
        "  if input==';':\n",
        "    temp_char=1\n",
        "  elif input=='{':\n",
        "    temp_char=2\n",
        "  elif input=='}':\n",
        "    temp_char=3\n",
        "  elif input=='(':\n",
        "    temp_char=4\n",
        "  elif input==')':\n",
        "    temp_char=5\n",
        "  elif input==',':\n",
        "    temp_char=6\n",
        "  else:\n",
        "    print(\"Not a Symbol\")\n",
        "    return -1\n",
        "  t_state=T_SM[t_state][temp_char]\n",
        "  if t_state==1:\n",
        "    print(\"Symbol -> ;\")\n",
        "    return t_state\n",
        "  elif t_state==2:\n",
        "    print(\"Symbol -> {\")\n",
        "    return t_state\n",
        "  elif t_state==3:\n",
        "    print(\"Symbol -> }\")\n",
        "    return t_state\n",
        "  elif t_state==4:\n",
        "    print(\"Symbol -> (\")\n",
        "    return t_state\n",
        "  elif t_state==5:\n",
        "    print(\"Symbol -> )\")\n",
        "    return t_state\n",
        "  elif t_state==6:\n",
        "    print(\"Symbol -> ,\")\n",
        "    return t_state                "
      ],
      "execution_count": 0,
      "outputs": []
    },
    {
      "cell_type": "markdown",
      "metadata": {
        "id": "VID0qR5lz4wm",
        "colab_type": "text"
      },
      "source": [
        "Arithmetic Operator Scanner"
      ]
    },
    {
      "cell_type": "code",
      "metadata": {
        "id": "EOTakovIh0Vc",
        "colab_type": "code",
        "colab": {}
      },
      "source": [
        "T_OS=[{1: 1, 2: 2, 3: 3, 4: 4},\n",
        "      {1: -1, 2: -1, 3: -1, 4: -1},\n",
        "      {1: -1, 2: -1, 3: -1, 4: -1},\n",
        "      {1: -1, 2: -1, 3: -1, 4: -1},\n",
        "      {1: -1, 2: -1, 3: -1, 4: -1}\n",
        "      ]\n",
        "\n",
        "def os_scanner(input):\n",
        "  t_state=0\n",
        "  temp_char=0\n",
        "  if input=='+':\n",
        "    temp_char=1\n",
        "  elif input=='-':\n",
        "    temp_char=2\n",
        "  elif input=='*':\n",
        "    temp_char=3\n",
        "  elif input=='/':\n",
        "    temp_char=4\n",
        "  else:\n",
        "    print(\"Not an Arithmetic Operator\")\n",
        "    return -1\n",
        "  t_state=T_OS[t_state][temp_char]\n",
        "  if t_state==1:\n",
        "    print(\"Arithmetic Operator -> +\")\n",
        "    return t_state\n",
        "  elif t_state==2:\n",
        "    print(\"Arithmetic Operator -> -\")\n",
        "    return t_state\n",
        "  elif t_state==3:\n",
        "    print(\"Arithmetic Operator -> *\")\n",
        "    return t_state\n",
        "  elif t_state==4:\n",
        "    print(\"Arithmetic Operator -> /\")\n",
        "    return t_state"
      ],
      "execution_count": 0,
      "outputs": []
    },
    {
      "cell_type": "markdown",
      "metadata": {
        "id": "gQemEYHT29g-",
        "colab_type": "text"
      },
      "source": [
        "# *Text Parsing & Scanning*"
      ]
    },
    {
      "cell_type": "code",
      "metadata": {
        "id": "lCgZr1sQNzmr",
        "colab_type": "code",
        "colab": {}
      },
      "source": [
        "symbols=[';','{','}','(',')',',']\n",
        "operator2=['<<','>>','==','!=','<=','>=']\n",
        "operator1=['+','*','/',\n",
        "           '&','|',\n",
        "           '<','>']"
      ],
      "execution_count": 0,
      "outputs": []
    },
    {
      "cell_type": "code",
      "metadata": {
        "id": "a7L2_jEi3FGO",
        "colab_type": "code",
        "outputId": "4bffc0e7-175b-4ab6-e65b-cd59c7dfa57b",
        "colab": {
          "base_uri": "https://localhost:8080/",
          "height": 35
        }
      },
      "source": [
        "str=\"3---1 -+ -3 3-1 +-1\"\n",
        "list_str=str.split()\n",
        "list_str\n",
        "#parsing based on symbols\n",
        "for j in range(0, len(symbols)):\n",
        "  temp_char=symbols[j]\n",
        "  i=0\n",
        "  while(i<len(list_str)):\n",
        "    if list_str[i].find(temp_char)!=-1:\n",
        "      temp=list_str[i].split(temp_char,1)\n",
        "      for j in range(len(temp)-1,-1,-1):\n",
        "        list_str.insert(i,temp[j])\n",
        "      list_str.insert(i+1,temp_char)\n",
        "      del list_str[i+3]\n",
        "      i=i+1\n",
        "    i=i+1\n",
        "\n",
        "\n",
        "\n",
        "#parsing based on Operator\n",
        "for j in range(0, len(operator2)):\n",
        "  temp_char=operator2[j]\n",
        "  i=0\n",
        "  while(i<len(list_str)):\n",
        "    if list_str[i].find(temp_char)!=-1:\n",
        "      temp=list_str[i].split(temp_char,1)\n",
        "      for j in range(len(temp)-1,-1,-1):\n",
        "        list_str.insert(i,temp[j])\n",
        "        print(\"insert\",temp[j])\n",
        "      list_str.insert(i+1,temp_char)\n",
        "      print(\"insert temp_char\",temp_char)\n",
        "      del list_str[i+3]\n",
        "      i=i+1\n",
        "    i=i+1\n",
        "\n",
        "#based on Arithmetic Operator\n",
        "#Arithmetic Operator excluding '-'\n",
        "# -> parses both side (front and back)\n",
        "for j in range(0, len(operator1)):\n",
        "  temp_char=operator1[j]\n",
        "  i=0\n",
        "  while(i<len(list_str)):\n",
        "    if list_str[i].find(temp_char)!=-1:\n",
        "      if list_str[i] in operator2:\n",
        "      #if the token is a 2-sized operator\n",
        "        i=i+1\n",
        "        continue\n",
        "      temp=list_str[i].split(temp_char,1)\n",
        "      for j in range(len(temp)-1,-1,-1):\n",
        "        list_str.insert(i,temp[j])\n",
        "      list_str.insert(i+1,temp_char)\n",
        "      del list_str[i+3]\n",
        "      i=i+1\n",
        "    i=i+1\n",
        "\n",
        "#hidden problem '-'\n",
        "#1. '-' Operator parses the front\n",
        "#2. '-' Operator parses the back based on the back and front token\n",
        "\n",
        "i=0\n",
        "while(i<len(list_str)):\n",
        "  if list_str[i].find('-')!=-1:\n",
        "    temp=list_str[i].split('-',1)\n",
        "    list_str.insert(i,temp[0])\n",
        "    if temp[-1].find('-')!=-1: #뒤에 있는 토큰에 -가 있는 경우\n",
        "      list_str.insert(i+1,'-')\n",
        "      list_str.insert(i+2,temp[-1])\n",
        "      del list_str[i+3]\n",
        "      i=i+1\n",
        "    else:\n",
        "      list_str.insert(i+1,'-'+temp[-1])\n",
        "      del list_str[i+2]\n",
        "      i=i+1    \n",
        "  i=i+1\n",
        "#추가로 뒤에 붙은 것이 무엇인지에 따라 나뉘게 됨\n",
        "\n",
        "\n",
        "list_str=[v for v in list_str if v]\n",
        "print(list_str)\n",
        "\n",
        "#problem if there is lot's of operators/symbols superimposed -> interation"
      ],
      "execution_count": 80,
      "outputs": [
        {
          "output_type": "stream",
          "text": [
            "['3', '-', '-', '-1', '-', '+', '-3', '3', '-1', '+', '-1']\n"
          ],
          "name": "stdout"
        }
      ]
    },
    {
      "cell_type": "code",
      "metadata": {
        "id": "pnn5rmaJM8TV",
        "colab_type": "code",
        "colab": {
          "base_uri": "https://localhost:8080/",
          "height": 35
        },
        "outputId": "2b565fc2-34e5-40c4-cce4-9f92cbe09cfd"
      },
      "source": [
        "a='hey'\n",
        "b=[]\n",
        "b.append(a)\n",
        "b"
      ],
      "execution_count": 12,
      "outputs": [
        {
          "output_type": "execute_result",
          "data": {
            "text/plain": [
              "['hey']"
            ]
          },
          "metadata": {
            "tags": []
          },
          "execution_count": 12
        }
      ]
    },
    {
      "cell_type": "code",
      "metadata": {
        "id": "uOIn1NZACD7W",
        "colab_type": "code",
        "outputId": "d5f842d1-31fe-4f7f-b8a0-5dac41a0bd88",
        "colab": {
          "base_uri": "https://localhost:8080/",
          "height": 70
        }
      },
      "source": [
        "str=\"printf(\\\"hello world)\\\"\"\n",
        "list_str=str.split()\n",
        "list_str\n",
        "i=0\n",
        "print(list_str)\n",
        "while(i<len(list_str)):\n",
        "  if list_str[i].find('(')!=-1:\n",
        "    temp=list_str[i].split('(')\n",
        "    print(temp)\n",
        "    for j in range(len(temp)-1,-1,-1):\n",
        "      list_str.insert(i,temp[j])\n",
        "    list_str.insert(i+1,'(')\n",
        "    del list_str[i+3]\n",
        "    i=i+2\n",
        "  i=i+1\n",
        "print(list_str)"
      ],
      "execution_count": 9,
      "outputs": [
        {
          "output_type": "stream",
          "text": [
            "['printf(\"hello', 'world)\"']\n",
            "['printf', '\"hello']\n",
            "['printf', '(', '\"hello', 'world)\"']\n"
          ],
          "name": "stdout"
        }
      ]
    },
    {
      "cell_type": "code",
      "metadata": {
        "id": "ethBC6PQ8R9n",
        "colab_type": "code",
        "outputId": "8d9eb1b7-6e2f-41a0-b7a2-652fc98b8d70",
        "colab": {
          "base_uri": "https://localhost:8080/",
          "height": 35
        }
      },
      "source": [
        "temp_str=\"(()\"\n",
        "temp_token=temp_str.split('(',1)\n",
        "temp_token"
      ],
      "execution_count": 10,
      "outputs": [
        {
          "output_type": "execute_result",
          "data": {
            "text/plain": [
              "['', '()']"
            ]
          },
          "metadata": {
            "tags": []
          },
          "execution_count": 10
        }
      ]
    }
  ]
}