{
  "nbformat": 4,
  "nbformat_minor": 0,
  "metadata": {
    "colab": {
      "name": "assignment10.ipynb",
      "provenance": [],
      "authorship_tag": "ABX9TyOdyg+NB2BDNk0HsqBtDnEP",
      "include_colab_link": true
    },
    "kernelspec": {
      "name": "python3",
      "display_name": "Python 3"
    }
  },
  "cells": [
    {
      "cell_type": "markdown",
      "metadata": {
        "id": "view-in-github",
        "colab_type": "text"
      },
      "source": [
        "<a href=\"https://colab.research.google.com/github/crescent98/machinelearning35911/blob/master/assignment10.ipynb\" target=\"_parent\"><img src=\"https://colab.research.google.com/assets/colab-badge.svg\" alt=\"Open In Colab\"/></a>"
      ]
    },
    {
      "cell_type": "code",
      "metadata": {
        "id": "dKIVygNqXwC1",
        "colab_type": "code",
        "colab": {}
      },
      "source": [
        "import matplotlib.pyplot as plt\n",
        "import numpy as np\n",
        "\n",
        "file_data   = \"mnist.csv\"\n",
        "handle_file = open(file_data, \"r\")\n",
        "data        = handle_file.readlines()\n",
        "handle_file.close()\n",
        "\n",
        "size_row    = 28    # height of the image\n",
        "size_col    = 28    # width of the image\n",
        "\n",
        "num_image   = len(data)\n",
        "count       = 0     # count for the number of images"
      ],
      "execution_count": 0,
      "outputs": []
    },
    {
      "cell_type": "code",
      "metadata": {
        "id": "8TitSCaEX8hJ",
        "colab_type": "code",
        "colab": {}
      },
      "source": [
        "#\n",
        "# normalize the values of the input data to be [0, 1]\n",
        "#\n",
        "def normalize(data):\n",
        "\n",
        "    data_normalized = (data - min(data)) / (max(data) - min(data))\n",
        "\n",
        "    return(data_normalized)\n",
        "\n",
        "#\n",
        "# example of distance function between two vectors x and y\n",
        "#\n",
        "def distance(x, y):\n",
        "\n",
        "    d = (x - y) ** 2\n",
        "    s = np.sum(d)\n",
        "    # r = np.sqrt(s)\n",
        "\n",
        "    return(s)\n"
      ],
      "execution_count": 0,
      "outputs": []
    },
    {
      "cell_type": "code",
      "metadata": {
        "id": "o4aZ4MoJX99S",
        "colab_type": "code",
        "colab": {}
      },
      "source": [
        "#\n",
        "# make a matrix each column of which represents an images in a vector form\n",
        "#\n",
        "list_image  = np.empty((size_row * size_col, num_image), dtype=float)\n",
        "list_label  = np.empty(num_image, dtype=int)\n",
        "\n",
        "for line in data:\n",
        "\n",
        "    line_data   = line.split(',')\n",
        "    label       = line_data[0]\n",
        "    im_vector   = np.asfarray(line_data[1:])\n",
        "    im_vector   = normalize(im_vector)\n",
        "\n",
        "    list_label[count]       = label\n",
        "    list_image[:, count]    = im_vector\n",
        "\n",
        "    count += 1\n"
      ],
      "execution_count": 0,
      "outputs": []
    },
    {
      "cell_type": "code",
      "metadata": {
        "id": "XXfQ_Ft9X_gK",
        "colab_type": "code",
        "outputId": "20cb9a5c-0913-477c-8e66-5a3ec8270f81",
        "colab": {
          "base_uri": "https://localhost:8080/",
          "height": 54
        }
      },
      "source": [
        "#\n",
        "# plot first 150 images out of 10,000 with their labels\n",
        "#\n",
        "\"\"\"\n",
        "f1 = plt.figure(1)\n",
        "\n",
        "for i in range(150):\n",
        "\n",
        "    label       = list_label[i]\n",
        "    im_vector   = list_image[:, i]\n",
        "    im_matrix   = im_vector.reshape((size_row, size_col))\n",
        "\n",
        "    plt.subplot(10, 15, i+1)\n",
        "    plt.title(label)\n",
        "    plt.imshow(im_matrix, cmap='Greys', interpolation='None')\n",
        "\n",
        "    frame   = plt.gca()\n",
        "    frame.axes.get_xaxis().set_visible(False)\n",
        "    frame.axes.get_yaxis().set_visible(False)\n",
        "\n",
        "\n",
        "plt.show()\n",
        "\"\"\""
      ],
      "execution_count": 43,
      "outputs": [
        {
          "output_type": "execute_result",
          "data": {
            "text/plain": [
              "\"\\nf1 = plt.figure(1)\\n\\nfor i in range(150):\\n\\n    label       = list_label[i]\\n    im_vector   = list_image[:, i]\\n    im_matrix   = im_vector.reshape((size_row, size_col))\\n\\n    plt.subplot(10, 15, i+1)\\n    plt.title(label)\\n    plt.imshow(im_matrix, cmap='Greys', interpolation='None')\\n\\n    frame   = plt.gca()\\n    frame.axes.get_xaxis().set_visible(False)\\n    frame.axes.get_yaxis().set_visible(False)\\n\\n\\nplt.show()\\n\""
            ]
          },
          "metadata": {
            "tags": []
          },
          "execution_count": 43
        }
      ]
    },
    {
      "cell_type": "code",
      "metadata": {
        "id": "7VKi_5q0YRaT",
        "colab_type": "code",
        "outputId": "08503454-60c5-4675-f0b4-4f32abc33a1d",
        "colab": {
          "base_uri": "https://localhost:8080/",
          "height": 54
        }
      },
      "source": [
        "#\n",
        "# plot the average image of all the images for each digit\n",
        "#\n",
        "\"\"\"\n",
        "f2 = plt.figure(2)\n",
        "\n",
        "im_average  = np.zeros((size_row * size_col, 10), dtype=float)\n",
        "im_count    = np.zeros(10, dtype=int)\n",
        "\n",
        "for i in range(num_image):\n",
        "\n",
        "    im_average[:, list_label[i]] += list_image[:, i]\n",
        "    im_count[list_label[i]] += 1\n",
        "\n",
        "for i in range(10):\n",
        "\n",
        "    im_average[:, i] /= im_count[i]\n",
        "\n",
        "    plt.subplot(2, 5, i+1)\n",
        "    plt.title(i)\n",
        "    plt.imshow(im_average[:,i].reshape((size_row, size_col)), cmap='Greys', interpolation='None')\n",
        "\n",
        "    frame   = plt.gca()\n",
        "    frame.axes.get_xaxis().set_visible(False)\n",
        "    frame.axes.get_yaxis().set_visible(False)\n",
        "\n",
        "plt.show()\n",
        "\"\"\""
      ],
      "execution_count": 44,
      "outputs": [
        {
          "output_type": "execute_result",
          "data": {
            "text/plain": [
              "\"\\nf2 = plt.figure(2)\\n\\nim_average  = np.zeros((size_row * size_col, 10), dtype=float)\\nim_count    = np.zeros(10, dtype=int)\\n\\nfor i in range(num_image):\\n\\n    im_average[:, list_label[i]] += list_image[:, i]\\n    im_count[list_label[i]] += 1\\n\\nfor i in range(10):\\n\\n    im_average[:, i] /= im_count[i]\\n\\n    plt.subplot(2, 5, i+1)\\n    plt.title(i)\\n    plt.imshow(im_average[:,i].reshape((size_row, size_col)), cmap='Greys', interpolation='None')\\n\\n    frame   = plt.gca()\\n    frame.axes.get_xaxis().set_visible(False)\\n    frame.axes.get_yaxis().set_visible(False)\\n\\nplt.show()\\n\""
            ]
          },
          "metadata": {
            "tags": []
          },
          "execution_count": 44
        }
      ]
    },
    {
      "cell_type": "code",
      "metadata": {
        "id": "t92_gFR9YTNn",
        "colab_type": "code",
        "colab": {}
      },
      "source": [
        "image_data=[]\n",
        "for i in range(0,10000):\n",
        "  image_data.append(list_image[:, i])\n",
        "image_data=np.asarray(image_data)"
      ],
      "execution_count": 0,
      "outputs": []
    },
    {
      "cell_type": "code",
      "metadata": {
        "id": "ySodQn9YYUtl",
        "colab_type": "code",
        "colab": {}
      },
      "source": [
        "# y 값 구하기\n",
        "y=[]\n",
        "for i in range(0,10000):\n",
        "  temp_zero=np.zeros(10)\n",
        "  temp_zero[list_label[i]]=1\n",
        "  y.append(temp_zero)\n",
        "y=np.asarray(y)"
      ],
      "execution_count": 0,
      "outputs": []
    },
    {
      "cell_type": "code",
      "metadata": {
        "id": "XgxKXq7fYWAx",
        "colab_type": "code",
        "colab": {}
      },
      "source": [
        "# theta 구하기\n",
        "theta_1=np.random.normal(0,1.0,(196,785))\n",
        "theta_2=np.random.normal(0,1.0,(49,197))\n",
        "theta_3=np.random.normal(0,1.0,(10,50))"
      ],
      "execution_count": 0,
      "outputs": []
    },
    {
      "cell_type": "code",
      "metadata": {
        "id": "RgiuqosyYXiB",
        "colab_type": "code",
        "colab": {}
      },
      "source": [
        "# 배열을 받았을 때 vector 곱과 sigmoid 연산\n",
        "def nextA(x,theta): # x is matrix\n",
        "  mul=np.matmul(theta,x)\n",
        "  return 1/(1+np.exp(-mul))\n"
      ],
      "execution_count": 0,
      "outputs": []
    },
    {
      "cell_type": "code",
      "metadata": {
        "id": "MTmxCuE8YYwr",
        "colab_type": "code",
        "colab": {}
      },
      "source": [
        "# Variables\n",
        "\n",
        "# Last Index (마지막 비교용) for testing\n",
        "last_index=np.zeros(9000)\n",
        "\n",
        "# Objective 반복문 횟수 만큼\n",
        "train_objective=np.zeros(5000)\n",
        "train_accuracy=np.zeros(5000)\n",
        "\n",
        "test_objective=np.zeros(5000)\n",
        "test_accuracy=np.zeros(5000)\n",
        "\n",
        "# other variables\n",
        "m=1000 #train 은 1000회\n",
        "alpha=0.3 #가중치\n",
        "theta_size=np.size(theta_1)+np.size(theta_2)+np.size(theta_3)"
      ],
      "execution_count": 0,
      "outputs": []
    },
    {
      "cell_type": "code",
      "metadata": {
        "id": "Kj6bMklLdPJO",
        "colab_type": "code",
        "colab": {}
      },
      "source": [
        "alpha=0.06\n",
        "lamb=1000"
      ],
      "execution_count": 0,
      "outputs": []
    },
    {
      "cell_type": "code",
      "metadata": {
        "id": "-a8qaE0pY7hG",
        "colab_type": "code",
        "colab": {}
      },
      "source": [
        "i=0"
      ],
      "execution_count": 0,
      "outputs": []
    },
    {
      "cell_type": "code",
      "metadata": {
        "id": "IzOzLHdcY8wO",
        "colab_type": "code",
        "colab": {
          "base_uri": "https://localhost:8080/",
          "height": 345
        },
        "outputId": "898919ea-acc5-4d9d-82a4-19b448628f01"
      },
      "source": [
        "while(train_accuracy[i-1]<99):\n",
        "\n",
        "  #training\n",
        "  b_delta4=0\n",
        "  b_delta3=0\n",
        "  b_delta2=0\n",
        "\n",
        "  objective_sum=0\n",
        "\n",
        "  cor_count=0\n",
        "  theta_aver=(np.sum(np.square(theta_1))+np.sum(np.square(theta_2))+np.sum(np.square(theta_3)))/theta_size\n",
        "  #training\n",
        "  for j in range(0,1000):\n",
        "\n",
        "    # Forward Propagation\n",
        "\n",
        "    a1=image_data[j]\n",
        "    a1_=np.append(np.ones(1),a1)\n",
        "    a2=nextA(a1_,theta_1)\n",
        "    a2_=np.append(np.ones(1),a2)\n",
        "    a3=nextA(a2_,theta_2)\n",
        "    a3_=np.append(np.ones(1),a3)\n",
        "    a4=nextA(a3_,theta_3)\n",
        "    a4_=np.append(np.ones(1),a4)\n",
        "\n",
        "    # Compute Delta4\n",
        "    delta_4=a4-y[j]\n",
        "\n",
        "    # Compute Delta3 , Delta2\n",
        "    delta_3=np.matmul(np.transpose(theta_3),delta_4)*a3_*(1-a3_)\n",
        "    delta_2=np.matmul(np.transpose(theta_2),delta_3[1:])*a2_*(1-a2_)\n",
        "\n",
        "    # Compute(accumulate) big Delta4, Delta3, Delta2\n",
        "    #np.dot(delta_4.reshape(10,1),a3_.reshape(1,50))\n",
        "    b_delta4=b_delta4+np.dot(delta_4.reshape(10,1),a3_.reshape(1,50))\n",
        "    b_delta3=b_delta3+np.dot(delta_3[1:].reshape(49,1),a2_.reshape(1,197))\n",
        "    b_delta2=b_delta2+np.dot(delta_2[1:].reshape(196,1),a1_.reshape(1,785))\n",
        "\n",
        "    # Compute(accumulate) Objective\n",
        "    # L is based on Correct Answer\n",
        "    objective_sum=objective_sum+np.sum((-y[j]*np.log(a4))-(1-y[j])*np.log(1-a4))\n",
        "\n",
        "    # Compute the answer\n",
        "    ans=np.argmax(a4)\n",
        "\n",
        "    # Last Index\n",
        "    last_index[j]=ans\n",
        "\n",
        "    # Compute(accumulate) Accuracy\n",
        "    if ans==np.argmax(y[j]):\n",
        "      cor_count=cor_count+1\n",
        "\n",
        "  #testing\n",
        "  ans2=0\n",
        "  cor_count2=0\n",
        "  objective_sum2=0\n",
        "  \n",
        "  # Setting new Theta\n",
        "  theta_3=theta_3-alpha*(b_delta4/1000+lamb*theta_3/theta_size) #theta_size == n\n",
        "  theta_2=theta_2-alpha*(b_delta3/1000+lamb*theta_2/theta_size)\n",
        "  theta_1=theta_1-alpha*(b_delta2/1000+lamb*theta_1/theta_size)\n",
        "\n",
        "  for j in range(1000,10000): #9000 times\n",
        "\n",
        "    # Compute a4 for objective (Forward Propagation)\n",
        "\n",
        "    a1=image_data[j]\n",
        "    a1_=np.append(np.ones(1),a1)\n",
        "    a2=nextA(a1_,theta_1)\n",
        "    a2_=np.append(np.ones(1),a2)\n",
        "    a3=nextA(a2_,theta_2)\n",
        "    a3_=np.append(np.ones(1),a3)\n",
        "    a4=nextA(a3_,theta_3)\n",
        "\n",
        "    # Computing Objective Function\n",
        "    objective_sum2=objective_sum2+np.sum((-y[j]*np.log(a4))-(1-y[j])*np.log(1-a4))\n",
        "\n",
        "    # Compute the answer\n",
        "    ans2=np.argmax(a4)\n",
        "\n",
        "    # Compute(accumulate) Accuracy\n",
        "    if ans2==np.argmax(y[j]):\n",
        "      cor_count2=cor_count2+1\n",
        "\n",
        "  #checking objective function\n",
        "  train_objective[i]=objective_sum/1000+theta_aver*lamb/2\n",
        "  test_objective[i]=objective_sum2/9000+theta_aver*lamb/2\n",
        "  \n",
        "  #checking accuracy\n",
        "  train_accuracy[i]=cor_count/1000*100\n",
        "  test_accuracy[i]=cor_count2/9000*100\n",
        "\n",
        "  #next step\n",
        "  i=i+1"
      ],
      "execution_count": 56,
      "outputs": [
        {
          "output_type": "error",
          "ename": "KeyboardInterrupt",
          "evalue": "ignored",
          "traceback": [
            "\u001b[0;31m---------------------------------------------------------------------------\u001b[0m",
            "\u001b[0;31mKeyboardInterrupt\u001b[0m                         Traceback (most recent call last)",
            "\u001b[0;32m<ipython-input-56-72080897ce98>\u001b[0m in \u001b[0;36m<module>\u001b[0;34m()\u001b[0m\n\u001b[1;32m     69\u001b[0m     \u001b[0ma2\u001b[0m\u001b[0;34m=\u001b[0m\u001b[0mnextA\u001b[0m\u001b[0;34m(\u001b[0m\u001b[0ma1_\u001b[0m\u001b[0;34m,\u001b[0m\u001b[0mtheta_1\u001b[0m\u001b[0;34m)\u001b[0m\u001b[0;34m\u001b[0m\u001b[0;34m\u001b[0m\u001b[0m\n\u001b[1;32m     70\u001b[0m     \u001b[0ma2_\u001b[0m\u001b[0;34m=\u001b[0m\u001b[0mnp\u001b[0m\u001b[0;34m.\u001b[0m\u001b[0mappend\u001b[0m\u001b[0;34m(\u001b[0m\u001b[0mnp\u001b[0m\u001b[0;34m.\u001b[0m\u001b[0mones\u001b[0m\u001b[0;34m(\u001b[0m\u001b[0;36m1\u001b[0m\u001b[0;34m)\u001b[0m\u001b[0;34m,\u001b[0m\u001b[0ma2\u001b[0m\u001b[0;34m)\u001b[0m\u001b[0;34m\u001b[0m\u001b[0;34m\u001b[0m\u001b[0m\n\u001b[0;32m---> 71\u001b[0;31m     \u001b[0ma3\u001b[0m\u001b[0;34m=\u001b[0m\u001b[0mnextA\u001b[0m\u001b[0;34m(\u001b[0m\u001b[0ma2_\u001b[0m\u001b[0;34m,\u001b[0m\u001b[0mtheta_2\u001b[0m\u001b[0;34m)\u001b[0m\u001b[0;34m\u001b[0m\u001b[0;34m\u001b[0m\u001b[0m\n\u001b[0m\u001b[1;32m     72\u001b[0m     \u001b[0ma3_\u001b[0m\u001b[0;34m=\u001b[0m\u001b[0mnp\u001b[0m\u001b[0;34m.\u001b[0m\u001b[0mappend\u001b[0m\u001b[0;34m(\u001b[0m\u001b[0mnp\u001b[0m\u001b[0;34m.\u001b[0m\u001b[0mones\u001b[0m\u001b[0;34m(\u001b[0m\u001b[0;36m1\u001b[0m\u001b[0;34m)\u001b[0m\u001b[0;34m,\u001b[0m\u001b[0ma3\u001b[0m\u001b[0;34m)\u001b[0m\u001b[0;34m\u001b[0m\u001b[0;34m\u001b[0m\u001b[0m\n\u001b[1;32m     73\u001b[0m     \u001b[0ma4\u001b[0m\u001b[0;34m=\u001b[0m\u001b[0mnextA\u001b[0m\u001b[0;34m(\u001b[0m\u001b[0ma3_\u001b[0m\u001b[0;34m,\u001b[0m\u001b[0mtheta_3\u001b[0m\u001b[0;34m)\u001b[0m\u001b[0;34m\u001b[0m\u001b[0;34m\u001b[0m\u001b[0m\n",
            "\u001b[0;32m<ipython-input-9-bbc8676391e1>\u001b[0m in \u001b[0;36mnextA\u001b[0;34m(x, theta)\u001b[0m\n\u001b[1;32m      1\u001b[0m \u001b[0;31m# 배열을 받았을 때 vector 곱과 sigmoid 연산\u001b[0m\u001b[0;34m\u001b[0m\u001b[0;34m\u001b[0m\u001b[0;34m\u001b[0m\u001b[0m\n\u001b[1;32m      2\u001b[0m \u001b[0;32mdef\u001b[0m \u001b[0mnextA\u001b[0m\u001b[0;34m(\u001b[0m\u001b[0mx\u001b[0m\u001b[0;34m,\u001b[0m\u001b[0mtheta\u001b[0m\u001b[0;34m)\u001b[0m\u001b[0;34m:\u001b[0m \u001b[0;31m# x is matrix\u001b[0m\u001b[0;34m\u001b[0m\u001b[0;34m\u001b[0m\u001b[0m\n\u001b[0;32m----> 3\u001b[0;31m   \u001b[0mmul\u001b[0m\u001b[0;34m=\u001b[0m\u001b[0mnp\u001b[0m\u001b[0;34m.\u001b[0m\u001b[0mmatmul\u001b[0m\u001b[0;34m(\u001b[0m\u001b[0mtheta\u001b[0m\u001b[0;34m,\u001b[0m\u001b[0mx\u001b[0m\u001b[0;34m)\u001b[0m\u001b[0;34m\u001b[0m\u001b[0;34m\u001b[0m\u001b[0m\n\u001b[0m\u001b[1;32m      4\u001b[0m   \u001b[0;32mreturn\u001b[0m \u001b[0;36m1\u001b[0m\u001b[0;34m/\u001b[0m\u001b[0;34m(\u001b[0m\u001b[0;36m1\u001b[0m\u001b[0;34m+\u001b[0m\u001b[0mnp\u001b[0m\u001b[0;34m.\u001b[0m\u001b[0mexp\u001b[0m\u001b[0;34m(\u001b[0m\u001b[0;34m-\u001b[0m\u001b[0mmul\u001b[0m\u001b[0;34m)\u001b[0m\u001b[0;34m)\u001b[0m\u001b[0;34m\u001b[0m\u001b[0;34m\u001b[0m\u001b[0m\n",
            "\u001b[0;31mKeyboardInterrupt\u001b[0m: "
          ]
        }
      ]
    },
    {
      "cell_type": "code",
      "metadata": {
        "id": "LYY-8yfxtxKn",
        "colab_type": "code",
        "outputId": "8366a2b2-cb9c-4b85-84d0-348220351bce",
        "colab": {
          "base_uri": "https://localhost:8080/",
          "height": 34
        }
      },
      "source": [
        "i"
      ],
      "execution_count": 57,
      "outputs": [
        {
          "output_type": "execute_result",
          "data": {
            "text/plain": [
              "1651"
            ]
          },
          "metadata": {
            "tags": []
          },
          "execution_count": 57
        }
      ]
    },
    {
      "cell_type": "markdown",
      "metadata": {
        "id": "FAByKpx1-NBu",
        "colab_type": "text"
      },
      "source": [
        "# ***1. Plot the Loss Curve***"
      ]
    },
    {
      "cell_type": "markdown",
      "metadata": {
        "id": "Xw7sEF1ZOMlJ",
        "colab_type": "text"
      },
      "source": [
        "*Loss* Curve [0,1000]"
      ]
    },
    {
      "cell_type": "code",
      "metadata": {
        "id": "A4UInWCjN_w2",
        "colab_type": "code",
        "outputId": "42586d0c-7474-4117-e0b2-e05c45a76332",
        "colab": {
          "base_uri": "https://localhost:8080/",
          "height": 282
        }
      },
      "source": [
        "plt.scatter(range(0,i),train_objective[:i],c=\"#ff0000\",s=1)\n",
        "plt.scatter(range(0,i),test_objective[:i],c=\"#0000ff\",s=1)\n",
        "print(\"train: red test: blue\")"
      ],
      "execution_count": 64,
      "outputs": [
        {
          "output_type": "stream",
          "text": [
            "train: red test: blue\n"
          ],
          "name": "stdout"
        },
        {
          "output_type": "display_data",
          "data": {
            "image/png": "[encoded data removed]",
            "text/plain": [
              "<Figure size 432x288 with 1 Axes>"
            ]
          },
          "metadata": {
            "tags": [],
            "needs_background": "light"
          }
        }
      ]
    },
    {
      "cell_type": "markdown",
      "metadata": {
        "id": "ZOr1oTQ2G8uu",
        "colab_type": "text"
      },
      "source": [
        "*Loss* Curve [1000,i]"
      ]
    },
    {
      "cell_type": "code",
      "metadata": {
        "id": "G2lSgJvwG0UT",
        "colab_type": "code",
        "colab": {
          "base_uri": "https://localhost:8080/",
          "height": 282
        },
        "outputId": "787baae5-76d3-4bd4-d53c-872f302c1ddf"
      },
      "source": [
        "plt.scatter(range(1000,i),train_objective[1000:i],c=\"#ff0000\",s=1)\n",
        "plt.scatter(range(1000,i),test_objective[1000:i],c=\"#0000ff\",s=1)\n",
        "print(\"train: red test: blue\")"
      ],
      "execution_count": 59,
      "outputs": [
        {
          "output_type": "stream",
          "text": [
            "train: red test: blue\n"
          ],
          "name": "stdout"
        },
        {
          "output_type": "display_data",
          "data": {
            "image/png": "[encoded data removed]",
            "text/plain": [
              "<Figure size 432x288 with 1 Axes>"
            ]
          },
          "metadata": {
            "tags": [],
            "needs_background": "light"
          }
        }
      ]
    },
    {
      "cell_type": "markdown",
      "metadata": {
        "id": "WBOlob4z-TQ4",
        "colab_type": "text"
      },
      "source": [
        "# ***2. Plot the Accuracy Curve***"
      ]
    },
    {
      "cell_type": "code",
      "metadata": {
        "id": "YLmXJ7xce485",
        "colab_type": "code",
        "outputId": "ae65594c-c6fb-495d-8535-164939f5f362",
        "colab": {
          "base_uri": "https://localhost:8080/",
          "height": 304
        }
      },
      "source": [
        "plt.scatter(range(0,i),train_accuracy[:i],c=\"#ff0000\")\n",
        "plt.scatter(range(0,i),test_accuracy[:i],c=\"#0000ff\")\n",
        "print(\"train: red \\ntest: blue\")"
      ],
      "execution_count": 60,
      "outputs": [
        {
          "output_type": "stream",
          "text": [
            "train: red \n",
            "test: blue\n"
          ],
          "name": "stdout"
        },
        {
          "output_type": "display_data",
          "data": {
            "image/png": "[encoded data removed]",
            "text/plain": [
              "<Figure size 432x288 with 1 Axes>"
            ]
          },
          "metadata": {
            "tags": [],
            "needs_background": "light"
          }
        }
      ]
    },
    {
      "cell_type": "markdown",
      "metadata": {
        "id": "IUZNF5w4-Crw",
        "colab_type": "text"
      },
      "source": [
        "# ***3. Plot the Accuracy Value***"
      ]
    },
    {
      "cell_type": "code",
      "metadata": {
        "id": "o1Kf2XbSCLuT",
        "colab_type": "code",
        "outputId": "33444fe6-5d67-46ad-e1b1-ad652204fb48",
        "colab": {
          "base_uri": "https://localhost:8080/",
          "height": 52
        }
      },
      "source": [
        "print(train_accuracy[i-1])\n",
        "print(test_accuracy[i-1])"
      ],
      "execution_count": 63,
      "outputs": [
        {
          "output_type": "stream",
          "text": [
            "95.7\n",
            "86.97777777777777\n"
          ],
          "name": "stdout"
        }
      ]
    },
    {
      "cell_type": "markdown",
      "metadata": {
        "id": "gCpxXikv-cTx",
        "colab_type": "text"
      },
      "source": [
        "# ***4. Plot the Classification Example***"
      ]
    },
    {
      "cell_type": "code",
      "metadata": {
        "id": "isQiyACF-AZB",
        "colab_type": "code",
        "outputId": "acc822d4-ec30-4f14-be4b-bcd4d74c34f7",
        "colab": {
          "base_uri": "https://localhost:8080/",
          "height": 214
        }
      },
      "source": [
        "#Correctly\n",
        "f3=plt.figure(3)\n",
        "cor=np.zeros(10)\n",
        "index=0\n",
        "image_count1=1\n",
        "for index in range(0,6000):\n",
        "  if 0 in cor:\n",
        "    if last_index[index]==list_label[index]:\n",
        "      cor[int(last_index[index])]=index\n",
        "  index=index+1\n",
        "\n",
        "image_count2=1\n",
        "for index in range(0,10):\n",
        "  plt.subplot(2,5,image_count2)\n",
        "  plt.imshow(image_data[int(cor[index])].reshape((size_row,size_col)),cmap='Greys',interpolation='None')\n",
        "  frame=plt.gca()\n",
        "  frame.axes.get_xaxis().set_visible(False) \n",
        "  image_count2=image_count2+1\n",
        "plt.show()"
      ],
      "execution_count": 19,
      "outputs": [
        {
          "output_type": "display_data",
          "data": {
            "image/png": "[encoded data removed]",
            "text/plain": [
              "<Figure size 432x288 with 10 Axes>"
            ]
          },
          "metadata": {
            "tags": [],
            "needs_background": "light"
          }
        }
      ]
    },
    {
      "cell_type": "code",
      "metadata": {
        "id": "XDvjbqDTkIZV",
        "colab_type": "code",
        "outputId": "40717d9f-6862-42db-dd83-26d67a520390",
        "colab": {
          "base_uri": "https://localhost:8080/",
          "height": 214
        }
      },
      "source": [
        "#misclassified\n",
        "f3=plt.figure(3)\n",
        "mis=np.zeros(10)\n",
        "index=0\n",
        "image_count1=1\n",
        "for index in range(0,6000):\n",
        "  if 0 in mis:\n",
        "    if last_index[index]!=list_label[index]:\n",
        "      mis[int(last_index[index])]=index\n",
        "\n",
        "image_count2=1\n",
        "for index in range(0,10):\n",
        "  plt.subplot(2,5,image_count2)\n",
        "  plt.imshow(image_data[int(mis[index])].reshape((size_row,size_col)),cmap='Greys',interpolation='None')\n",
        "  frame=plt.gca()\n",
        "  frame.axes.get_xaxis().set_visible(False) \n",
        "  image_count2=image_count2+1\n",
        "plt.show()"
      ],
      "execution_count": 20,
      "outputs": [
        {
          "output_type": "display_data",
          "data": {
            "image/png": "[encoded data removed]",
            "text/plain": [
              "<Figure size 432x288 with 10 Axes>"
            ]
          },
          "metadata": {
            "tags": [],
            "needs_background": "light"
          }
        }
      ]
    }
  ]
}