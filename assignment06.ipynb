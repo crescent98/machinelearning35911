{
  "nbformat": 4,
  "nbformat_minor": 0,
  "metadata": {
    "colab": {
      "name": "assignment06.ipynb",
      "provenance": [],
      "authorship_tag": "ABX9TyOedgjrhVSE70T4stc00qPk",
      "include_colab_link": true
    },
    "kernelspec": {
      "name": "python3",
      "display_name": "Python 3"
    }
  },
  "cells": [
    {
      "cell_type": "markdown",
      "metadata": {
        "id": "view-in-github",
        "colab_type": "text"
      },
      "source": [
        "<a href=\"https://colab.research.google.com/github/crescent98/machinelearning35911/blob/master/assignment06.ipynb\" target=\"_parent\"><img src=\"https://colab.research.google.com/assets/colab-badge.svg\" alt=\"Open In Colab\"/></a>"
      ]
    },
    {
      "cell_type": "code",
      "metadata": {
        "id": "DA2lC4yz7CM0",
        "colab_type": "code",
        "outputId": "f373140b-40e6-453e-9664-174b42780262",
        "colab": {
          "base_uri": "https://localhost:8080/",
          "height": 297
        }
      },
      "source": [
        "import numpy as np\n",
        "import matplotlib.pyplot as plt\n",
        "\n",
        "data    = np.genfromtxt(\"data-nonlinear.txt\", delimiter=',')\n",
        "\n",
        "pointX  = data[:, 0]\n",
        "pointY  = data[:, 1]\n",
        "label   = data[:, 2]\n",
        "\n",
        "pointX0 = pointX[label == 0]\n",
        "pointY0 = pointY[label == 0]\n",
        "\n",
        "pointX1 = pointX[label == 1]\n",
        "pointY1 = pointY[label == 1]\n",
        "\n",
        "plt.figure()\n",
        "plt.scatter(pointX0, pointY0, c='b')\n",
        "plt.scatter(pointX1, pointY1, c='r')\n",
        "plt.tight_layout()\n",
        "plt.gca().set_aspect('equal', adjustable='box')\n",
        "plt.show()\n"
      ],
      "execution_count": 86,
      "outputs": [
        {
          "output_type": "display_data",
          "data": {
            "image/png": "[encoded data removed]",
            "text/plain": [
              "<Figure size 432x288 with 1 Axes>"
            ]
          },
          "metadata": {
            "tags": [],
            "needs_background": "light"
          }
        }
      ]
    },
    {
      "cell_type": "code",
      "metadata": {
        "id": "DqeDOBOonEIC",
        "colab_type": "code",
        "colab": {
          "base_uri": "https://localhost:8080/",
          "height": 35
        },
        "outputId": "d27fa87d-02f9-4a1f-bc82-15b8b5b8d4b7"
      },
      "source": [
        "from scipy import misc\n",
        "\n",
        "def function(x,y):\n",
        "  return (x*x+y*x)\n",
        "\n",
        "misc.derivative(function,3,args=(3,))"
      ],
      "execution_count": 87,
      "outputs": [
        {
          "output_type": "execute_result",
          "data": {
            "text/plain": [
              "9.0"
            ]
          },
          "metadata": {
            "tags": []
          },
          "execution_count": 87
        }
      ]
    },
    {
      "cell_type": "markdown",
      "metadata": {
        "id": "0ghX5vKkz98h",
        "colab_type": "text"
      },
      "source": [
        "# ***Logistic Regression_Functions***"
      ]
    },
    {
      "cell_type": "code",
      "metadata": {
        "id": "IRLXh8Ej0Azx",
        "colab_type": "code",
        "colab": {}
      },
      "source": [
        "def z_function(theta,x,y): #[theta0, theta1, theta2, theta3, theta4, theta5, theta6, theta7]\n",
        "  return (theta[0]+theta[1]*x+theta[2]*x*x+theta[3]*x*x*x+theta[4]*y+theta[5]*y*y+theta[6]*y*y*y+theta[7]*x*y)\n",
        "\n",
        "def h_function(theta,x,y):\n",
        "  return (1/(1+np.exp((-1)*z_function(theta,x,y))))\n",
        "\n",
        "def objective_function(m,theta,data): #[x,y,i] 로 구성된 data, [theta0, theta1, ... theta6, theta7]로 구성된 theta\n",
        "  sum=0\n",
        "  for i in range(0,m):\n",
        "    if data[i][2]==0:\n",
        "      sum=sum-np.log(1-h_function(theta,data[i][0],data[i][1]))\n",
        "    elif data[i][2]==1:\n",
        "      sum=sum-np.log(h_function(theta,data[i][0],data[i][1]))\n",
        "  return (sum/m)\n",
        "\n",
        "  #Gradient descent\n",
        "def next_theta(m,a,theta,data):\n",
        "  next_theta=[]\n",
        "  sum=0\n",
        "  for i in range(0,8):\n",
        "    sum=0\n",
        "    if i==0:\n",
        "      for j in range(0,m):\n",
        "        sum=sum+(h_function(theta,data[j][0],data[j][1])-data[j][2])\n",
        "    elif i>0 and i<4:\n",
        "      for j in range(0,m):\n",
        "        mul_temp=1\n",
        "        for k in range(0,i):\n",
        "          mul_temp=mul_temp*data[j][0]\n",
        "        sum=sum+(h_function(theta,data[j][0],data[j][1])-data[j][2])*mul_temp\n",
        "    elif i>=4 and i<7:\n",
        "      for j in range(0,m):\n",
        "        mul_temp=1\n",
        "        for k in range(0,i-3):\n",
        "          mul_temp=mul_temp*data[j][1]\n",
        "        sum=sum+(h_function(theta,data[j][0],data[j][1])-data[j][2])*mul_temp\n",
        "    elif i==7:\n",
        "      for j in range(0,m):\n",
        "        mul_temp=data[j][0]*data[j][1] #x*y\n",
        "        sum=sum+(h_function(theta,data[j][0],data[j][1])-data[j][2])*mul_temp\n",
        "    next_theta.append(theta[i]-a*(sum/m))\n",
        "  return next_theta\n",
        "\n",
        "\n",
        "  #Gradient\n",
        "def gradient(theta,m,data):\n",
        "  theta_count=len(theta)\n",
        "  total=0\n",
        "  sum=[]\n",
        "  sum_temp=0\n",
        "  for i in range(0,theta_count):\n",
        "    sum_temp=0\n",
        "    if i==0:\n",
        "      for j in range(0,m):\n",
        "        sum_temp=sum_temp+(h_function(theta,data[j][0],data[j][1])-data[j][2])\n",
        "    elif i>0 and i<4:\n",
        "      for j in range(0,m):\n",
        "        mul_temp=1\n",
        "        for k in range(0,i+1):\n",
        "          mul_temp=mul_temp*data[j][0] #x, x^1, x^2\n",
        "        sum_temp=sum_temp+(h_function(theta,data[j][0],data[j][1])-data[j][2])*mul_temp\n",
        "    elif i>=4 and i<7:\n",
        "      for j in range(0,m):\n",
        "        mul_temp=1\n",
        "        for k in range(0,i-2):\n",
        "          mul_temp=mul_temp*data[j][1] #y, y^1, y^2\n",
        "        sum_temp=sum_temp+(h_function(theta,data[j][0],data[j][1])-data[j][2])*mul_temp\n",
        "    elif i==7:\n",
        "      for j in range(0,m):\n",
        "        mul_temp=data[j][0]*data[j][1] #x*y\n",
        "        sum_temp=sum_temp+(h_function(theta,data[j][0],data[j][1])-data[j][2])*mul_temp\n",
        "    sum.append(np.square(sum_temp))\n",
        "  for i in range(0,len(sum)):\n",
        "    total=total+sum[i]\n",
        "  return np.sqrt(total/m)"
      ],
      "execution_count": 0,
      "outputs": []
    },
    {
      "cell_type": "markdown",
      "metadata": {
        "id": "mJDxpc-2Ie4h",
        "colab_type": "text"
      },
      "source": [
        "# ***Logistic Regression_Variables***"
      ]
    },
    {
      "cell_type": "code",
      "metadata": {
        "id": "cMz-o8nWIhoV",
        "colab_type": "code",
        "colab": {}
      },
      "source": [
        "m=len(data)\n",
        "a=0.01\n",
        "objective=[]\n",
        "#values of cost function results\n",
        "theta=[]\n",
        "#theta0, theta1, theta2, theta3, theta4, theta5, theta6\n",
        "gradient_data=[]\n",
        "i=0\n",
        "theta_temp=[0.01,0.01,0.01,0.01,0.01,0.01,0.01,0.01]"
      ],
      "execution_count": 0,
      "outputs": []
    },
    {
      "cell_type": "code",
      "metadata": {
        "id": "CmIBicSaQrO4",
        "colab_type": "code",
        "colab": {
          "base_uri": "https://localhost:8080/",
          "height": 35
        },
        "outputId": "8ba07916-af36-4420-aa67-a313a9df3e14"
      },
      "source": [
        "theta_temp"
      ],
      "execution_count": 90,
      "outputs": [
        {
          "output_type": "execute_result",
          "data": {
            "text/plain": [
              "[0.01, 0.01, 0.01, 0.01, 0.01, 0.01, 0.01, 0.01]"
            ]
          },
          "metadata": {
            "tags": []
          },
          "execution_count": 90
        }
      ]
    },
    {
      "cell_type": "code",
      "metadata": {
        "id": "ibf8JlcuIpCp",
        "colab_type": "code",
        "colab": {}
      },
      "source": [
        "while gradient(theta_temp,m,data)>0.05:\n",
        "  objective.append(objective_function(m,theta_temp,data))\n",
        "  theta.append(theta_temp)\n",
        "  theta_temp=next_theta(m,a,theta_temp,data)\n",
        "  i=i+1"
      ],
      "execution_count": 0,
      "outputs": []
    },
    {
      "cell_type": "code",
      "metadata": {
        "id": "yKg8fGz7Nw-C",
        "colab_type": "code",
        "colab": {
          "base_uri": "https://localhost:8080/",
          "height": 35
        },
        "outputId": "13bbf3eb-836d-44dc-8a61-2a7fbe74d7cb"
      },
      "source": [
        "gradient(theta_temp,m,data)"
      ],
      "execution_count": 125,
      "outputs": [
        {
          "output_type": "execute_result",
          "data": {
            "text/plain": [
              "0.04743493999519502"
            ]
          },
          "metadata": {
            "tags": []
          },
          "execution_count": 125
        }
      ]
    },
    {
      "cell_type": "code",
      "metadata": {
        "id": "pAraSan6aMjm",
        "colab_type": "code",
        "colab": {
          "base_uri": "https://localhost:8080/",
          "height": 35
        },
        "outputId": "a5ba3ed4-f9f6-49b5-f19e-43e7b60c18f4"
      },
      "source": [
        "i"
      ],
      "execution_count": 126,
      "outputs": [
        {
          "output_type": "execute_result",
          "data": {
            "text/plain": [
              "138880"
            ]
          },
          "metadata": {
            "tags": []
          },
          "execution_count": 126
        }
      ]
    },
    {
      "cell_type": "code",
      "metadata": {
        "id": "sYlOmvqjJKvP",
        "colab_type": "code",
        "colab": {
          "base_uri": "https://localhost:8080/",
          "height": 159
        },
        "outputId": "927b5347-e2dd-4908-90df-f7f12eb622f6"
      },
      "source": [
        "theta_temp"
      ],
      "execution_count": 127,
      "outputs": [
        {
          "output_type": "execute_result",
          "data": {
            "text/plain": [
              "[4.111687282396821,\n",
              " 2.586205037709423,\n",
              " -9.812683953058125,\n",
              " -0.2645837443967204,\n",
              " 4.193990543033309,\n",
              " -8.513089345878177,\n",
              " -2.473262631617759,\n",
              " -5.64232338250924]"
            ]
          },
          "metadata": {
            "tags": []
          },
          "execution_count": 127
        }
      ]
    },
    {
      "cell_type": "code",
      "metadata": {
        "id": "zpyQH8_nJgiC",
        "colab_type": "code",
        "colab": {}
      },
      "source": [
        "theta_0=[]\n",
        "for i in range(0,len(theta)):\n",
        "  theta_0.append(theta[i][0])\n",
        "theta_1=[]\n",
        "for i in range(0,len(theta)):\n",
        "  theta_1.append(theta[i][1])\n",
        "theta_2=[]\n",
        "for i in range(0,len(theta)):\n",
        "  theta_2.append(theta[i][2])\n",
        "theta_3=[]\n",
        "for i in range(0,len(theta)):\n",
        "  theta_3.append(theta[i][3])\n",
        "theta_4=[]\n",
        "for i in range(0,len(theta)):\n",
        "  theta_4.append(theta[i][4])\n",
        "theta_5=[]\n",
        "for i in range(0,len(theta)):\n",
        "  theta_5.append(theta[i][5])\n",
        "theta_6=[]\n",
        "for i in range(0,len(theta)):\n",
        "  theta_6.append(theta[i][6])"
      ],
      "execution_count": 0,
      "outputs": []
    },
    {
      "cell_type": "code",
      "metadata": {
        "id": "AyxuHBv0JsMM",
        "colab_type": "code",
        "colab": {
          "base_uri": "https://localhost:8080/",
          "height": 283
        },
        "outputId": "2716e191-9902-4d5f-eab3-1801c79407bc"
      },
      "source": [
        "plt.scatter(range(0,i+1),theta_0,c='#ff0000',s=5)\n",
        "plt.scatter(range(0,i+1),theta_1,c='#008000',s=5)\n",
        "plt.scatter(range(0,i+1),theta_2,c='#ffff00',s=5)\n",
        "plt.scatter(range(0,i+1),theta_3,c='#ff007f',s=5)\n",
        "plt.scatter(range(0,i+1),theta_4,c='#006633',s=5)\n",
        "plt.scatter(range(0,i+1),theta_5,c='#00ffff',s=5)\n",
        "plt.scatter(range(0,i+1),theta_6,c='#ff00ff',s=5)"
      ],
      "execution_count": 129,
      "outputs": [
        {
          "output_type": "execute_result",
          "data": {
            "text/plain": [
              "<matplotlib.collections.PathCollection at 0x7fa0aee2d0f0>"
            ]
          },
          "metadata": {
            "tags": []
          },
          "execution_count": 129
        },
        {
          "output_type": "display_data",
          "data": {
            "image/png": "[encoded data removed]",
            "text/plain": [
              "<Figure size 432x288 with 1 Axes>"
            ]
          },
          "metadata": {
            "tags": [],
            "needs_background": "light"
          }
        }
      ]
    },
    {
      "cell_type": "code",
      "metadata": {
        "id": "wvz423FXJ11E",
        "colab_type": "code",
        "colab": {
          "base_uri": "https://localhost:8080/",
          "height": 283
        },
        "outputId": "3540738f-cec4-4857-a371-d0b95930839e"
      },
      "source": [
        "plt.scatter(range(0,i+1),objective,c=\"#0000ff\")"
      ],
      "execution_count": 130,
      "outputs": [
        {
          "output_type": "execute_result",
          "data": {
            "text/plain": [
              "<matplotlib.collections.PathCollection at 0x7fa0aed89668>"
            ]
          },
          "metadata": {
            "tags": []
          },
          "execution_count": 130
        },
        {
          "output_type": "display_data",
          "data": {
            "image/png": "[encoded data removed]",
            "text/plain": [
              "<Figure size 432x288 with 1 Axes>"
            ]
          },
          "metadata": {
            "tags": [],
            "needs_background": "light"
          }
        }
      ]
    }
  ]
}