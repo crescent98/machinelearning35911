{
  "nbformat": 4,
  "nbformat_minor": 0,
  "metadata": {
    "colab": {
      "name": "assignment06.ipynb",
      "provenance": [],
      "authorship_tag": "ABX9TyOKoqN/vw/79pF0m03fpqtR",
      "include_colab_link": true
    },
    "kernelspec": {
      "name": "python3",
      "display_name": "Python 3"
    }
  },
  "cells": [
    {
      "cell_type": "markdown",
      "metadata": {
        "id": "view-in-github",
        "colab_type": "text"
      },
      "source": [
        "<a href=\"https://colab.research.google.com/github/crescent98/machinelearning35911/blob/master/assignment06.ipynb\" target=\"_parent\"><img src=\"https://colab.research.google.com/assets/colab-badge.svg\" alt=\"Open In Colab\"/></a>"
      ]
    },
    {
      "cell_type": "code",
      "metadata": {
        "id": "DA2lC4yz7CM0",
        "colab_type": "code",
        "colab": {}
      },
      "source": [
        "import numpy as np\n",
        "import matplotlib.pyplot as plt"
      ],
      "execution_count": 0,
      "outputs": []
    },
    {
      "cell_type": "markdown",
      "metadata": {
        "id": "0ghX5vKkz98h",
        "colab_type": "text"
      },
      "source": [
        "# ***Logistic Regression_Functions***"
      ]
    },
    {
      "cell_type": "code",
      "metadata": {
        "id": "IRLXh8Ej0Azx",
        "colab_type": "code",
        "colab": {}
      },
      "source": [
        "def z_function(theta,x,y): #[theta0, theta1, theta2, theta3, theta4, theta5, theta6, theta7]\n",
        "  return (theta[0]+theta[1]*x+theta[2]*x*x+theta[3]*x*x*x+theta[4]*y+theta[5]*y*y+theta[6]*y*y*y+theta[7]*x*y)\n",
        "\n",
        "def h_function(theta,x,y):\n",
        "  return (1/(1+np.exp((-1)*z_function(theta,x,y))))\n",
        "\n",
        "def objective_function(m,theta,data): #[x,y,i] 로 구성된 data, [theta0, theta1, ... theta6, theta7]로 구성된 theta\n",
        "  sum=0\n",
        "  for i in range(0,m):\n",
        "    if data[i][2]==0:\n",
        "      sum=sum-np.log(1-h_function(theta,data[i][0],data[i][1]))\n",
        "    elif data[i][2]==1:\n",
        "      sum=sum-np.log(h_function(theta,data[i][0],data[i][1]))\n",
        "  return (sum/m)\n",
        " \n",
        "  #Gradient descent\n",
        "def next_theta(m,a,theta,data):\n",
        "  next_theta=[]\n",
        "  sum=0\n",
        "  for i in range(0,8):\n",
        "    sum=0\n",
        "    if i==0:\n",
        "      for j in range(0,m):\n",
        "        sum=sum+(h_function(theta,data[j][0],data[j][1])-data[j][2])\n",
        "    elif i>0 and i<4:\n",
        "      for j in range(0,m):\n",
        "        mul_temp=1\n",
        "        for k in range(0,i):\n",
        "          mul_temp=mul_temp*data[j][0]\n",
        "        sum=sum+(h_function(theta,data[j][0],data[j][1])-data[j][2])*mul_temp\n",
        "    elif i>=4 and i<7:\n",
        "      for j in range(0,m):\n",
        "        mul_temp=1\n",
        "        for k in range(0,i-3):\n",
        "          mul_temp=mul_temp*data[j][1]\n",
        "        sum=sum+(h_function(theta,data[j][0],data[j][1])-data[j][2])*mul_temp\n",
        "    elif i==7:\n",
        "      for j in range(0,m):\n",
        "        mul_temp=data[j][0]*data[j][1] #x*y\n",
        "        sum=sum+(h_function(theta,data[j][0],data[j][1])-data[j][2])*mul_temp\n",
        "    next_theta.append(theta[i]-a*(sum/m))\n",
        "  return next_theta\n",
        "\n",
        "\n",
        "  #Gradient\n",
        "def gradient(theta,m,data):\n",
        "  theta_count=len(theta)\n",
        "  total=0\n",
        "  sum=[]\n",
        "  sum_temp=0\n",
        "  for i in range(0,theta_count):\n",
        "    sum_temp=0\n",
        "    if i==0:\n",
        "      for j in range(0,m):\n",
        "        sum_temp=sum_temp+(h_function(theta,data[j][0],data[j][1])-data[j][2])\n",
        "    elif i>0 and i<4:\n",
        "      for j in range(0,m):\n",
        "        mul_temp=1\n",
        "        for k in range(0,i+1):\n",
        "          mul_temp=mul_temp*data[j][0] #x, x^1, x^2\n",
        "        sum_temp=sum_temp+(h_function(theta,data[j][0],data[j][1])-data[j][2])*mul_temp\n",
        "    elif i>=4 and i<7:\n",
        "      for j in range(0,m):\n",
        "        mul_temp=1\n",
        "        for k in range(0,i-2):\n",
        "          mul_temp=mul_temp*data[j][1] #y, y^1, y^2\n",
        "        sum_temp=sum_temp+(h_function(theta,data[j][0],data[j][1])-data[j][2])*mul_temp\n",
        "    elif i==7:\n",
        "      for j in range(0,m):\n",
        "        mul_temp=data[j][0]*data[j][1] #x*y\n",
        "        sum_temp=sum_temp+(h_function(theta,data[j][0],data[j][1])-data[j][2])*mul_temp\n",
        "    sum.append(np.square(sum_temp))\n",
        "  for i in range(0,len(sum)):\n",
        "    total=total+sum[i]\n",
        "  return np.sqrt(total/m)"
      ],
      "execution_count": 0,
      "outputs": []
    },
    {
      "cell_type": "markdown",
      "metadata": {
        "id": "mJDxpc-2Ie4h",
        "colab_type": "text"
      },
      "source": [
        "# ***Logistic Regression_Variables***"
      ]
    },
    {
      "cell_type": "code",
      "metadata": {
        "id": "cMz-o8nWIhoV",
        "colab_type": "code",
        "colab": {}
      },
      "source": [
        "m=len(data)\n",
        "a=0.01\n",
        "objective=[]\n",
        "#values of cost function results\n",
        "theta=[]\n",
        "#theta0, theta1, theta2, theta3, theta4, theta5, theta6\n",
        "gradient_data=[]\n",
        "i=0\n",
        "theta_temp=[1,1,-5,-0.01,4,-5,-5.10,-10]"
      ],
      "execution_count": 0,
      "outputs": []
    },
    {
      "cell_type": "code",
      "metadata": {
        "id": "ibf8JlcuIpCp",
        "colab_type": "code",
        "colab": {}
      },
      "source": [
        "while gradient(theta_temp,m,data)>0.1:\n",
        "  objective.append(objective_function(m,theta_temp,data))\n",
        "  theta.append(theta_temp)\n",
        "  theta_temp=next_theta(m,a,theta_temp,data)\n",
        "  i=i+1"
      ],
      "execution_count": 0,
      "outputs": []
    },
    {
      "cell_type": "code",
      "metadata": {
        "id": "kDvpPpmJtTie",
        "colab_type": "code",
        "colab": {
          "base_uri": "https://localhost:8080/",
          "height": 35
        },
        "outputId": "8c965fa5-cbe7-4166-fd9e-e933cfffa3ff"
      },
      "source": [
        "gradient(theta_temp,m,data)"
      ],
      "execution_count": 189,
      "outputs": [
        {
          "output_type": "execute_result",
          "data": {
            "text/plain": [
              "0.1461746403085016"
            ]
          },
          "metadata": {
            "tags": []
          },
          "execution_count": 189
        }
      ]
    },
    {
      "cell_type": "code",
      "metadata": {
        "id": "zpyQH8_nJgiC",
        "colab_type": "code",
        "colab": {}
      },
      "source": [
        "theta_0=[]\n",
        "for i in range(0,len(theta)):\n",
        "  theta_0.append(theta[i][0])\n",
        "theta_1=[]\n",
        "for i in range(0,len(theta)):\n",
        "  theta_1.append(theta[i][1])\n",
        "theta_2=[]\n",
        "for i in range(0,len(theta)):\n",
        "  theta_2.append(theta[i][2])\n",
        "theta_3=[]\n",
        "for i in range(0,len(theta)):\n",
        "  theta_3.append(theta[i][3])\n",
        "theta_4=[]\n",
        "for i in range(0,len(theta)):\n",
        "  theta_4.append(theta[i][4])\n",
        "theta_5=[]\n",
        "for i in range(0,len(theta)):\n",
        "  theta_5.append(theta[i][5])\n",
        "theta_6=[]\n",
        "for i in range(0,len(theta)):\n",
        "  theta_6.append(theta[i][6])"
      ],
      "execution_count": 0,
      "outputs": []
    },
    {
      "cell_type": "markdown",
      "metadata": {
        "id": "ECQCOa3Opd_d",
        "colab_type": "text"
      },
      "source": [
        "# *Results*"
      ]
    },
    {
      "cell_type": "code",
      "metadata": {
        "id": "kKL1VMmOqBFy",
        "colab_type": "code",
        "colab": {}
      },
      "source": [
        "data    = np.genfromtxt(\"data-nonlinear.txt\", delimiter=',')\n",
        "\n",
        "pointX  = data[:, 0]\n",
        "pointY  = data[:, 1]\n",
        "label   = data[:, 2]\n",
        "\n",
        "pointX0 = pointX[label == 0]\n",
        "pointY0 = pointY[label == 0]\n",
        "\n",
        "pointX1 = pointX[label == 1]\n",
        "pointY1 = pointY[label == 1]\n",
        "\n",
        "plt.figure()\n",
        "plt.scatter(pointX0, pointY0, c='b')\n",
        "plt.scatter(pointX1, pointY1, c='r')\n",
        "plt.tight_layout()\n",
        "plt.gca().set_aspect('equal', adjustable='box')\n",
        "plt.show()\n"
      ],
      "execution_count": 0,
      "outputs": []
    },
    {
      "cell_type": "markdown",
      "metadata": {
        "id": "BoS3aPw-pmME",
        "colab_type": "text"
      },
      "source": [
        "# ***(optional) Infortmation of theta while gradient descent***"
      ]
    },
    {
      "cell_type": "code",
      "metadata": {
        "id": "AyxuHBv0JsMM",
        "colab_type": "code",
        "colab": {
          "base_uri": "https://localhost:8080/",
          "height": 283
        },
        "outputId": "cfb982a4-40f5-41d0-83cb-97cf969b1f8e"
      },
      "source": [
        "plt.scatter(range(0,i+1),theta_0,c='#ff0000',s=5)\n",
        "plt.scatter(range(0,i+1),theta_1,c='#008000',s=5)\n",
        "plt.scatter(range(0,i+1),theta_2,c='#ffff00',s=5)\n",
        "plt.scatter(range(0,i+1),theta_3,c='#ff007f',s=5)\n",
        "plt.scatter(range(0,i+1),theta_4,c='#006633',s=5)\n",
        "plt.scatter(range(0,i+1),theta_5,c='#00ffff',s=5)\n",
        "plt.scatter(range(0,i+1),theta_6,c='#ff00ff',s=5)"
      ],
      "execution_count": 183,
      "outputs": [
        {
          "output_type": "execute_result",
          "data": {
            "text/plain": [
              "<matplotlib.collections.PathCollection at 0x7fa0b159ba20>"
            ]
          },
          "metadata": {
            "tags": []
          },
          "execution_count": 183
        },
        {
          "output_type": "display_data",
          "data": {
            "image/png": "[encoded data removed]",
            "text/plain": [
              "<Figure size 432x288 with 1 Axes>"
            ]
          },
          "metadata": {
            "tags": [],
            "needs_background": "light"
          }
        }
      ]
    },
    {
      "cell_type": "markdown",
      "metadata": {
        "id": "icwGh3xZsnmA",
        "colab_type": "text"
      },
      "source": [
        ""
      ]
    },
    {
      "cell_type": "code",
      "metadata": {
        "id": "jSSj_8A_kpBa",
        "colab_type": "code",
        "colab": {
          "base_uri": "https://localhost:8080/",
          "height": 35
        },
        "outputId": "f73f69cf-8aee-4738-b8fd-b9fc2fc179f4"
      },
      "source": [
        "score_count=0\n",
        "for i in range(0,len(data)):\n",
        "  if h_function(theta_temp,data[i][0],data[i][1])>1/2 and data[i][2]==1:\n",
        "    score_count=score_count+1\n",
        "  if h_function(theta_temp,data[i][0],data[i][1])<1/2 and data[i][2]==0:\n",
        "    score_count=score_count+1\n",
        "print(score_count/len(data))"
      ],
      "execution_count": 184,
      "outputs": [
        {
          "output_type": "stream",
          "text": [
            "0.847457627118644\n"
          ],
          "name": "stdout"
        }
      ]
    }
  ]
}