{
  "nbformat": 4,
  "nbformat_minor": 0,
  "metadata": {
    "colab": {
      "name": "assginment03.ipynb",
      "provenance": [],
      "collapsed_sections": [],
      "authorship_tag": "ABX9TyNVjJur44FitaA6CoXr31JJ",
      "include_colab_link": true
    },
    "kernelspec": {
      "name": "python3",
      "display_name": "Python 3"
    }
  },
  "cells": [
    {
      "cell_type": "markdown",
      "metadata": {
        "id": "view-in-github",
        "colab_type": "text"
      },
      "source": [
        "<a href=\"https://colab.research.google.com/github/crescent98/machinelearning35911/blob/master/assginment03.ipynb\" target=\"_parent\"><img src=\"https://colab.research.google.com/assets/colab-badge.svg\" alt=\"Open In Colab\"/></a>"
      ]
    },
    {
      "cell_type": "code",
      "metadata": {
        "id": "3lz3D4IT2RS1",
        "colab_type": "code",
        "colab": {}
      },
      "source": [
        "import numpy as np"
      ],
      "execution_count": 0,
      "outputs": []
    },
    {
      "cell_type": "code",
      "metadata": {
        "id": "h7md8QVD2VdC",
        "colab_type": "code",
        "colab": {}
      },
      "source": [
        "from mpl_toolkits import mplot3d"
      ],
      "execution_count": 0,
      "outputs": []
    },
    {
      "cell_type": "code",
      "metadata": {
        "id": "Nr3nwz5R2XUX",
        "colab_type": "code",
        "colab": {}
      },
      "source": [
        "import matplotlib.pyplot as plt"
      ],
      "execution_count": 0,
      "outputs": []
    },
    {
      "cell_type": "code",
      "metadata": {
        "id": "Rvb5dMmx2pUY",
        "colab_type": "code",
        "colab": {}
      },
      "source": [
        "%matplotlib inline"
      ],
      "execution_count": 0,
      "outputs": []
    },
    {
      "cell_type": "code",
      "metadata": {
        "id": "KBX4QXrmxmA-",
        "colab_type": "code",
        "colab": {}
      },
      "source": [
        ""
      ],
      "execution_count": 0,
      "outputs": []
    },
    {
      "cell_type": "markdown",
      "metadata": {
        "id": "-vJLJ7yhxsk3",
        "colab_type": "text"
      },
      "source": [
        "***Objective Function***"
      ]
    },
    {
      "cell_type": "code",
      "metadata": {
        "id": "SNF9iYoCxvVq",
        "colab_type": "code",
        "colab": {}
      },
      "source": [
        "def j_objective(m,theta0,theta1,x_point,y_point):\n",
        "  sum=0\n",
        "  for i in range(0,m):\n",
        "    sum=sum+np.square(theta1*x_point[i]+theta0-y_point[i])\n",
        "  return sum/(2*m)"
      ],
      "execution_count": 0,
      "outputs": []
    },
    {
      "cell_type": "markdown",
      "metadata": {
        "id": "tS0gI-HOx16u",
        "colab_type": "text"
      },
      "source": [
        "***Functions for Gradient Descent***"
      ]
    },
    {
      "cell_type": "code",
      "metadata": {
        "id": "t6hFVCxuxyQA",
        "colab_type": "code",
        "colab": {}
      },
      "source": [
        "def next_0(theta0,theta1,a,m,x_point,y_point):\n",
        "  new_0=0\n",
        "  sum=0\n",
        "  for i in range(0,m):\n",
        "    sum=sum+theta1*x_point[i]+theta0-y_point[i]\n",
        "  new_0=theta0-((a*sum)/m)\n",
        "  return new_0"
      ],
      "execution_count": 0,
      "outputs": []
    },
    {
      "cell_type": "code",
      "metadata": {
        "id": "3754CyBax76d",
        "colab_type": "code",
        "colab": {}
      },
      "source": [
        "def next_1(theta0,theta1,a,m,x_point,y_point):\n",
        "  new_1=0\n",
        "  sum=0\n",
        "  for i in range(0,m):\n",
        "    sum=sum+(theta1*x_point[i]+theta0-y_point[i])*x_point[i]\n",
        "  new_1=theta1-((a*sum)/m)\n",
        "  return new_1"
      ],
      "execution_count": 0,
      "outputs": []
    },
    {
      "cell_type": "markdown",
      "metadata": {
        "id": "Q6jkLvIGx9uJ",
        "colab_type": "text"
      },
      "source": [
        "***Size of Gradient***"
      ]
    },
    {
      "cell_type": "code",
      "metadata": {
        "id": "wTJB8-onyAgc",
        "colab_type": "code",
        "colab": {}
      },
      "source": [
        "def gradient(m,theta0,theta1, x_point,y_point):\n",
        "  sum0=0\n",
        "  sum1=0\n",
        "  for i in range(0,m):\n",
        "    sum0=sum0+theta1*x_point[i]+theta0-y_point[i]\n",
        "  for i in range(0,m):\n",
        "    sum1=sum1+(theta1*x_point[i]+theta0-y_point[i])*x_point[i]\n",
        "  return np.sqrt((np.square(sum0)+np.square(sum1))/m)"
      ],
      "execution_count": 0,
      "outputs": []
    },
    {
      "cell_type": "code",
      "metadata": {
        "id": "PV-NIuFcwOmP",
        "colab_type": "code",
        "colab": {}
      },
      "source": [
        "path=\"data.csv\""
      ],
      "execution_count": 0,
      "outputs": []
    },
    {
      "cell_type": "code",
      "metadata": {
        "id": "dQ4_xTUGwVee",
        "colab_type": "code",
        "colab": {}
      },
      "source": [
        "data=np.genfromtxt(path,delimiter=',')"
      ],
      "execution_count": 0,
      "outputs": []
    },
    {
      "cell_type": "code",
      "metadata": {
        "id": "XnP97zVewZVb",
        "colab_type": "code",
        "colab": {}
      },
      "source": [
        "x_data=data[:,0]"
      ],
      "execution_count": 0,
      "outputs": []
    },
    {
      "cell_type": "code",
      "metadata": {
        "id": "v3x1HUK-wcHD",
        "colab_type": "code",
        "colab": {}
      },
      "source": [
        "y_data=data[:,1]"
      ],
      "execution_count": 0,
      "outputs": []
    },
    {
      "cell_type": "code",
      "metadata": {
        "id": "3qZa6mNcwdmZ",
        "colab_type": "code",
        "colab": {
          "base_uri": "https://localhost:8080/",
          "height": 52
        },
        "outputId": "94768393-5d72-42df-c56e-98bb0ffa0e87"
      },
      "source": [
        "plt.figure(figsize=(8,8))"
      ],
      "execution_count": 22,
      "outputs": [
        {
          "output_type": "execute_result",
          "data": {
            "text/plain": [
              "<Figure size 576x576 with 0 Axes>"
            ]
          },
          "metadata": {
            "tags": []
          },
          "execution_count": 22
        },
        {
          "output_type": "display_data",
          "data": {
            "text/plain": [
              "<Figure size 576x576 with 0 Axes>"
            ]
          },
          "metadata": {
            "tags": []
          }
        }
      ]
    },
    {
      "cell_type": "markdown",
      "metadata": {
        "id": "Z1R3NpegyhWY",
        "colab_type": "text"
      },
      "source": [
        "***Plot of set of points that are loaded from 'data.csv' file***"
      ]
    },
    {
      "cell_type": "code",
      "metadata": {
        "id": "cxwXe2gvwf5i",
        "colab_type": "code",
        "colab": {
          "base_uri": "https://localhost:8080/",
          "height": 282
        },
        "outputId": "cc2fc06e-a599-4093-da99-471e00412f08"
      },
      "source": [
        "plt.scatter(x_data,y_data,c='#000000')"
      ],
      "execution_count": 29,
      "outputs": [
        {
          "output_type": "execute_result",
          "data": {
            "text/plain": [
              "<matplotlib.collections.PathCollection at 0x7f8fec1de630>"
            ]
          },
          "metadata": {
            "tags": []
          },
          "execution_count": 29
        },
        {
          "output_type": "display_data",
          "data": {
            "image/png": "[encoded data removed]",
            "text/plain": [
              "<Figure size 432x288 with 1 Axes>"
            ]
          },
          "metadata": {
            "tags": [],
            "needs_background": "light"
          }
        }
      ]
    },
    {
      "cell_type": "code",
      "metadata": {
        "id": "8XRpnF2Owna1",
        "colab_type": "code",
        "colab": {}
      },
      "source": [
        "plt.show()"
      ],
      "execution_count": 0,
      "outputs": []
    },
    {
      "cell_type": "code",
      "metadata": {
        "id": "qhx16ibQwo0C",
        "colab_type": "code",
        "colab": {}
      },
      "source": [
        ""
      ],
      "execution_count": 0,
      "outputs": []
    }
  ]
}