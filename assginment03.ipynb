{
  "nbformat": 4,
  "nbformat_minor": 0,
  "metadata": {
    "colab": {
      "name": "assginment03.ipynb",
      "provenance": [],
      "collapsed_sections": [],
      "authorship_tag": "ABX9TyPf+OMGRWkkbm4DpoLVBWfE",
      "include_colab_link": true
    },
    "kernelspec": {
      "name": "python3",
      "display_name": "Python 3"
    }
  },
  "cells": [
    {
      "cell_type": "markdown",
      "metadata": {
        "id": "view-in-github",
        "colab_type": "text"
      },
      "source": [
        "<a href=\"https://colab.research.google.com/github/crescent98/machinelearning35911/blob/master/assginment03.ipynb\" target=\"_parent\"><img src=\"https://colab.research.google.com/assets/colab-badge.svg\" alt=\"Open In Colab\"/></a>"
      ]
    },
    {
      "cell_type": "code",
      "metadata": {
        "id": "3lz3D4IT2RS1",
        "colab_type": "code",
        "colab": {}
      },
      "source": [
        "import numpy as np\n",
        "from mpl_toolkits import mplot3d\n",
        "import matplotlib.pyplot as plt\n",
        "from matplotlib import cm\n",
        "from matplotlib.ticker import LinearLocator, FormatStrFormatter\n",
        "from mpl_toolkits.mplot3d import Axes3D\n",
        "%matplotlib inline"
      ],
      "execution_count": 0,
      "outputs": []
    },
    {
      "cell_type": "markdown",
      "metadata": {
        "id": "-vJLJ7yhxsk3",
        "colab_type": "text"
      },
      "source": [
        "***Objective Function***"
      ]
    },
    {
      "cell_type": "code",
      "metadata": {
        "id": "SNF9iYoCxvVq",
        "colab_type": "code",
        "colab": {}
      },
      "source": [
        "def j_objective(m,theta0,theta1,x_point,y_point):\n",
        "  sum=0\n",
        "  for i in range(0,m):\n",
        "    sum=sum+np.square(theta1*x_point[i]+theta0-y_point[i])\n",
        "  return sum/(2*m)"
      ],
      "execution_count": 0,
      "outputs": []
    },
    {
      "cell_type": "markdown",
      "metadata": {
        "id": "tS0gI-HOx16u",
        "colab_type": "text"
      },
      "source": [
        "***Functions for Gradient Descent***"
      ]
    },
    {
      "cell_type": "code",
      "metadata": {
        "id": "t6hFVCxuxyQA",
        "colab_type": "code",
        "colab": {}
      },
      "source": [
        "def next_0(theta0,theta1,a,m,x_point,y_point):\n",
        "  new_0=0\n",
        "  sum=0\n",
        "  for i in range(0,m):\n",
        "    sum=sum+theta1*x_point[i]+theta0-y_point[i]\n",
        "  new_0=theta0-((a*sum)/m)\n",
        "  return new_0"
      ],
      "execution_count": 0,
      "outputs": []
    },
    {
      "cell_type": "code",
      "metadata": {
        "id": "3754CyBax76d",
        "colab_type": "code",
        "colab": {}
      },
      "source": [
        "def next_1(theta0,theta1,a,m,x_point,y_point):\n",
        "  new_1=0\n",
        "  sum=0\n",
        "  for i in range(0,m):\n",
        "    sum=sum+(theta1*x_point[i]+theta0-y_point[i])*x_point[i]\n",
        "  new_1=theta1-((a*sum)/m)\n",
        "  return new_1"
      ],
      "execution_count": 0,
      "outputs": []
    },
    {
      "cell_type": "markdown",
      "metadata": {
        "id": "Q6jkLvIGx9uJ",
        "colab_type": "text"
      },
      "source": [
        "***Size of Gradient***"
      ]
    },
    {
      "cell_type": "code",
      "metadata": {
        "id": "wTJB8-onyAgc",
        "colab_type": "code",
        "colab": {}
      },
      "source": [
        "def gradient(m,theta0,theta1, x_point,y_point):\n",
        "  sum0=0\n",
        "  sum1=0\n",
        "  for i in range(0,m):\n",
        "    sum0=sum0+theta1*x_point[i]+theta0-y_point[i]\n",
        "  for i in range(0,m):\n",
        "    sum1=sum1+(theta1*x_point[i]+theta0-y_point[i])*x_point[i]\n",
        "  return np.sqrt((np.square(sum0)+np.square(sum1))/m)"
      ],
      "execution_count": 0,
      "outputs": []
    },
    {
      "cell_type": "code",
      "metadata": {
        "id": "PV-NIuFcwOmP",
        "colab_type": "code",
        "colab": {}
      },
      "source": [
        "path=\"data.csv\""
      ],
      "execution_count": 0,
      "outputs": []
    },
    {
      "cell_type": "code",
      "metadata": {
        "id": "dQ4_xTUGwVee",
        "colab_type": "code",
        "colab": {}
      },
      "source": [
        "data=np.genfromtxt(path,delimiter=',')"
      ],
      "execution_count": 0,
      "outputs": []
    },
    {
      "cell_type": "code",
      "metadata": {
        "id": "XnP97zVewZVb",
        "colab_type": "code",
        "colab": {}
      },
      "source": [
        "x_data=data[:,0]"
      ],
      "execution_count": 0,
      "outputs": []
    },
    {
      "cell_type": "code",
      "metadata": {
        "id": "v3x1HUK-wcHD",
        "colab_type": "code",
        "colab": {}
      },
      "source": [
        "y_data=data[:,1]"
      ],
      "execution_count": 0,
      "outputs": []
    },
    {
      "cell_type": "code",
      "metadata": {
        "id": "3qZa6mNcwdmZ",
        "colab_type": "code",
        "outputId": "7c1b812b-9e27-44b7-fae6-ba56c0ed610f",
        "colab": {
          "base_uri": "https://localhost:8080/",
          "height": 52
        }
      },
      "source": [
        "plt.figure(figsize=(8,8))"
      ],
      "execution_count": 78,
      "outputs": [
        {
          "output_type": "execute_result",
          "data": {
            "text/plain": [
              "<Figure size 576x576 with 0 Axes>"
            ]
          },
          "metadata": {
            "tags": []
          },
          "execution_count": 78
        },
        {
          "output_type": "display_data",
          "data": {
            "text/plain": [
              "<Figure size 576x576 with 0 Axes>"
            ]
          },
          "metadata": {
            "tags": []
          }
        }
      ]
    },
    {
      "cell_type": "markdown",
      "metadata": {
        "id": "Z1R3NpegyhWY",
        "colab_type": "text"
      },
      "source": [
        "***Plot of set of points that are loaded from 'data.csv' file***"
      ]
    },
    {
      "cell_type": "code",
      "metadata": {
        "id": "cxwXe2gvwf5i",
        "colab_type": "code",
        "outputId": "8d98858e-4029-4a40-b6ae-9d4823f9cf52",
        "colab": {
          "base_uri": "https://localhost:8080/",
          "height": 282
        }
      },
      "source": [
        "plt.scatter(x_data,y_data,c='#000000')"
      ],
      "execution_count": 79,
      "outputs": [
        {
          "output_type": "execute_result",
          "data": {
            "text/plain": [
              "<matplotlib.collections.PathCollection at 0x7fb4387d60f0>"
            ]
          },
          "metadata": {
            "tags": []
          },
          "execution_count": 79
        },
        {
          "output_type": "display_data",
          "data": {
            "image/png": "[encoded data removed]",
            "text/plain": [
              "<Figure size 432x288 with 1 Axes>"
            ]
          },
          "metadata": {
            "tags": [],
            "needs_background": "light"
          }
        }
      ]
    },
    {
      "cell_type": "code",
      "metadata": {
        "id": "8XRpnF2Owna1",
        "colab_type": "code",
        "colab": {}
      },
      "source": [
        "plt.show()"
      ],
      "execution_count": 0,
      "outputs": []
    },
    {
      "cell_type": "code",
      "metadata": {
        "id": "qhx16ibQwo0C",
        "colab_type": "code",
        "colab": {}
      },
      "source": [
        ""
      ],
      "execution_count": 0,
      "outputs": []
    },
    {
      "cell_type": "markdown",
      "metadata": {
        "id": "gTc1tqNdzICT",
        "colab_type": "text"
      },
      "source": [
        "***Linear Regression***"
      ]
    },
    {
      "cell_type": "code",
      "metadata": {
        "id": "bhQkrfpezKd_",
        "colab_type": "code",
        "colab": {}
      },
      "source": [
        "i=0"
      ],
      "execution_count": 0,
      "outputs": []
    },
    {
      "cell_type": "code",
      "metadata": {
        "id": "7Q9lH0nA0z87",
        "colab_type": "code",
        "colab": {}
      },
      "source": [
        "a=0.01"
      ],
      "execution_count": 0,
      "outputs": []
    },
    {
      "cell_type": "code",
      "metadata": {
        "id": "UybUo46LzVib",
        "colab_type": "code",
        "colab": {}
      },
      "source": [
        "theta_0=[-30]"
      ],
      "execution_count": 0,
      "outputs": []
    },
    {
      "cell_type": "code",
      "metadata": {
        "id": "8yRxQizQzYoo",
        "colab_type": "code",
        "colab": {}
      },
      "source": [
        "theta0=theta_0[-1]"
      ],
      "execution_count": 0,
      "outputs": []
    },
    {
      "cell_type": "code",
      "metadata": {
        "id": "dLUTr3ZczfOR",
        "colab_type": "code",
        "colab": {}
      },
      "source": [
        "theta_1=[-30]"
      ],
      "execution_count": 0,
      "outputs": []
    },
    {
      "cell_type": "code",
      "metadata": {
        "id": "xjna0EoZ0MkP",
        "colab_type": "code",
        "colab": {}
      },
      "source": [
        "theta1=theta_1[-1]"
      ],
      "execution_count": 0,
      "outputs": []
    },
    {
      "cell_type": "code",
      "metadata": {
        "id": "e1aQDEyr0QmF",
        "colab_type": "code",
        "colab": {}
      },
      "source": [
        "objective=[]"
      ],
      "execution_count": 0,
      "outputs": []
    },
    {
      "cell_type": "code",
      "metadata": {
        "id": "pCtzlIqZ0Y3J",
        "colab_type": "code",
        "colab": {}
      },
      "source": [
        "m=len(x_data)"
      ],
      "execution_count": 0,
      "outputs": []
    },
    {
      "cell_type": "code",
      "metadata": {
        "id": "qUd8WB73zOdv",
        "colab_type": "code",
        "colab": {}
      },
      "source": [
        "while gradient(m,theta0,theta1,x_data,y_data)>0.01:\n",
        "  objective.append(j_objective(m,theta0,theta1,x_data,y_data))\n",
        "  theta_0.append(next_0(theta0,theta1,a,m,x_data,y_data))\n",
        "  theta_1.append(next_1(theta0,theta1,a,m,x_data,y_data))\n",
        "  theta0=next_0(theta_0[i],theta_1[i],a,m,x_data,y_data)\n",
        "  theta1=next_1(theta_0[i],theta_1[i],a,m,x_data,y_data)\n",
        "  i=i+1"
      ],
      "execution_count": 0,
      "outputs": []
    },
    {
      "cell_type": "markdown",
      "metadata": {
        "id": "XOWNyah58bGc",
        "colab_type": "text"
      },
      "source": [
        "***Linear Regression Result***\n",
        "1. plot set of points in 'data.csv'\n",
        "2. estimated straight line"
      ]
    },
    {
      "cell_type": "code",
      "metadata": {
        "id": "Rwt-T3gp0-Ef",
        "colab_type": "code",
        "outputId": "9ab6cc7c-31f1-4c01-e8cd-6c3fd2a7d01f",
        "colab": {
          "base_uri": "https://localhost:8080/",
          "height": 282
        }
      },
      "source": [
        "plt.plot(x_data,x_data*theta1+theta0,color=\"#FF0000\")\n",
        "plt.scatter(x_data,y_data,c='#000000')"
      ],
      "execution_count": 90,
      "outputs": [
        {
          "output_type": "execute_result",
          "data": {
            "text/plain": [
              "<matplotlib.collections.PathCollection at 0x7fb438e87438>"
            ]
          },
          "metadata": {
            "tags": []
          },
          "execution_count": 90
        },
        {
          "output_type": "display_data",
          "data": {
            "image/png": "[encoded data removed]",
            "text/plain": [
              "<Figure size 432x288 with 1 Axes>"
            ]
          },
          "metadata": {
            "tags": [],
            "needs_background": "light"
          }
        }
      ]
    },
    {
      "cell_type": "markdown",
      "metadata": {
        "id": "SZYRmlZ4D09-",
        "colab_type": "text"
      },
      "source": [
        "***Plot the Energy Surface of function J with range of var***"
      ]
    },
    {
      "cell_type": "code",
      "metadata": {
        "id": "Z2KvFuPZ9cgI",
        "colab_type": "code",
        "colab": {
          "base_uri": "https://localhost:8080/",
          "height": 248
        },
        "outputId": "8b960970-d9a4-4958-dca1-153f7eb6f36a"
      },
      "source": [
        "fig=plt.figure()\n",
        "ax=fig.gca(projection='3d')\n",
        "#make data\n",
        "theta=np.arange(-30,30,0.1)\n",
        "x=np.arange(-30,30,0.1)\n",
        "y=np.arange(-30,30,0.1)\n",
        "x,y=np.meshgrid(x,y)\n",
        "z=j_objective(m,x,y,x_data,y_data)\n",
        "\n",
        "#plot the surface\n",
        "surf=ax.plot_surface(x,y,z,cmap=cm.coolwarm,\n",
        "                     linewidth=0,antialiased=False)\n",
        "\n",
        "plt.show()"
      ],
      "execution_count": 91,
      "outputs": [
        {
          "output_type": "display_data",
          "data": {
            "image/png": "[encoded data removed]",
            "text/plain": [
              "<Figure size 432x288 with 1 Axes>"
            ]
          },
          "metadata": {
            "tags": [],
            "needs_background": "light"
          }
        }
      ]
    }
  ]
}