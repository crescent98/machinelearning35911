{
  "nbformat": 4,
  "nbformat_minor": 0,
  "metadata": {
    "colab": {
      "name": "assignment04.ipynb",
      "provenance": [],
      "collapsed_sections": [],
      "authorship_tag": "ABX9TyPIntKuqqAzcL1qPfzWIWOm",
      "include_colab_link": true
    },
    "kernelspec": {
      "name": "python3",
      "display_name": "Python 3"
    }
  },
  "cells": [
    {
      "cell_type": "markdown",
      "metadata": {
        "id": "view-in-github",
        "colab_type": "text"
      },
      "source": [
        "<a href=\"https://colab.research.google.com/github/crescent98/machinelearning35911/blob/master/assignment04.ipynb\" target=\"_parent\"><img src=\"https://colab.research.google.com/assets/colab-badge.svg\" alt=\"Open In Colab\"/></a>"
      ]
    },
    {
      "cell_type": "code",
      "metadata": {
        "id": "O8k8MdimcxKL",
        "colab_type": "code",
        "colab": {}
      },
      "source": [
        "import numpy as np\n",
        "from mpl_toolkits import mplot3d\n",
        "import matplotlib.pyplot as plt\n",
        "from matplotlib import cm\n",
        "from matplotlib.ticker import LinearLocator, FormatStrFormatter\n",
        "from matplotlib.pylab import plot, show\n",
        "from mpl_toolkits.mplot3d import Axes3D\n",
        "%matplotlib inline"
      ],
      "execution_count": 0,
      "outputs": []
    },
    {
      "cell_type": "markdown",
      "metadata": {
        "id": "CW1BTE9mj-CQ",
        "colab_type": "text"
      },
      "source": [
        "**Load CSV FIle & Setting Train and Test Data**"
      ]
    },
    {
      "cell_type": "code",
      "metadata": {
        "id": "k8EZ1UCRjhlK",
        "colab_type": "code",
        "colab": {}
      },
      "source": [
        "import csv\n",
        "train_data=[]\n",
        "test_data=[]\n",
        "with open('data_train.csv', newline='') as myfile:\n",
        "    reader  = csv.reader(myfile, delimiter=',')\n",
        "    ct = 1 \n",
        "    for i in reader:\n",
        "        #print('[', ct, ']', 'x =', i[0], ', y = ', i[1], ', z = ', i[2], ', h = ', i[3])\n",
        "        ct += 1\n",
        "        list=[float(x) for x in i]\n",
        "        train_data.append(list)\n",
        "        \n",
        "\n",
        "with open('data_test.csv', newline='') as myfile:\n",
        "    reader  = csv.reader(myfile, delimiter=',')\n",
        "    ct = 1 \n",
        "    for i in reader:\n",
        "        #print('[', ct, ']', 'x =', i[0], ', y = ', i[1], ', z = ', i[2], ', h = ', i[3])\n",
        "        ct += 1\n",
        "        list=[float(x)for x in i]\n",
        "        test_data.append(list)"
      ],
      "execution_count": 0,
      "outputs": []
    },
    {
      "cell_type": "markdown",
      "metadata": {
        "id": "hGd4fQm5fvYq",
        "colab_type": "text"
      },
      "source": [
        "***Scaling***"
      ]
    },
    {
      "cell_type": "code",
      "metadata": {
        "id": "TDr_Palrfx0C",
        "colab_type": "code",
        "colab": {}
      },
      "source": [
        "data_row=[]\n",
        "for i in range(0,len(train_data[0])):\n",
        "  data_row.append([])\n",
        "  for j in range(0,len(train_data)):\n",
        "    data_row[i].append(train_data[j][i])\n",
        "for i in range(0,len(train_data)):\n",
        "  for j in range(0,len(train_data[0])):\n",
        "    train_data[i][j]=(train_data[i][j]-np.mean(data_row[j]))/(np.max(data_row[j])-np.min(data_row[j]))"
      ],
      "execution_count": 0,
      "outputs": []
    },
    {
      "cell_type": "code",
      "metadata": {
        "id": "KiEQCcjQhtLw",
        "colab_type": "code",
        "colab": {}
      },
      "source": [
        "data_row=[]\n",
        "for i in range(0,len(test_data[0])):\n",
        "  data_row.append([])\n",
        "  for j in range(0,len(test_data)):\n",
        "    data_row[i].append(test_data[j][i])\n",
        "for i in range(0,len(test_data)):\n",
        "  for j in range(0,len(test_data[0])):\n",
        "    test_data[i][j]=(test_data[i][j]-np.mean(data_row[j]))/(np.max(data_row[j])-np.min(data_row[j]))"
      ],
      "execution_count": 0,
      "outputs": []
    },
    {
      "cell_type": "markdown",
      "metadata": {
        "id": "lvvElaf8B8il",
        "colab_type": "text"
      },
      "source": [
        "***Objective Function***"
      ]
    },
    {
      "cell_type": "code",
      "metadata": {
        "id": "pTI6a7H1B_f3",
        "colab_type": "code",
        "colab": {}
      },
      "source": [
        "def objective_func(theta,m,data): #data type: 4쌍의 숫자들 x,y,z,h\n",
        "  sum=0\n",
        "  for i in range(0,m):\n",
        "    sum=sum+np.square(theta[0]+theta[1]*data[i][0]+theta[2]*data[i][1]+theta[3]*data[i][2]-data[i][3])\n",
        "  return (sum/(2*m))"
      ],
      "execution_count": 0,
      "outputs": []
    },
    {
      "cell_type": "markdown",
      "metadata": {
        "id": "1lPACm5-D6mx",
        "colab_type": "text"
      },
      "source": [
        "***Linear Function***"
      ]
    },
    {
      "cell_type": "code",
      "metadata": {
        "id": "W2adSS8MuPxQ",
        "colab_type": "code",
        "colab": {}
      },
      "source": [
        "#Linear Function\n",
        "def linear_model(theta,data):\n",
        "  return (theta[0]+theta[1]*data[0]+theta[2]*data[1]+theta[3]*data[2])"
      ],
      "execution_count": 0,
      "outputs": []
    },
    {
      "cell_type": "markdown",
      "metadata": {
        "id": "AxZVf5ILAsrp",
        "colab_type": "text"
      },
      "source": [
        "***Gradient Descent Function***"
      ]
    },
    {
      "cell_type": "code",
      "metadata": {
        "id": "TCUxVtMSAr20",
        "colab_type": "code",
        "colab": {}
      },
      "source": [
        "def next_theta(theta,a,m,n,data):#data type: 4쌍의 숫자들 x,y,z,h의 전체집합\n",
        "  sum=0\n",
        "  new_theta=[]\n",
        "  for i in range(0,n): #from theta0 to theta(n+1)\n",
        "    sum=0\n",
        "    if i==0:\n",
        "      for j in range(0,m):\n",
        "        sum=sum+linear_model(theta,data[j])-data[j][-1]\n",
        "    else:\n",
        "      for j in range(0,m):\n",
        "        sum=sum+(linear_model(theta,data[j])-data[j][-1])*data[j][i-1]\n",
        "    new_theta.append(theta[i]-(a*sum)/m)\n",
        "  return new_theta\n",
        "\n",
        "def gradient(theta,m,data):\n",
        "  theta_count=len(theta)\n",
        "  total=0\n",
        "  sum=[]\n",
        "  sum_temp=0\n",
        "  for i in range(0,theta_count):\n",
        "    sum_temp=0\n",
        "    if i==0:\n",
        "      for j in range(0,m):\n",
        "        sum_temp=sum_temp+linear_model(theta,data[j])-data[j][-1]\n",
        "    else:\n",
        "      for j in range(0,m):\n",
        "        sum_temp=sum_temp+(linear_model(theta,data[j])-data[j][-1])*data[j][i-1]\n",
        "    sum.append(np.square(sum_temp))\n",
        "  for i in range(0,len(sum)):\n",
        "    total=total+sum[i]\n",
        "  return np.sqrt(total/m)\n",
        "    "
      ],
      "execution_count": 0,
      "outputs": []
    },
    {
      "cell_type": "code",
      "metadata": {
        "id": "woEZC9pyFc9F",
        "colab_type": "code",
        "outputId": "2f10ea65-03fb-4496-9a0b-076ddf3afee2",
        "colab": {
          "base_uri": "https://localhost:8080/",
          "height": 88
        }
      },
      "source": [
        "n=len(train_data[0])\n",
        "print('n is',n)\n",
        "m_train=len(train_data)\n",
        "print('m_train is',m_train)\n",
        "m_test=len(test_data)\n",
        "print('m_test is',m_test)\n",
        "theta=[] \n",
        "# theta0, theta1, theta2, theta3\n",
        "i=0\n",
        "a=0.001\n",
        "print(theta)\n",
        "objective_train=[]\n",
        "objective_test=[]"
      ],
      "execution_count": 331,
      "outputs": [
        {
          "output_type": "stream",
          "text": [
            "n is 4\n",
            "m_train is 300\n",
            "m_test is 300\n",
            "[]\n"
          ],
          "name": "stdout"
        }
      ]
    },
    {
      "cell_type": "markdown",
      "metadata": {
        "id": "u3bD_r-qTuDE",
        "colab_type": "text"
      },
      "source": [
        "***Gradient Descenting***"
      ]
    },
    {
      "cell_type": "code",
      "metadata": {
        "id": "KR0kPUzsVYUg",
        "colab_type": "code",
        "colab": {}
      },
      "source": [
        "theta_temp=[-10,-10,-10,-10]"
      ],
      "execution_count": 0,
      "outputs": []
    },
    {
      "cell_type": "code",
      "metadata": {
        "id": "O1hMXnxLTtmc",
        "colab_type": "code",
        "colab": {}
      },
      "source": [
        "while gradient(theta_temp,m,train_data)>0.5:\n",
        "  objective_train.append(objective_func(theta_temp,m,train_data))\n",
        "  objective_test.append(objective_func(theta_temp,m,test_data))\n",
        "  theta.append(theta_temp)\n",
        "  theta_temp=next_theta(theta_temp,a,m,n,train_data)\n",
        "  i=i+1"
      ],
      "execution_count": 0,
      "outputs": []
    },
    {
      "cell_type": "markdown",
      "metadata": {
        "id": "jgLiQR3Ak8UL",
        "colab_type": "text"
      },
      "source": [
        ""
      ]
    },
    {
      "cell_type": "code",
      "metadata": {
        "id": "EFq563ubkUU8",
        "colab_type": "code",
        "colab": {}
      },
      "source": [
        "theta_0=[]\n",
        "for i in range(0,len(theta)):\n",
        "  theta_0.append(theta[i][0])\n",
        "theta_1=[]\n",
        "for i in range(0,len(theta)):\n",
        "  theta_1.append(theta[i][1])\n",
        "theta_2=[]\n",
        "for i in range(0,len(theta)):\n",
        "  theta_2.append(theta[i][2])\n",
        "theta_3=[]\n",
        "for i in range(0,len(theta)):\n",
        "  theta_3.append(theta[i][3])"
      ],
      "execution_count": 0,
      "outputs": []
    },
    {
      "cell_type": "markdown",
      "metadata": {
        "id": "1_5ECbL_m_Cq",
        "colab_type": "text"
      },
      "source": [
        "# ***1. Plot the Estimated Parameters Using the training dataset***\n",
        "plot the estimated parameters(theta0, theta1, theta2, theta3)"
      ]
    },
    {
      "cell_type": "code",
      "metadata": {
        "id": "5t-AFOnabzFk",
        "colab_type": "code",
        "outputId": "97b64af7-cf38-4297-909d-8c1ae260b3c3",
        "colab": {
          "base_uri": "https://localhost:8080/",
          "height": 283
        }
      },
      "source": [
        "plt.scatter(range(0,i+1),theta_0,c='#000000',s=5)\n",
        "plt.scatter(range(0,i+1),theta_1,c='#ff0000',s=5)\n",
        "plt.scatter(range(0,i+1),theta_2,c='#008000',s=5)\n",
        "plt.scatter(range(0,i+1),theta_3,c='#0000ff',s=5)"
      ],
      "execution_count": 335,
      "outputs": [
        {
          "output_type": "execute_result",
          "data": {
            "text/plain": [
              "<matplotlib.collections.PathCollection at 0x7ff42ed137b8>"
            ]
          },
          "metadata": {
            "tags": []
          },
          "execution_count": 335
        },
        {
          "output_type": "display_data",
          "data": {
            "image/png": "[encoded data removed]",
            "text/plain": [
              "<Figure size 432x288 with 1 Axes>"
            ]
          },
          "metadata": {
            "tags": [],
            "needs_background": "light"
          }
        }
      ]
    },
    {
      "cell_type": "markdown",
      "metadata": {
        "id": "khTdWr_mzyiB",
        "colab_type": "text"
      },
      "source": [
        "# ***2. Plot the training error using the training dataset***"
      ]
    },
    {
      "cell_type": "code",
      "metadata": {
        "id": "5FdzzrA5zxUV",
        "colab_type": "code",
        "colab": {
          "base_uri": "https://localhost:8080/",
          "height": 283
        },
        "outputId": "332d54a1-0ebe-409d-8f28-b544589c77da"
      },
      "source": [
        "plt.scatter(range(0,i+1),objective_train,c=\"#0000ff\")"
      ],
      "execution_count": 336,
      "outputs": [
        {
          "output_type": "execute_result",
          "data": {
            "text/plain": [
              "<matplotlib.collections.PathCollection at 0x7ff42ece9630>"
            ]
          },
          "metadata": {
            "tags": []
          },
          "execution_count": 336
        },
        {
          "output_type": "display_data",
          "data": {
            "image/png": "[encoded data removed]",
            "text/plain": [
              "<Figure size 432x288 with 1 Axes>"
            ]
          },
          "metadata": {
            "tags": [],
            "needs_background": "light"
          }
        }
      ]
    }
  ]
}