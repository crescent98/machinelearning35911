{
  "nbformat": 4,
  "nbformat_minor": 0,
  "metadata": {
    "colab": {
      "name": "assignment11_gpu.ipynb",
      "provenance": [],
      "collapsed_sections": [],
      "mount_file_id": "1FI2SArPbotIe22dpmg1AginsTyqYGXSX",
      "authorship_tag": "ABX9TyPimlX9/Ota+6nv/g1KX+PF",
      "include_colab_link": true
    },
    "kernelspec": {
      "name": "python3",
      "display_name": "Python 3"
    },
    "accelerator": "GPU"
  },
  "cells": [
    {
      "cell_type": "markdown",
      "metadata": {
        "id": "view-in-github",
        "colab_type": "text"
      },
      "source": [
        "<a href=\"https://colab.research.google.com/github/crescent98/machinelearning35911/blob/master/assignment11_gpu.ipynb\" target=\"_parent\"><img src=\"https://colab.research.google.com/assets/colab-badge.svg\" alt=\"Open In Colab\"/></a>"
      ]
    },
    {
      "cell_type": "code",
      "metadata": {
        "id": "9eyke1H7SHwY",
        "colab_type": "code",
        "colab": {
          "base_uri": "https://localhost:8080/",
          "height": 336
        },
        "outputId": "0fca3e65-f6d6-40c3-b093-ccbd20115f78"
      },
      "source": [
        "!apt -y install libcusparse8.0 libnvrtc8.0 libnvtoolsext1\n",
        "!ln -snf /usr/lib/x86_64-linux-gnu/libnvrtc-builtins.so.8.0 /usr/lib/x86_64-linux-gnu/libnvrtc-builtins.so\n",
        "!pip install cupy-cuda80"
      ],
      "execution_count": null,
      "outputs": [
        {
          "output_type": "stream",
          "text": [
            "Reading package lists... Done\n",
            "Building dependency tree       \n",
            "Reading state information... Done\n",
            "E: Unable to locate package libcusparse8.0\n",
            "E: Couldn't find any package by glob 'libcusparse8.0'\n",
            "E: Couldn't find any package by regex 'libcusparse8.0'\n",
            "E: Unable to locate package libnvrtc8.0\n",
            "E: Couldn't find any package by glob 'libnvrtc8.0'\n",
            "E: Couldn't find any package by regex 'libnvrtc8.0'\n",
            "Collecting cupy-cuda80\n",
            "\u001b[?25l  Downloading https://files.pythonhosted.org/packages/90/ba/39cd62094f1c05af33ec01008868fcc1d0e750aeef745bffd18c48b32338/cupy_cuda80-7.5.0-cp36-cp36m-manylinux1_x86_64.whl (208.7MB)\n",
            "\u001b[K     |████████████████████████████████| 208.7MB 65kB/s \n",
            "\u001b[?25hRequirement already satisfied: fastrlock>=0.3 in /usr/local/lib/python3.6/dist-packages (from cupy-cuda80) (0.4)\n",
            "Requirement already satisfied: six>=1.9.0 in /usr/local/lib/python3.6/dist-packages (from cupy-cuda80) (1.12.0)\n",
            "Requirement already satisfied: numpy>=1.9.0 in /usr/local/lib/python3.6/dist-packages (from cupy-cuda80) (1.18.5)\n",
            "Installing collected packages: cupy-cuda80\n",
            "Successfully installed cupy-cuda80-7.5.0\n"
          ],
          "name": "stdout"
        }
      ]
    },
    {
      "cell_type": "code",
      "metadata": {
        "id": "c0SNzrM3SjAR",
        "colab_type": "code",
        "colab": {
          "base_uri": "https://localhost:8080/",
          "height": 811
        },
        "outputId": "f00a1768-78ac-4e14-fa03-3f3f57870711"
      },
      "source": [
        "\n",
        "%matplotlib inline\n",
        "import matplotlib.pyplot as plt\n",
        "import six\n",
        "import numpy as np\n",
        "import cupy as cp"
      ],
      "execution_count": null,
      "outputs": [
        {
          "output_type": "error",
          "ename": "ImportError",
          "evalue": "ignored",
          "traceback": [
            "\u001b[0;31m---------------------------------------------------------------------------\u001b[0m",
            "\u001b[0;31mImportError\u001b[0m                               Traceback (most recent call last)",
            "\u001b[0;32m/usr/local/lib/python3.6/dist-packages/cupy/__init__.py\u001b[0m in \u001b[0;36m<module>\u001b[0;34m()\u001b[0m\n\u001b[1;32m     20\u001b[0m                                 message='can\\'t resolve package from __spec__')\n\u001b[0;32m---> 21\u001b[0;31m         \u001b[0;32mfrom\u001b[0m \u001b[0mcupy\u001b[0m \u001b[0;32mimport\u001b[0m \u001b[0mcore\u001b[0m  \u001b[0;31m# NOQA\u001b[0m\u001b[0;34m\u001b[0m\u001b[0;34m\u001b[0m\u001b[0m\n\u001b[0m\u001b[1;32m     22\u001b[0m \u001b[0;32mexcept\u001b[0m \u001b[0mImportError\u001b[0m\u001b[0;34m:\u001b[0m\u001b[0;34m\u001b[0m\u001b[0;34m\u001b[0m\u001b[0m\n",
            "\u001b[0;32m/usr/local/lib/python3.6/dist-packages/cupy/core/__init__.py\u001b[0m in \u001b[0;36m<module>\u001b[0;34m()\u001b[0m\n\u001b[0;32m----> 1\u001b[0;31m \u001b[0;32mfrom\u001b[0m \u001b[0mcupy\u001b[0m\u001b[0;34m.\u001b[0m\u001b[0mcore\u001b[0m \u001b[0;32mimport\u001b[0m \u001b[0mcore\u001b[0m  \u001b[0;31m# NOQA\u001b[0m\u001b[0;34m\u001b[0m\u001b[0;34m\u001b[0m\u001b[0m\n\u001b[0m\u001b[1;32m      2\u001b[0m \u001b[0;32mfrom\u001b[0m \u001b[0mcupy\u001b[0m\u001b[0;34m.\u001b[0m\u001b[0mcore\u001b[0m \u001b[0;32mimport\u001b[0m \u001b[0minternal\u001b[0m  \u001b[0;31m# NOQA\u001b[0m\u001b[0;34m\u001b[0m\u001b[0;34m\u001b[0m\u001b[0m\n\u001b[1;32m      3\u001b[0m \u001b[0;34m\u001b[0m\u001b[0m\n",
            "\u001b[0;31mImportError\u001b[0m: libcublas.so.8.0: cannot open shared object file: No such file or directory",
            "\nDuring handling of the above exception, another exception occurred:\n",
            "\u001b[0;31mImportError\u001b[0m                               Traceback (most recent call last)",
            "\u001b[0;32m<ipython-input-2-34ed49f6dbf5>\u001b[0m in \u001b[0;36m<module>\u001b[0;34m()\u001b[0m\n\u001b[1;32m      3\u001b[0m \u001b[0;32mimport\u001b[0m \u001b[0msix\u001b[0m\u001b[0;34m\u001b[0m\u001b[0;34m\u001b[0m\u001b[0m\n\u001b[1;32m      4\u001b[0m \u001b[0;32mimport\u001b[0m \u001b[0mnumpy\u001b[0m \u001b[0;32mas\u001b[0m \u001b[0mnp\u001b[0m\u001b[0;34m\u001b[0m\u001b[0;34m\u001b[0m\u001b[0m\n\u001b[0;32m----> 5\u001b[0;31m \u001b[0;32mimport\u001b[0m \u001b[0mcupy\u001b[0m \u001b[0;32mas\u001b[0m \u001b[0mcp\u001b[0m\u001b[0;34m\u001b[0m\u001b[0;34m\u001b[0m\u001b[0m\n\u001b[0m",
            "\u001b[0;32m/usr/local/lib/python3.6/dist-packages/cupy/__init__.py\u001b[0m in \u001b[0;36m<module>\u001b[0;34m()\u001b[0m\n\u001b[1;32m     40\u001b[0m original error: {}'''.format(exc_info[1]))  # NOQA\n\u001b[1;32m     41\u001b[0m \u001b[0;34m\u001b[0m\u001b[0m\n\u001b[0;32m---> 42\u001b[0;31m     \u001b[0msix\u001b[0m\u001b[0;34m.\u001b[0m\u001b[0mreraise\u001b[0m\u001b[0;34m(\u001b[0m\u001b[0mImportError\u001b[0m\u001b[0;34m,\u001b[0m \u001b[0mImportError\u001b[0m\u001b[0;34m(\u001b[0m\u001b[0mmsg\u001b[0m\u001b[0;34m)\u001b[0m\u001b[0;34m,\u001b[0m \u001b[0mexc_info\u001b[0m\u001b[0;34m[\u001b[0m\u001b[0;36m2\u001b[0m\u001b[0;34m]\u001b[0m\u001b[0;34m)\u001b[0m\u001b[0;34m\u001b[0m\u001b[0;34m\u001b[0m\u001b[0m\n\u001b[0m\u001b[1;32m     43\u001b[0m \u001b[0;34m\u001b[0m\u001b[0m\n\u001b[1;32m     44\u001b[0m \u001b[0;34m\u001b[0m\u001b[0m\n",
            "\u001b[0;32m/usr/local/lib/python3.6/dist-packages/six.py\u001b[0m in \u001b[0;36mreraise\u001b[0;34m(tp, value, tb)\u001b[0m\n\u001b[1;32m    690\u001b[0m                 \u001b[0mvalue\u001b[0m \u001b[0;34m=\u001b[0m \u001b[0mtp\u001b[0m\u001b[0;34m(\u001b[0m\u001b[0;34m)\u001b[0m\u001b[0;34m\u001b[0m\u001b[0;34m\u001b[0m\u001b[0m\n\u001b[1;32m    691\u001b[0m             \u001b[0;32mif\u001b[0m \u001b[0mvalue\u001b[0m\u001b[0;34m.\u001b[0m\u001b[0m__traceback__\u001b[0m \u001b[0;32mis\u001b[0m \u001b[0;32mnot\u001b[0m \u001b[0mtb\u001b[0m\u001b[0;34m:\u001b[0m\u001b[0;34m\u001b[0m\u001b[0;34m\u001b[0m\u001b[0m\n\u001b[0;32m--> 692\u001b[0;31m                 \u001b[0;32mraise\u001b[0m \u001b[0mvalue\u001b[0m\u001b[0;34m.\u001b[0m\u001b[0mwith_traceback\u001b[0m\u001b[0;34m(\u001b[0m\u001b[0mtb\u001b[0m\u001b[0;34m)\u001b[0m\u001b[0;34m\u001b[0m\u001b[0;34m\u001b[0m\u001b[0m\n\u001b[0m\u001b[1;32m    693\u001b[0m             \u001b[0;32mraise\u001b[0m \u001b[0mvalue\u001b[0m\u001b[0;34m\u001b[0m\u001b[0;34m\u001b[0m\u001b[0m\n\u001b[1;32m    694\u001b[0m         \u001b[0;32mfinally\u001b[0m\u001b[0;34m:\u001b[0m\u001b[0;34m\u001b[0m\u001b[0;34m\u001b[0m\u001b[0m\n",
            "\u001b[0;32m/usr/local/lib/python3.6/dist-packages/cupy/__init__.py\u001b[0m in \u001b[0;36m<module>\u001b[0;34m()\u001b[0m\n\u001b[1;32m     19\u001b[0m         warnings.filterwarnings('ignore', category=ImportWarning,\n\u001b[1;32m     20\u001b[0m                                 message='can\\'t resolve package from __spec__')\n\u001b[0;32m---> 21\u001b[0;31m         \u001b[0;32mfrom\u001b[0m \u001b[0mcupy\u001b[0m \u001b[0;32mimport\u001b[0m \u001b[0mcore\u001b[0m  \u001b[0;31m# NOQA\u001b[0m\u001b[0;34m\u001b[0m\u001b[0;34m\u001b[0m\u001b[0m\n\u001b[0m\u001b[1;32m     22\u001b[0m \u001b[0;32mexcept\u001b[0m \u001b[0mImportError\u001b[0m\u001b[0;34m:\u001b[0m\u001b[0;34m\u001b[0m\u001b[0;34m\u001b[0m\u001b[0m\n\u001b[1;32m     23\u001b[0m     \u001b[0;31m# core is a c-extension module.\u001b[0m\u001b[0;34m\u001b[0m\u001b[0;34m\u001b[0m\u001b[0;34m\u001b[0m\u001b[0m\n",
            "\u001b[0;32m/usr/local/lib/python3.6/dist-packages/cupy/core/__init__.py\u001b[0m in \u001b[0;36m<module>\u001b[0;34m()\u001b[0m\n\u001b[0;32m----> 1\u001b[0;31m \u001b[0;32mfrom\u001b[0m \u001b[0mcupy\u001b[0m\u001b[0;34m.\u001b[0m\u001b[0mcore\u001b[0m \u001b[0;32mimport\u001b[0m \u001b[0mcore\u001b[0m  \u001b[0;31m# NOQA\u001b[0m\u001b[0;34m\u001b[0m\u001b[0;34m\u001b[0m\u001b[0m\n\u001b[0m\u001b[1;32m      2\u001b[0m \u001b[0;32mfrom\u001b[0m \u001b[0mcupy\u001b[0m\u001b[0;34m.\u001b[0m\u001b[0mcore\u001b[0m \u001b[0;32mimport\u001b[0m \u001b[0minternal\u001b[0m  \u001b[0;31m# NOQA\u001b[0m\u001b[0;34m\u001b[0m\u001b[0;34m\u001b[0m\u001b[0m\n\u001b[1;32m      3\u001b[0m \u001b[0;34m\u001b[0m\u001b[0m\n\u001b[1;32m      4\u001b[0m \u001b[0;34m\u001b[0m\u001b[0m\n\u001b[1;32m      5\u001b[0m \u001b[0;31m# import class and function\u001b[0m\u001b[0;34m\u001b[0m\u001b[0;34m\u001b[0m\u001b[0;34m\u001b[0m\u001b[0m\n",
            "\u001b[0;31mImportError\u001b[0m: CuPy is not correctly installed.\n\nIf you are using wheel distribution (cupy-cudaXX), make sure that the version of CuPy you installed matches with the version of CUDA on your host.\nAlso, confirm that only one CuPy package is installed:\n  $ pip freeze\n\nIf you are building CuPy from source, please check your environment, uninstall CuPy and reinstall it with:\n  $ pip install cupy --no-cache-dir -vvvv\n\nCheck the Installation Guide for details:\n  https://docs-cupy.chainer.org/en/latest/install.html\n\noriginal error: libcublas.so.8.0: cannot open shared object file: No such file or directory",
            "",
            "\u001b[0;31m---------------------------------------------------------------------------\u001b[0;32m\nNOTE: If your import is failing due to a missing package, you can\nmanually install dependencies using either !pip or !apt.\n\nTo view examples of installing some common dependencies, click the\n\"Open Examples\" button below.\n\u001b[0;31m---------------------------------------------------------------------------\u001b[0m\n"
          ]
        }
      ]
    },
    {
      "cell_type": "code",
      "metadata": {
        "id": "nJWmf_9FAoUb",
        "colab_type": "code",
        "colab": {}
      },
      "source": [
        "import cupy as cp"
      ],
      "execution_count": 1,
      "outputs": []
    },
    {
      "cell_type": "code",
      "metadata": {
        "id": "HtndgHfOM1MZ",
        "colab_type": "code",
        "colab": {
          "base_uri": "https://localhost:8080/",
          "height": 87
        },
        "outputId": "37544f3c-ef73-480c-bc46-d99c2e0ede19"
      },
      "source": [
        "import numpy as np\n",
        "import re\n",
        "import nltk\n",
        "from sklearn.datasets import load_files\n",
        "nltk.download('stopwords')\n",
        "nltk.download('wordnet')\n",
        "import pickle\n",
        "from nltk.corpus import stopwords\n",
        "from nltk.stem import WordNetLemmatizer\n",
        "from sklearn.feature_extraction.text import CountVectorizer\n",
        "from sklearn.feature_extraction.text import TfidfTransformer\n",
        "from sklearn.model_selection import train_test_split"
      ],
      "execution_count": 7,
      "outputs": [
        {
          "output_type": "stream",
          "text": [
            "[nltk_data] Downloading package stopwords to /root/nltk_data...\n",
            "[nltk_data]   Unzipping corpora/stopwords.zip.\n",
            "[nltk_data] Downloading package wordnet to /root/nltk_data...\n",
            "[nltk_data]   Unzipping corpora/wordnet.zip.\n"
          ],
          "name": "stdout"
        }
      ]
    },
    {
      "cell_type": "markdown",
      "metadata": {
        "id": "_h6dz5X7dAkP",
        "colab_type": "text"
      },
      "source": [
        "Google Drive Mounted"
      ]
    },
    {
      "cell_type": "code",
      "metadata": {
        "id": "S9f6Cvp0Tfyo",
        "colab_type": "code",
        "colab": {
          "base_uri": "https://localhost:8080/",
          "height": 54
        },
        "outputId": "47d5c343-e31c-410b-df30-1993554e6376"
      },
      "source": [
        "from google.colab import drive\n",
        "drive.mount('/content/drive')"
      ],
      "execution_count": 5,
      "outputs": [
        {
          "output_type": "stream",
          "text": [
            "Drive already mounted at /content/drive; to attempt to forcibly remount, call drive.mount(\"/content/drive\", force_remount=True).\n"
          ],
          "name": "stdout"
        }
      ]
    },
    {
      "cell_type": "code",
      "metadata": {
        "id": "oEeqvFXxMl0R",
        "colab_type": "code",
        "colab": {}
      },
      "source": [
        "review_data = load_files(r\"/content/drive/My Drive/movie_review\")\n",
        "X, y = review_data.data, review_data.target\n",
        "\n",
        "documents = []\n",
        "\n",
        "stemmer = WordNetLemmatizer()\n",
        "\n",
        "for sen in range(0, len(X)):\n",
        "    # Remove all the special characters\n",
        "    document = re.sub(r'\\W', ' ', str(X[sen]))\n",
        "    \n",
        "    # remove all single characters\n",
        "    document = re.sub(r'\\s+[a-zA-Z]\\s+', ' ', document)\n",
        "    \n",
        "    # Remove single characters from the start\n",
        "    document = re.sub(r'\\^[a-zA-Z]\\s+', ' ', document) \n",
        "    \n",
        "    # Substituting multiple spaces with single space\n",
        "    document = re.sub(r'\\s+', ' ', document, flags=re.I)\n",
        "    \n",
        "    # Removing prefixed 'b'\n",
        "    document = re.sub(r'^b\\s+', '', document)\n",
        "    \n",
        "    # Converting to Lowercase\n",
        "    document = document.lower()\n",
        "    \n",
        "    # Lemmatization\n",
        "    document = document.split()\n",
        "    document = [stemmer.lemmatize(word) for word in document]\n",
        "    document = ' '.join(document)\n",
        "    \n",
        "    documents.append(document)\n",
        "\n",
        "vectorizer = CountVectorizer(max_features=1500, min_df=5, max_df=0.7, stop_words=stopwords.words('english'))\n",
        "X = vectorizer.fit_transform(documents).toarray()\n",
        "\n",
        "tfidfconverter = TfidfTransformer()\n",
        "X = tfidfconverter.fit_transform(X).toarray()\n",
        "\n",
        "X_train, X_test, y_train, y_test = train_test_split(X, y, test_size=0.3, shuffle=False)\n"
      ],
      "execution_count": 8,
      "outputs": []
    },
    {
      "cell_type": "code",
      "metadata": {
        "id": "a304NG94jkW7",
        "colab_type": "code",
        "colab": {}
      },
      "source": [
        "#\n",
        "# normalize the values of the input data to be [0, 1]\n",
        "#\n",
        "def normalize(data):\n",
        "\n",
        "    data_normalized = (data - min(data)) / (max(data) - min(data))\n",
        "\n",
        "    return(data_normalized)\n",
        "\n",
        "#\n",
        "# example of distance function between two vectors x and y\n",
        "#\n",
        "def distance(x, y):\n",
        "\n",
        "    d = (x - y) ** 2\n",
        "    s = cp.sum(d)\n",
        "    # r = np.sqrt(s)\n",
        "\n",
        "    return(s)"
      ],
      "execution_count": 20,
      "outputs": []
    },
    {
      "cell_type": "code",
      "metadata": {
        "id": "fzi0eHzsYSBz",
        "colab_type": "code",
        "colab": {
          "base_uri": "https://localhost:8080/",
          "height": 52
        },
        "outputId": "889203bd-3a5e-4a35-94e5-ed54d58cfeb1"
      },
      "source": [
        "normalize(np.arange(10))"
      ],
      "execution_count": null,
      "outputs": [
        {
          "output_type": "execute_result",
          "data": {
            "text/plain": [
              "array([0.        , 0.11111111, 0.22222222, 0.33333333, 0.44444444,\n",
              "       0.55555556, 0.66666667, 0.77777778, 0.88888889, 1.        ])"
            ]
          },
          "metadata": {
            "tags": []
          },
          "execution_count": 26
        }
      ]
    },
    {
      "cell_type": "code",
      "metadata": {
        "id": "m_c8gd-EYt1w",
        "colab_type": "code",
        "colab": {
          "base_uri": "https://localhost:8080/",
          "height": 34
        },
        "outputId": "951775cb-63e9-4200-a71b-722bbaa1e632"
      },
      "source": [
        "np.max(X_train[0])"
      ],
      "execution_count": null,
      "outputs": [
        {
          "output_type": "execute_result",
          "data": {
            "text/plain": [
              "0.27764702945292935"
            ]
          },
          "metadata": {
            "tags": []
          },
          "execution_count": 30
        }
      ]
    },
    {
      "cell_type": "code",
      "metadata": {
        "id": "Ol7JPW-hImF7",
        "colab_type": "code",
        "colab": {
          "base_uri": "https://localhost:8080/",
          "height": 34
        },
        "outputId": "10ec08be-9be5-42da-9fb8-7e7d0d345c6d"
      },
      "source": [
        "np.shape(X_train)"
      ],
      "execution_count": 23,
      "outputs": [
        {
          "output_type": "execute_result",
          "data": {
            "text/plain": [
              "(1401, 1500)"
            ]
          },
          "metadata": {
            "tags": []
          },
          "execution_count": 23
        }
      ]
    },
    {
      "cell_type": "markdown",
      "metadata": {
        "id": "0XqIBfmDRMT7",
        "colab_type": "text"
      },
      "source": [
        "Normalization"
      ]
    },
    {
      "cell_type": "code",
      "metadata": {
        "id": "posVETRqR6GA",
        "colab_type": "code",
        "colab": {}
      },
      "source": [
        "X_train_gpu=cp.array(X_train)\n",
        "X_test_gpu=cp.array(X_test)\n",
        "\n",
        "train_x=cp.zeros((1401,1500))\n",
        "test_x=cp.zeros((601,1500))\n",
        "\n",
        "for count in range(1401):\n",
        "  train_x[count]=normalize(X_train_gpu[count])\n",
        "\n",
        "for count in range(0,601):\n",
        "  test_x[count]=normalize(X_test_gpu[count])"
      ],
      "execution_count": 25,
      "outputs": []
    },
    {
      "cell_type": "code",
      "metadata": {
        "id": "tdcui-F9SiIE",
        "colab_type": "code",
        "colab": {
          "base_uri": "https://localhost:8080/",
          "height": 87
        },
        "outputId": "a1cb4642-93a8-41ae-eed3-72797c4c2162"
      },
      "source": [
        "# Shape of Data\n",
        "\n",
        "print(np.shape(X_train))\n",
        "print(np.shape(X_test))\n",
        "print(np.shape(y_train))\n",
        "print(np.shape(y_test))"
      ],
      "execution_count": null,
      "outputs": [
        {
          "output_type": "stream",
          "text": [
            "(1401, 1500)\n",
            "(601, 1500)\n",
            "(1401,)\n",
            "(601,)\n"
          ],
          "name": "stdout"
        }
      ]
    },
    {
      "cell_type": "code",
      "metadata": {
        "id": "A-8vpWpCJMex",
        "colab_type": "code",
        "colab": {}
      },
      "source": [
        "# Shape of Data (by Cupy)\n",
        "\n",
        "print(cp.ndim(train_x))\n",
        "print(cp.ndim(test_x))\n",
        "\n"
      ],
      "execution_count": null,
      "outputs": []
    },
    {
      "cell_type": "markdown",
      "metadata": {
        "id": "CDeTrNv4ZrfR",
        "colab_type": "text"
      },
      "source": [
        "Functions"
      ]
    },
    {
      "cell_type": "code",
      "metadata": {
        "id": "04-4bICwZq7-",
        "colab_type": "code",
        "colab": {}
      },
      "source": [
        "# ndarray를 받았을 때 vector 곱과 sigmoid 연산\n",
        "def nextA(x,theta):\n",
        "  mul=cp.matmul(theta,x)\n",
        "  return 1/(1+cp.exp(-mul))"
      ],
      "execution_count": 12,
      "outputs": []
    },
    {
      "cell_type": "code",
      "metadata": {
        "id": "AzgxXFTfM2oP",
        "colab_type": "code",
        "colab": {
          "base_uri": "https://localhost:8080/",
          "height": 54
        },
        "outputId": "ac35f98c-b0ec-4a56-c0b5-870de2e85342"
      },
      "source": [
        "# 4 thetas\n",
        "\n",
        "theta_1=cp.random.normal(0,0.1,(1300,1501))\n",
        "theta_2=cp.random.normal(0,0.1,(300,1301))\n",
        "theta_3=cp.random.normal(0,0.1,(200,301))\n",
        "theta_4=cp.random.normal(0,0.1,(1,201))\n",
        "\"\"\"\n",
        "theta_1=np.random.normal(0.1,0,(1000,1501))\n",
        "theta_2=np.random.normal(0.1,0,(600,1001))\n",
        "theta_3=np.random.normal(0.1,0,(400,601))\n",
        "theta_4=np.random.normal(0.1,0,(250,401))\n",
        "theta_5=np.random.normal(0.1,0,(1,251))\n",
        "\"\"\""
      ],
      "execution_count": 13,
      "outputs": [
        {
          "output_type": "execute_result",
          "data": {
            "text/plain": [
              "'\\ntheta_1=np.random.normal(0.1,0,(1000,1501))\\ntheta_2=np.random.normal(0.1,0,(600,1001))\\ntheta_3=np.random.normal(0.1,0,(400,601))\\ntheta_4=np.random.normal(0.1,0,(250,401))\\ntheta_5=np.random.normal(0.1,0,(1,251))\\n'"
            ]
          },
          "metadata": {
            "tags": []
          },
          "execution_count": 13
        }
      ]
    },
    {
      "cell_type": "code",
      "metadata": {
        "id": "UN2cD4djZTke",
        "colab_type": "code",
        "colab": {}
      },
      "source": [
        "train_objective=cp.zeros(5000)\n",
        "train_accuracy=cp.zeros(5000)\n",
        "\n",
        "test_objective=cp.zeros(5000)\n",
        "test_accuracy=cp.zeros(5000)\n",
        "\n",
        "theta_size=cp.size(theta_1)+cp.size(theta_2)+cp.size(theta_3)+cp.size(theta_4)\n",
        "\n",
        "m=1401 #train은 1401회"
      ],
      "execution_count": 14,
      "outputs": []
    },
    {
      "cell_type": "code",
      "metadata": {
        "id": "Y-8T2_HNZkoD",
        "colab_type": "code",
        "colab": {}
      },
      "source": [
        "alpha=0.3\n",
        "lamb=1000"
      ],
      "execution_count": 16,
      "outputs": []
    },
    {
      "cell_type": "code",
      "metadata": {
        "id": "P5kMWiJsZm8S",
        "colab_type": "code",
        "colab": {}
      },
      "source": [
        "i=0"
      ],
      "execution_count": 17,
      "outputs": []
    },
    {
      "cell_type": "markdown",
      "metadata": {
        "id": "nmIMHvZdaEnZ",
        "colab_type": "text"
      },
      "source": [
        "Neural Network Algorithm"
      ]
    },
    {
      "cell_type": "code",
      "metadata": {
        "id": "kv1rG6u7aDT6",
        "colab_type": "code",
        "colab": {
          "base_uri": "https://localhost:8080/",
          "height": 239
        },
        "outputId": "ae4766a8-c40a-4467-b84a-4bf4ded8b6aa"
      },
      "source": [
        "while(i<100):\n",
        "\n",
        "  #training\n",
        "  b_delta5=0\n",
        "  b_delta4=0\n",
        "  b_delta3=0\n",
        "  b_delta2=0\n",
        "\n",
        "  objective_sum=0\n",
        "\n",
        "  cor_count=0\n",
        "  theta_aver=(cp.sum(cp.square(theta_1))+cp.sum(cp.square(theta_2))+cp.sum(cp.square(theta_3))+cp.sum(cp.square(theta_4)))/theta_size\n",
        "  \n",
        "  #training\n",
        "  for j in range(0,1401):\n",
        "\n",
        "    # Forward Propagation\n",
        "\n",
        "    a1=train_x[j]\n",
        "    a1_=cp.concatenate(cp.ones(1),a1)\n",
        "    a2=nextA(a1_,theta_1)\n",
        "    a2_=cp.concatenate(cp.ones(1),a2)\n",
        "    a3=nextA(a2_,theta_2)\n",
        "    a3_=cp.concatenate(cp.ones(1),a3)\n",
        "    a4=nextA(a3_,theta_3)\n",
        "    a4_=cp.concatenate(cp.ones(1),a4)\n",
        "    a5=nextA(a4_,theta_4)\n",
        "    a5_=cp.concatenate(cp.ones(1),a5)\n",
        "\n",
        "    # Compute Delta5\n",
        "    delta_5=a5-y_train[j]\n",
        "\n",
        "    # Compute Delta4, Delta3, Delta2\n",
        "    delta_4=cp.matmul(cp.transpose(theta_4),delta_5)*a4_*(1-a4_)\n",
        "    delta_3=cp.matmul(cp.transpose(theta_3),delta_4[1:])*a3_*(1-a3_)\n",
        "    delta_2=cp.matmul(cp.transpose(theta_2),delta_3[1:])*a2_*(1-a2_)\n",
        "\n",
        "    # Compute(accumulate) big Delta5, Delta4, Delta3, Delta2\n",
        "    b_delta5=b_delta5+cp.dot(delta_5.reshape(1,1),a4_.reshape(1,201))\n",
        "    b_delta4=b_delta4+cp.dot(delta_4[1:].reshape(200,1),a3_.reshape(1,301))\n",
        "    b_delta3=b_delta3+cp.dot(delta_3[1:].reshape(300,1),a2_.reshape(1,1301))\n",
        "    b_delta2=b_delta2+cp.dot(delta_2[1:].reshape(1300,1),a1_.reshape(1,1501))\n",
        "  \n",
        "    # Compute(accumulate) Objective\n",
        "    # L is based on the Correct Answer(Y)\n",
        "    objective_sum=objective_sum+cp.sum((-y_train[j]*cp.log(a5))-(1-y_train[j])*cp.log(1-a5))\n",
        "\n",
        "    # Compute the calculated_answer\n",
        "    if a5>1/2:\n",
        "      ans=1\n",
        "    else:\n",
        "      ans=0\n",
        "    \n",
        "\n",
        "  #Setting new Theta\n",
        "  theta_4=theta_4-alpha*(b_delta5/1401+lamb*theta_4/theta_size)\n",
        "  theta_3=theta_3-alpha*(b_delta4/1401+lamb*theta_3/theta_size)\n",
        "  theta_2=theta_2-alpha*(b_delta3/1401+lamb*theta_2/theta_size)\n",
        "  theta_1=theta_1-alpha*(b_delta2/1401+lamb*theta_1/theta_size)\n",
        "\n",
        "  # Testing\n",
        "\n",
        "  ans2=0\n",
        "  cor_count2=0\n",
        "  objective_sum2=0\n",
        "\n",
        "  for j in range(0,601):\n",
        "\n",
        "    # Compute a5 for objective (Forward Propagation)\n",
        "\n",
        "    a1=test_x[j]\n",
        "    a1_=cp.concatenate(cp.ones(1),a1)\n",
        "    a2=nextA(a1_,theta_1)\n",
        "    a2_=cp.concatenate(cp.ones(1),a2)\n",
        "    a3=nextA(a2_,theta_2)\n",
        "    a3_=cp.concatenate(cp.ones(1),a3)\n",
        "    a4=nextA(a3_,theta_3)\n",
        "    a4_=cp.concatenate(cp.ones(1),a4)\n",
        "    a5=nextA(a4_,theta_4)\n",
        "    a5_=cp.concatenate(cp.ones(1),a5)\n",
        "\n",
        "    # Computing(accumulating) Objective Function\n",
        "    objective_sum2=objective_sum2+cp.sum((-y_test[j]*cp.log(a5))-(1-y_test[j])*cp.log(1-a5))\n",
        "\n",
        "    # Compute the answer\n",
        "    if a5>1/2:\n",
        "      ans2=1\n",
        "    else:\n",
        "      ans2=0\n",
        "    \n",
        "    #Compute the accuracy\n",
        "\n",
        "  # Calcluate the Objective Function\n",
        "  train_objective[i]=objective_sum/1401+theta_aver*lamb/2\n",
        "  test_objective[i]=objective_sum2/601+theta_aver*lamb/2\n",
        "\n",
        "  # Checking Accuracy -> Matrix\n",
        "\n",
        "\n",
        "  # Next Step\n",
        "  i=i+1\n",
        "  "
      ],
      "execution_count": 18,
      "outputs": [
        {
          "output_type": "error",
          "ename": "NameError",
          "evalue": "ignored",
          "traceback": [
            "\u001b[0;31m---------------------------------------------------------------------------\u001b[0m",
            "\u001b[0;31mNameError\u001b[0m                                 Traceback (most recent call last)",
            "\u001b[0;32m<ipython-input-18-2ff7b02cc678>\u001b[0m in \u001b[0;36m<module>\u001b[0;34m()\u001b[0m\n\u001b[1;32m     15\u001b[0m   \u001b[0;32mfor\u001b[0m \u001b[0mj\u001b[0m \u001b[0;32min\u001b[0m \u001b[0mrange\u001b[0m\u001b[0;34m(\u001b[0m\u001b[0;36m0\u001b[0m\u001b[0;34m,\u001b[0m\u001b[0;36m1401\u001b[0m\u001b[0;34m)\u001b[0m\u001b[0;34m:\u001b[0m\u001b[0;34m\u001b[0m\u001b[0;34m\u001b[0m\u001b[0m\n\u001b[1;32m     16\u001b[0m \u001b[0;34m\u001b[0m\u001b[0m\n\u001b[0;32m---> 17\u001b[0;31m     \u001b[0ma1\u001b[0m\u001b[0;34m=\u001b[0m\u001b[0mtrain_x\u001b[0m\u001b[0;34m[\u001b[0m\u001b[0mj\u001b[0m\u001b[0;34m]\u001b[0m\u001b[0;34m\u001b[0m\u001b[0;34m\u001b[0m\u001b[0m\n\u001b[0m\u001b[1;32m     18\u001b[0m     \u001b[0ma1_\u001b[0m\u001b[0;34m=\u001b[0m\u001b[0mcp\u001b[0m\u001b[0;34m.\u001b[0m\u001b[0mconcatenate\u001b[0m\u001b[0;34m(\u001b[0m\u001b[0mcp\u001b[0m\u001b[0;34m.\u001b[0m\u001b[0mones\u001b[0m\u001b[0;34m(\u001b[0m\u001b[0;36m1\u001b[0m\u001b[0;34m)\u001b[0m\u001b[0;34m,\u001b[0m\u001b[0ma1\u001b[0m\u001b[0;34m)\u001b[0m\u001b[0;34m\u001b[0m\u001b[0;34m\u001b[0m\u001b[0m\n\u001b[1;32m     19\u001b[0m     \u001b[0ma2\u001b[0m\u001b[0;34m=\u001b[0m\u001b[0mnextA\u001b[0m\u001b[0;34m(\u001b[0m\u001b[0ma1_\u001b[0m\u001b[0;34m,\u001b[0m\u001b[0mtheta_1\u001b[0m\u001b[0;34m)\u001b[0m\u001b[0;34m\u001b[0m\u001b[0;34m\u001b[0m\u001b[0m\n",
            "\u001b[0;31mNameError\u001b[0m: name 'train_x' is not defined"
          ]
        }
      ]
    },
    {
      "cell_type": "code",
      "metadata": {
        "id": "jylGAJXybfX5",
        "colab_type": "code",
        "colab": {}
      },
      "source": [
        "a1=train_x[1]\n",
        "a1_=np.append(np.ones(1),a1)\n",
        "a2=nextA(a1_,theta_1)\n",
        "a2_=np.append(np.ones(1),a2)\n",
        "a3=nextA(a2_,theta_2)\n",
        "a3_=np.append(np.ones(1),a3)\n",
        "a4=nextA(a3_,theta_3)\n",
        "a4_=np.append(np.ones(1),a4)\n",
        "a5=nextA(a4_,theta_4)\n",
        "a5_=np.append(np.ones(1),a5)"
      ],
      "execution_count": null,
      "outputs": []
    },
    {
      "cell_type": "code",
      "metadata": {
        "id": "BA2pBWg0buxk",
        "colab_type": "code",
        "colab": {
          "base_uri": "https://localhost:8080/",
          "height": 369
        },
        "outputId": "805414fd-9345-4f47-d6a5-b7a414ea27a4"
      },
      "source": [
        "for i in range(0,20):\n",
        "  a1=train_x[i]\n",
        "  a1_=np.append(np.ones(1),a1)\n",
        "  a2=nextA(a1_,theta_1)\n",
        "  a2_=np.append(np.ones(1),a2)\n",
        "  a3=nextA(a2_,theta_2)\n",
        "  a3_=np.append(np.ones(1),a3)\n",
        "  a4=nextA(a3_,theta_3)\n",
        "  a4_=np.append(np.ones(1),a4)\n",
        "  a5=nextA(a4_,theta_4)\n",
        "  a5_=np.append(np.ones(1),a5)\n",
        "  print(a5[0],y_test[i])"
      ],
      "execution_count": null,
      "outputs": [
        {
          "output_type": "stream",
          "text": [
            "0.9999999981349912 1\n",
            "0.9999999981349912 1\n",
            "0.9999999981349912 0\n",
            "0.9999999981349912 1\n",
            "0.9999999981349912 1\n",
            "0.9999999981349912 1\n",
            "0.9999999981349912 1\n",
            "0.9999999981349912 0\n",
            "0.9999999981349912 0\n",
            "0.9999999981349912 0\n",
            "0.9999999981349912 0\n",
            "0.9999999981349912 1\n",
            "0.9999999981349912 1\n",
            "0.9999999981349912 0\n",
            "0.9999999981349912 0\n",
            "0.9999999981349912 1\n",
            "0.9999999981349912 1\n",
            "0.9999999981349912 1\n",
            "0.9999999981349912 0\n",
            "0.9999999981349912 0\n"
          ],
          "name": "stdout"
        }
      ]
    },
    {
      "cell_type": "code",
      "metadata": {
        "id": "VaTX8wFUdcMa",
        "colab_type": "code",
        "colab": {
          "base_uri": "https://localhost:8080/",
          "height": 369
        },
        "outputId": "dc267702-a661-4994-83cc-725cfbc8d89b"
      },
      "source": [
        "for i in range(0,20):\n",
        "  a1=X_train[i]\n",
        "  a1_=np.append(np.ones(1),a1)\n",
        "  a2=nextA(a1_,theta_1)\n",
        "  a2_=np.append(np.ones(1),a2)\n",
        "  a3=nextA(a2_,theta_2)\n",
        "  a3_=np.append(np.ones(1),a3)\n",
        "  a4=nextA(a3_,theta_3)\n",
        "  a4_=np.append(np.ones(1),a4)\n",
        "  a5=nextA(a4_,theta_4)\n",
        "  a5_=np.append(np.ones(1),a5)\n",
        "  a6=nextA(a5_,theta_5)\n",
        "  a6_=np.append(np.ones(1),a6)\n",
        "  print(a6[0])"
      ],
      "execution_count": null,
      "outputs": [
        {
          "output_type": "stream",
          "text": [
            "0.9999999999874336\n",
            "0.9999999999874336\n",
            "0.9999999999874336\n",
            "0.9999999999874336\n",
            "0.9999999999874336\n",
            "0.9999999999874336\n",
            "0.9999999999874336\n",
            "0.9999999999874336\n",
            "0.9999999999874336\n",
            "0.9999999999874336\n",
            "0.9999999999874336\n",
            "0.9999999999874336\n",
            "0.9999999999874336\n",
            "0.9999999999874336\n",
            "0.9999999999874336\n",
            "0.9999999999874336\n",
            "0.9999999999874336\n",
            "0.9999999999874336\n",
            "0.9999999999874336\n",
            "0.9999999999874336\n"
          ],
          "name": "stdout"
        }
      ]
    },
    {
      "cell_type": "markdown",
      "metadata": {
        "id": "qA4xSH6cXAAE",
        "colab_type": "text"
      },
      "source": [
        "Codes for Evaluation"
      ]
    },
    {
      "cell_type": "code",
      "metadata": {
        "id": "HWyyisy5NMcx",
        "colab_type": "code",
        "colab": {
          "base_uri": "https://localhost:8080/",
          "height": 204
        },
        "outputId": "e0b0952e-13dd-4e8c-9093-b93f7e498f5d"
      },
      "source": [
        "classifier = train_classifier(X_train, y_train)\n",
        "y_pred_test = classifier.predict(X_test)\n",
        "y_pred_train = classifier.predict(X_train)"
      ],
      "execution_count": 30,
      "outputs": [
        {
          "output_type": "error",
          "ename": "NameError",
          "evalue": "ignored",
          "traceback": [
            "\u001b[0;31m---------------------------------------------------------------------------\u001b[0m",
            "\u001b[0;31mNameError\u001b[0m                                 Traceback (most recent call last)",
            "\u001b[0;32m<ipython-input-30-880055801693>\u001b[0m in \u001b[0;36m<module>\u001b[0;34m()\u001b[0m\n\u001b[0;32m----> 1\u001b[0;31m \u001b[0mclassifier\u001b[0m \u001b[0;34m=\u001b[0m \u001b[0mtrain_classifier\u001b[0m\u001b[0;34m(\u001b[0m\u001b[0mX_train\u001b[0m\u001b[0;34m,\u001b[0m \u001b[0my_train\u001b[0m\u001b[0;34m)\u001b[0m\u001b[0;34m\u001b[0m\u001b[0;34m\u001b[0m\u001b[0m\n\u001b[0m\u001b[1;32m      2\u001b[0m \u001b[0my_pred_test\u001b[0m \u001b[0;34m=\u001b[0m \u001b[0mclassifier\u001b[0m\u001b[0;34m.\u001b[0m\u001b[0mpredict\u001b[0m\u001b[0;34m(\u001b[0m\u001b[0mX_test\u001b[0m\u001b[0;34m)\u001b[0m\u001b[0;34m\u001b[0m\u001b[0;34m\u001b[0m\u001b[0m\n\u001b[1;32m      3\u001b[0m \u001b[0my_pred_train\u001b[0m \u001b[0;34m=\u001b[0m \u001b[0mclassifier\u001b[0m\u001b[0;34m.\u001b[0m\u001b[0mpredict\u001b[0m\u001b[0;34m(\u001b[0m\u001b[0mX_train\u001b[0m\u001b[0;34m)\u001b[0m\u001b[0;34m\u001b[0m\u001b[0;34m\u001b[0m\u001b[0m\n",
            "\u001b[0;31mNameError\u001b[0m: name 'train_classifier' is not defined"
          ]
        }
      ]
    },
    {
      "cell_type": "code",
      "metadata": {
        "id": "dSR6Grc5XByf",
        "colab_type": "code",
        "colab": {
          "base_uri": "https://localhost:8080/",
          "height": 259
        },
        "outputId": "10984b76-3e3f-4e7a-f6d5-1c6b8b57c092"
      },
      "source": [
        "from sklearn.metrics import classification_report, confusion_matrix, accuracy_score\n",
        "\n",
        "print(confusion_matrix(y_train,y_pred_train))\n",
        "print(classification_report(y_train,y_pred_train))\n",
        "print(accuracy_score(y_train, y_pred_train))\n",
        "\n",
        "print(confusion_matrix(y_test,y_pred_test))\n",
        "print(classification_report(y_test,y_pred_test))\n",
        "print(accuracy_score(y_test,y_pred_test))"
      ],
      "execution_count": 29,
      "outputs": [
        {
          "output_type": "error",
          "ename": "NameError",
          "evalue": "ignored",
          "traceback": [
            "\u001b[0;31m---------------------------------------------------------------------------\u001b[0m",
            "\u001b[0;31mNameError\u001b[0m                                 Traceback (most recent call last)",
            "\u001b[0;32m<ipython-input-29-e9d3ace157fa>\u001b[0m in \u001b[0;36m<module>\u001b[0;34m()\u001b[0m\n\u001b[1;32m      1\u001b[0m \u001b[0;32mfrom\u001b[0m \u001b[0msklearn\u001b[0m\u001b[0;34m.\u001b[0m\u001b[0mmetrics\u001b[0m \u001b[0;32mimport\u001b[0m \u001b[0mclassification_report\u001b[0m\u001b[0;34m,\u001b[0m \u001b[0mconfusion_matrix\u001b[0m\u001b[0;34m,\u001b[0m \u001b[0maccuracy_score\u001b[0m\u001b[0;34m\u001b[0m\u001b[0;34m\u001b[0m\u001b[0m\n\u001b[1;32m      2\u001b[0m \u001b[0;34m\u001b[0m\u001b[0m\n\u001b[0;32m----> 3\u001b[0;31m \u001b[0mprint\u001b[0m\u001b[0;34m(\u001b[0m\u001b[0mconfusion_matrix\u001b[0m\u001b[0;34m(\u001b[0m\u001b[0my_train\u001b[0m\u001b[0;34m,\u001b[0m\u001b[0my_pred_train\u001b[0m\u001b[0;34m)\u001b[0m\u001b[0;34m)\u001b[0m\u001b[0;34m\u001b[0m\u001b[0;34m\u001b[0m\u001b[0m\n\u001b[0m\u001b[1;32m      4\u001b[0m \u001b[0mprint\u001b[0m\u001b[0;34m(\u001b[0m\u001b[0mclassification_report\u001b[0m\u001b[0;34m(\u001b[0m\u001b[0my_train\u001b[0m\u001b[0;34m,\u001b[0m\u001b[0my_pred_train\u001b[0m\u001b[0;34m)\u001b[0m\u001b[0;34m)\u001b[0m\u001b[0;34m\u001b[0m\u001b[0;34m\u001b[0m\u001b[0m\n\u001b[1;32m      5\u001b[0m \u001b[0mprint\u001b[0m\u001b[0;34m(\u001b[0m\u001b[0maccuracy_score\u001b[0m\u001b[0;34m(\u001b[0m\u001b[0my_train\u001b[0m\u001b[0;34m,\u001b[0m \u001b[0my_pred_train\u001b[0m\u001b[0;34m)\u001b[0m\u001b[0;34m)\u001b[0m\u001b[0;34m\u001b[0m\u001b[0;34m\u001b[0m\u001b[0m\n",
            "\u001b[0;31mNameError\u001b[0m: name 'y_pred_train' is not defined"
          ]
        }
      ]
    },
    {
      "cell_type": "code",
      "metadata": {
        "id": "G4MjiTxyUHpn",
        "colab_type": "code",
        "colab": {
          "base_uri": "https://localhost:8080/",
          "height": 204
        },
        "outputId": "7fbcbd16-93ce-4247-9f5d-a84772177728"
      },
      "source": [
        "classifier = train_classifier(X_train, y_train)\n",
        "y_pred_test = classifier.predict(X_test)\n",
        "y_pred_train = classifier.predict(X_train)"
      ],
      "execution_count": null,
      "outputs": [
        {
          "output_type": "error",
          "ename": "NameError",
          "evalue": "ignored",
          "traceback": [
            "\u001b[0;31m---------------------------------------------------------------------------\u001b[0m",
            "\u001b[0;31mNameError\u001b[0m                                 Traceback (most recent call last)",
            "\u001b[0;32m<ipython-input-21-880055801693>\u001b[0m in \u001b[0;36m<module>\u001b[0;34m()\u001b[0m\n\u001b[0;32m----> 1\u001b[0;31m \u001b[0mclassifier\u001b[0m \u001b[0;34m=\u001b[0m \u001b[0mtrain_classifier\u001b[0m\u001b[0;34m(\u001b[0m\u001b[0mX_train\u001b[0m\u001b[0;34m,\u001b[0m \u001b[0my_train\u001b[0m\u001b[0;34m)\u001b[0m\u001b[0;34m\u001b[0m\u001b[0;34m\u001b[0m\u001b[0m\n\u001b[0m\u001b[1;32m      2\u001b[0m \u001b[0my_pred_test\u001b[0m \u001b[0;34m=\u001b[0m \u001b[0mclassifier\u001b[0m\u001b[0;34m.\u001b[0m\u001b[0mpredict\u001b[0m\u001b[0;34m(\u001b[0m\u001b[0mX_test\u001b[0m\u001b[0;34m)\u001b[0m\u001b[0;34m\u001b[0m\u001b[0;34m\u001b[0m\u001b[0m\n\u001b[1;32m      3\u001b[0m \u001b[0my_pred_train\u001b[0m \u001b[0;34m=\u001b[0m \u001b[0mclassifier\u001b[0m\u001b[0;34m.\u001b[0m\u001b[0mpredict\u001b[0m\u001b[0;34m(\u001b[0m\u001b[0mX_train\u001b[0m\u001b[0;34m)\u001b[0m\u001b[0;34m\u001b[0m\u001b[0;34m\u001b[0m\u001b[0m\n",
            "\u001b[0;31mNameError\u001b[0m: name 'train_classifier' is not defined"
          ]
        }
      ]
    },
    {
      "cell_type": "code",
      "metadata": {
        "id": "jVw1PE-qmKpK",
        "colab_type": "code",
        "colab": {}
      },
      "source": [
        ""
      ],
      "execution_count": null,
      "outputs": []
    }
  ]
}