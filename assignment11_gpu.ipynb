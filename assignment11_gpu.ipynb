{
  "nbformat": 4,
  "nbformat_minor": 0,
  "metadata": {
    "colab": {
      "name": "assignment11_gpu.ipynb",
      "provenance": [],
      "collapsed_sections": [],
      "mount_file_id": "1FI2SArPbotIe22dpmg1AginsTyqYGXSX",
      "authorship_tag": "ABX9TyOkqWTKZ1YxjQzmStP+TOLI",
      "include_colab_link": true
    },
    "kernelspec": {
      "name": "python3",
      "display_name": "Python 3"
    },
    "accelerator": "GPU"
  },
  "cells": [
    {
      "cell_type": "markdown",
      "metadata": {
        "id": "view-in-github",
        "colab_type": "text"
      },
      "source": [
        "<a href=\"https://colab.research.google.com/github/crescent98/machinelearning35911/blob/master/assignment11_gpu.ipynb\" target=\"_parent\"><img src=\"https://colab.research.google.com/assets/colab-badge.svg\" alt=\"Open In Colab\"/></a>"
      ]
    },
    {
      "cell_type": "code",
      "metadata": {
        "id": "c0SNzrM3SjAR",
        "colab_type": "code",
        "colab": {}
      },
      "source": [
        "%matplotlib inline\n",
        "import matplotlib.pyplot as plt\n",
        "import six\n",
        "import numpy as np\n",
        "import cupy as cp\n",
        "import math"
      ],
      "execution_count": 104,
      "outputs": []
    },
    {
      "cell_type": "code",
      "metadata": {
        "id": "nJWmf_9FAoUb",
        "colab_type": "code",
        "colab": {}
      },
      "source": [
        "import cupy as cp\n",
        "import matplotlib.pyplot as plt"
      ],
      "execution_count": 2,
      "outputs": []
    },
    {
      "cell_type": "code",
      "metadata": {
        "id": "HtndgHfOM1MZ",
        "colab_type": "code",
        "colab": {
          "base_uri": "https://localhost:8080/",
          "height": 86
        },
        "outputId": "84eee5e6-a932-4567-b420-dbab3027ef56"
      },
      "source": [
        "import numpy as np\n",
        "import re\n",
        "import nltk\n",
        "from sklearn.datasets import load_files\n",
        "nltk.download('stopwords')\n",
        "nltk.download('wordnet')\n",
        "import pickle\n",
        "from nltk.corpus import stopwords\n",
        "from nltk.stem import WordNetLemmatizer\n",
        "from sklearn.feature_extraction.text import CountVectorizer\n",
        "from sklearn.feature_extraction.text import TfidfTransformer\n",
        "from sklearn.model_selection import train_test_split"
      ],
      "execution_count": 3,
      "outputs": [
        {
          "output_type": "stream",
          "text": [
            "[nltk_data] Downloading package stopwords to /root/nltk_data...\n",
            "[nltk_data]   Unzipping corpora/stopwords.zip.\n",
            "[nltk_data] Downloading package wordnet to /root/nltk_data...\n",
            "[nltk_data]   Unzipping corpora/wordnet.zip.\n"
          ],
          "name": "stdout"
        }
      ]
    },
    {
      "cell_type": "markdown",
      "metadata": {
        "id": "_h6dz5X7dAkP",
        "colab_type": "text"
      },
      "source": [
        "Google Drive Mounted"
      ]
    },
    {
      "cell_type": "code",
      "metadata": {
        "id": "S9f6Cvp0Tfyo",
        "colab_type": "code",
        "colab": {
          "base_uri": "https://localhost:8080/",
          "height": 54
        },
        "outputId": "ff12e403-a85e-4006-9cfd-40ad10a0164a"
      },
      "source": [
        "from google.colab import drive\n",
        "drive.mount('/content/drive')"
      ],
      "execution_count": 4,
      "outputs": [
        {
          "output_type": "stream",
          "text": [
            "Drive already mounted at /content/drive; to attempt to forcibly remount, call drive.mount(\"/content/drive\", force_remount=True).\n"
          ],
          "name": "stdout"
        }
      ]
    },
    {
      "cell_type": "code",
      "metadata": {
        "id": "oEeqvFXxMl0R",
        "colab_type": "code",
        "colab": {}
      },
      "source": [
        "review_data = load_files(r\"/content/drive/My Drive/movie_review\")\n",
        "X, y = review_data.data, review_data.target\n",
        "\n",
        "documents = []\n",
        "\n",
        "stemmer = WordNetLemmatizer()\n",
        "\n",
        "for sen in range(0, len(X)):\n",
        "    # Remove all the special characters\n",
        "    document = re.sub(r'\\W', ' ', str(X[sen]))\n",
        "    \n",
        "    # remove all single characters\n",
        "    document = re.sub(r'\\s+[a-zA-Z]\\s+', ' ', document)\n",
        "    \n",
        "    # Remove single characters from the start\n",
        "    document = re.sub(r'\\^[a-zA-Z]\\s+', ' ', document) \n",
        "    \n",
        "    # Substituting multiple spaces with single space\n",
        "    document = re.sub(r'\\s+', ' ', document, flags=re.I)\n",
        "    \n",
        "    # Removing prefixed 'b'\n",
        "    document = re.sub(r'^b\\s+', '', document)\n",
        "    \n",
        "    # Converting to Lowercase\n",
        "    document = document.lower()\n",
        "    \n",
        "    # Lemmatization\n",
        "    document = document.split()\n",
        "    document = [stemmer.lemmatize(word) for word in document]\n",
        "    document = ' '.join(document)\n",
        "    \n",
        "    documents.append(document)\n",
        "\n",
        "vectorizer = CountVectorizer(max_features=1500, min_df=5, max_df=0.7, stop_words=stopwords.words('english'))\n",
        "X = vectorizer.fit_transform(documents).toarray()\n",
        "\n",
        "tfidfconverter = TfidfTransformer()\n",
        "X = tfidfconverter.fit_transform(X).toarray()\n",
        "\n",
        "X_train, X_test, y_train, y_test = train_test_split(X, y, test_size=0.3, shuffle=False)\n"
      ],
      "execution_count": 106,
      "outputs": []
    },
    {
      "cell_type": "code",
      "metadata": {
        "id": "a304NG94jkW7",
        "colab_type": "code",
        "colab": {}
      },
      "source": [
        "#\n",
        "# normalize the values of the input data to be [0, 1]\n",
        "#\n",
        "def normalize(data):\n",
        "\n",
        "    data_normalized = (data - min(data)) / (max(data) - min(data))\n",
        "\n",
        "    return(data_normalized)\n",
        "\n",
        "#\n",
        "# example of distance function between two vectors x and y\n",
        "#\n",
        "def distance(x, y):\n",
        "\n",
        "    d = (x - y) ** 2\n",
        "    s = cp.sum(d)\n",
        "    # r = np.sqrt(s)\n",
        "\n",
        "    return(s)"
      ],
      "execution_count": 6,
      "outputs": []
    },
    {
      "cell_type": "markdown",
      "metadata": {
        "id": "0XqIBfmDRMT7",
        "colab_type": "text"
      },
      "source": [
        "Normalization"
      ]
    },
    {
      "cell_type": "code",
      "metadata": {
        "id": "dQq_v2bb165T",
        "colab_type": "code",
        "colab": {}
      },
      "source": [
        "X_train_gpu=cp.array(X_train)\n",
        "X_test_gpu=cp.array(X_test)"
      ],
      "execution_count": 14,
      "outputs": []
    },
    {
      "cell_type": "markdown",
      "metadata": {
        "id": "CDeTrNv4ZrfR",
        "colab_type": "text"
      },
      "source": [
        "Functions"
      ]
    },
    {
      "cell_type": "code",
      "metadata": {
        "id": "04-4bICwZq7-",
        "colab_type": "code",
        "colab": {}
      },
      "source": [
        "# ndarray를 받았을 때 vector 곱과 sigmoid 연산\n",
        "def nextA(x,theta):\n",
        "  mul=cp.matmul(theta,x)\n",
        "  return 1/(1+cp.exp(-mul))"
      ],
      "execution_count": 7,
      "outputs": []
    },
    {
      "cell_type": "code",
      "metadata": {
        "id": "AzgxXFTfM2oP",
        "colab_type": "code",
        "colab": {
          "base_uri": "https://localhost:8080/",
          "height": 54
        },
        "outputId": "22244b4e-2b0d-4b8b-e695-aa5327eae00e"
      },
      "source": [
        "# 4 thetas\n",
        "\n",
        "theta_1=cp.random.normal(0,0.1,(1300,1501))\n",
        "theta_2=cp.random.normal(0,0.1,(300,1301))\n",
        "theta_3=cp.random.normal(0,0.1,(200,301))\n",
        "theta_4=cp.random.normal(0,0.1,(1,201))\n",
        "\"\"\"\n",
        "theta_1=np.random.normal(0.1,0,(1000,1501))\n",
        "theta_2=np.random.normal(0.1,0,(600,1001))\n",
        "theta_3=np.random.normal(0.1,0,(400,601))\n",
        "theta_4=np.random.normal(0.1,0,(250,401))\n",
        "theta_5=np.random.normal(0.1,0,(1,251))\n",
        "\"\"\""
      ],
      "execution_count": 199,
      "outputs": [
        {
          "output_type": "execute_result",
          "data": {
            "text/plain": [
              "'\\ntheta_1=np.random.normal(0.1,0,(1000,1501))\\ntheta_2=np.random.normal(0.1,0,(600,1001))\\ntheta_3=np.random.normal(0.1,0,(400,601))\\ntheta_4=np.random.normal(0.1,0,(250,401))\\ntheta_5=np.random.normal(0.1,0,(1,251))\\n'"
            ]
          },
          "metadata": {
            "tags": []
          },
          "execution_count": 199
        }
      ]
    },
    {
      "cell_type": "code",
      "metadata": {
        "id": "UN2cD4djZTke",
        "colab_type": "code",
        "colab": {}
      },
      "source": [
        "train_objective=cp.zeros(5000)\n",
        "train_accuracy=cp.zeros(5000)\n",
        "\n",
        "test_objective=cp.zeros(5000)\n",
        "test_accuracy=cp.zeros(5000)\n",
        "\n",
        "train_ans=cp.zeros(1401)\n",
        "test_ans=cp.zeros(601)\n",
        "\n",
        "theta_size=cp.size(theta_1)+cp.size(theta_2)+cp.size(theta_3)+cp.size(theta_4)\n",
        "\n",
        "m=1401 #train은 1401회"
      ],
      "execution_count": 200,
      "outputs": []
    },
    {
      "cell_type": "code",
      "metadata": {
        "id": "Y-8T2_HNZkoD",
        "colab_type": "code",
        "colab": {}
      },
      "source": [
        "alpha=0.3\n",
        "lamb=1000"
      ],
      "execution_count": 201,
      "outputs": []
    },
    {
      "cell_type": "code",
      "metadata": {
        "id": "P5kMWiJsZm8S",
        "colab_type": "code",
        "colab": {}
      },
      "source": [
        "i=0"
      ],
      "execution_count": 176,
      "outputs": []
    },
    {
      "cell_type": "markdown",
      "metadata": {
        "id": "nmIMHvZdaEnZ",
        "colab_type": "text"
      },
      "source": [
        "Neural Network Algorithm"
      ]
    },
    {
      "cell_type": "code",
      "metadata": {
        "id": "kv1rG6u7aDT6",
        "colab_type": "code",
        "colab": {}
      },
      "source": [
        "while(i!=1000):\n",
        "\n",
        "  #training\n",
        "  b_delta5=0\n",
        "  b_delta4=0\n",
        "  b_delta3=0\n",
        "  b_delta2=0\n",
        "\n",
        "  objective_sum=0\n",
        "\n",
        "  cor_count=0\n",
        "  theta_aver=(cp.sum(cp.square(theta_1))+cp.sum(cp.square(theta_2))+cp.sum(cp.square(theta_3))+cp.sum(cp.square(theta_4)))/theta_size\n",
        "  \n",
        "  #training\n",
        "  for j in range(0,1400):\n",
        "\n",
        "    # Forward Propagation\n",
        "\n",
        "    a1=X_train_gpu[j]\n",
        "    a1_=cp.concatenate((cp.ones(1),a1))\n",
        "    a2=nextA(a1_,theta_1)\n",
        "    a2_=cp.concatenate((cp.ones(1),a2))\n",
        "    a3=nextA(a2_,theta_2)\n",
        "    a3_=cp.concatenate((cp.ones(1),a3))\n",
        "    a4=nextA(a3_,theta_3)\n",
        "    a4_=cp.concatenate((cp.ones(1),a4))\n",
        "    a5=nextA(a4_,theta_4)\n",
        "    a5_=cp.concatenate((cp.ones(1),a5))\n",
        "\n",
        "    # Compute Delta5\n",
        "    delta_5=a5-y_train[j]\n",
        "\n",
        "    # Compute Delta4, Delta3, Delta2\n",
        "    delta_4=cp.matmul(cp.transpose(theta_4),delta_5)*a4_*(1-a4_)\n",
        "    delta_3=cp.matmul(cp.transpose(theta_3),delta_4[1:])*a3_*(1-a3_)\n",
        "    delta_2=cp.matmul(cp.transpose(theta_2),delta_3[1:])*a2_*(1-a2_)\n",
        "\n",
        "    # Compute(accumulate) big Delta5, Delta4, Delta3, Delta2\n",
        "    b_delta5=b_delta5+cp.matmul(delta_5.reshape(1,1),a4_.reshape(1,201))\n",
        "    b_delta4=b_delta4+cp.matmul(delta_4[1:].reshape(200,1),a3_.reshape(1,301))\n",
        "    b_delta3=b_delta3+cp.matmul(delta_3[1:].reshape(300,1),a2_.reshape(1,1301))\n",
        "    b_delta2=b_delta2+cp.matmul(delta_2[1:].reshape(1300,1),a1_.reshape(1,1501))\n",
        "  \n",
        "    # Compute(accumulate) Objective\n",
        "    # L is based on the Correct Answer(Y)\n",
        "    objective_sum=objective_sum+(-y_train[j]*cp.log(a5))-(1-y_train[j])*cp.log(1-a5)\n",
        "    if math.isnan(objective_sum):\n",
        "      print(j,\"nan이 검출되었습니다\")\n",
        "      sys.exit()\n",
        "    # Compute the calculated_answer\n",
        "    if a5>1/2:\n",
        "      train_ans[j]=1\n",
        "      if y_train[j]==1:\n",
        "        cor_count=cor_count+1\n",
        "    else:\n",
        "      train_ans[j]=0\n",
        "      if y_train[j]==0:\n",
        "        cor_count=cor_count+1\n",
        "\n",
        "  #Setting new Theta\n",
        "  theta_4=theta_4-alpha*(b_delta5/1401+lamb*theta_4/theta_size)\n",
        "  theta_3=theta_3-alpha*(b_delta4/1401+lamb*theta_3/theta_size)\n",
        "  theta_2=theta_2-alpha*(b_delta3/1401+lamb*theta_2/theta_size)\n",
        "  theta_1=theta_1-alpha*(b_delta2/1401+lamb*theta_1/theta_size)\n",
        "  \n",
        "  \n",
        "  # Testing\n",
        "  ans2=0\n",
        "  cor_count2=0\n",
        "  objective_sum2=0\n",
        "\n",
        "  theta_aver=(cp.sum(cp.square(theta_1))+cp.sum(cp.square(theta_2))+cp.sum(cp.square(theta_3))+cp.sum(cp.square(theta_4)))/theta_size  \n",
        "  for j in range(0,601):\n",
        "\n",
        "    # Compute a5 for objective (Forward Propagation)\n",
        "\n",
        "    a1=X_test_gpu[j]\n",
        "    a1_=cp.concatenate((cp.ones(1),a1))\n",
        "    a2=nextA(a1_,theta_1)\n",
        "    a2_=cp.concatenate((cp.ones(1),a2))\n",
        "    a3=nextA(a2_,theta_2)\n",
        "    a3_=cp.concatenate((cp.ones(1),a3))\n",
        "    a4=nextA(a3_,theta_3)\n",
        "    a4_=cp.concatenate((cp.ones(1),a4))\n",
        "    a5=nextA(a4_,theta_4)\n",
        "    a5_=cp.concatenate((cp.ones(1),a5))\n",
        "\n",
        "    # Computing(accumulating) Objective Function\n",
        "    objective_sum2=objective_sum2+(-y_test[j]*cp.log(a5))-(1-y_test[j])*cp.log(1-a5)\n",
        "\n",
        "    # Compute the answer\n",
        "    if a5>1/2:\n",
        "      test_ans[j]=1\n",
        "      if y_test[j]==1:\n",
        "        cor_count2=cor_count2+1\n",
        "    else:\n",
        "      test_ans[j]=0\n",
        "      if y_test[j]==0:\n",
        "        cor_count2=cor_count2+1\n",
        "    \n",
        "  #Compute the accuracy\n",
        "  train_accuracy[i]=cor_count/1401\n",
        "  test_accuracy[i]=cor_count2/601\n",
        "\n",
        "  # Calcluate the Objective Function\n",
        "  train_objective[i]=objective_sum[0]/1401+theta_aver*lamb/2\n",
        "  test_objective[i]=objective_sum2[0]/601+theta_aver*lamb/2\n",
        "\n",
        "  # Next \n",
        "  i=i+1\n"
      ],
      "execution_count": 228,
      "outputs": []
    },
    {
      "cell_type": "markdown",
      "metadata": {
        "id": "f4Xb6RCFPh0h",
        "colab_type": "text"
      },
      "source": [
        "# ***1. Plot the Loss Curve***"
      ]
    },
    {
      "cell_type": "code",
      "metadata": {
        "id": "Jf--2lLeRLqh",
        "colab_type": "code",
        "colab": {}
      },
      "source": [
        "train_objective_np=cp.asnumpy(train_objective)\n",
        "test_objective_np=cp.asnumpy(test_objective)"
      ],
      "execution_count": 229,
      "outputs": []
    },
    {
      "cell_type": "code",
      "metadata": {
        "id": "3gq8y34PPq1W",
        "colab_type": "code",
        "colab": {
          "base_uri": "https://localhost:8080/",
          "height": 282
        },
        "outputId": "85ad164e-7d93-4e54-f3db-c92bf4c8d780"
      },
      "source": [
        "plt.scatter(range(260,i),train_objective_np[260:i],c=\"#0000ff\",label='blue',s=1)\n",
        "plt.scatter(range(260,i),test_objective_np[260:i],c=\"#ff0000\",label=\"red\",s=1)\n",
        "print(\"train: blue test: red\")"
      ],
      "execution_count": 230,
      "outputs": [
        {
          "output_type": "stream",
          "text": [
            "train: blue test: red\n"
          ],
          "name": "stdout"
        },
        {
          "output_type": "display_data",
          "data": {
            "image/png": "[encoded data removed]",
            "text/plain": [
              "<Figure size 432x288 with 1 Axes>"
            ]
          },
          "metadata": {
            "tags": [],
            "needs_background": "light"
          }
        }
      ]
    },
    {
      "cell_type": "code",
      "metadata": {
        "id": "MPAu1aTHxpGs",
        "colab_type": "code",
        "colab": {
          "base_uri": "https://localhost:8080/",
          "height": 282
        },
        "outputId": "79bbe301-b16a-4d0a-bb84-55a79886e2b9"
      },
      "source": [
        "plt.scatter(range(900,i),train_objective_np[900:i],c=\"#0000ff\",label='blue',s=1)\n",
        "plt.scatter(range(900,i),test_objective_np[900:i],c=\"#ff0000\",label=\"red\",s=1)\n",
        "print(\"train: blue test: red\")"
      ],
      "execution_count": 237,
      "outputs": [
        {
          "output_type": "stream",
          "text": [
            "train: blue test: red\n"
          ],
          "name": "stdout"
        },
        {
          "output_type": "display_data",
          "data": {
            "image/png": "[encoded data removed]",
            "text/plain": [
              "<Figure size 432x288 with 1 Axes>"
            ]
          },
          "metadata": {
            "tags": [],
            "needs_background": "light"
          }
        }
      ]
    },
    {
      "cell_type": "markdown",
      "metadata": {
        "id": "2SmFehy2PmAR",
        "colab_type": "text"
      },
      "source": [
        "# ***2. Plot the Accuracy Curve***"
      ]
    },
    {
      "cell_type": "code",
      "metadata": {
        "id": "fnhbULm2Lx8V",
        "colab_type": "code",
        "colab": {}
      },
      "source": [
        "train_accuracy_np=cp.asnumpy(train_accuracy)\n",
        "test_accuracy_np=cp.asnumpy(test_accuracy)"
      ],
      "execution_count": 232,
      "outputs": []
    },
    {
      "cell_type": "code",
      "metadata": {
        "id": "2yx5dzZgPrUf",
        "colab_type": "code",
        "colab": {
          "base_uri": "https://localhost:8080/",
          "height": 282
        },
        "outputId": "a8653ac2-d68b-44d0-9aec-7a38ab6fa73a"
      },
      "source": [
        "plt.scatter(range(250,i),train_accuracy_np[250:i],c=\"#0000ff\",label=\"blue\",s=1)\n",
        "plt.scatter(range(250,i),test_accuracy_np[250:i],c=\"#ff0000\",label=\"red\",s=1)\n",
        "print(\"train: blue test: red\")"
      ],
      "execution_count": 233,
      "outputs": [
        {
          "output_type": "stream",
          "text": [
            "train: blue test: red\n"
          ],
          "name": "stdout"
        },
        {
          "output_type": "display_data",
          "data": {
            "image/png": "[encoded data removed]",
            "text/plain": [
              "<Figure size 432x288 with 1 Axes>"
            ]
          },
          "metadata": {
            "tags": [],
            "needs_background": "light"
          }
        }
      ]
    },
    {
      "cell_type": "markdown",
      "metadata": {
        "id": "qA4xSH6cXAAE",
        "colab_type": "text"
      },
      "source": [
        "# ***3. Plot the quantitative results***"
      ]
    },
    {
      "cell_type": "code",
      "metadata": {
        "id": "HWyyisy5NMcx",
        "colab_type": "code",
        "colab": {}
      },
      "source": [
        "train_ans_np=cp.asnumpy(train_ans)\n",
        "test_ans_np=cp.asnumpy(test_ans)"
      ],
      "execution_count": 234,
      "outputs": []
    },
    {
      "cell_type": "code",
      "metadata": {
        "id": "dSR6Grc5XByf",
        "colab_type": "code",
        "colab": {
          "base_uri": "https://localhost:8080/",
          "height": 436
        },
        "outputId": "29a7e007-0cea-40d8-a156-523c68654f13"
      },
      "source": [
        "from sklearn.metrics import classification_report, confusion_matrix, accuracy_score\n",
        "\n",
        "print(confusion_matrix(y_train,train_ans_np))\n",
        "print(classification_report(y_train,train_ans_np))\n",
        "print(accuracy_score(y_train, train_ans_np))\n",
        "\n",
        "print(confusion_matrix(y_test,test_ans_np))\n",
        "print(classification_report(y_test,test_ans_np))\n",
        "print(accuracy_score(y_test,test_ans_np))"
      ],
      "execution_count": 235,
      "outputs": [
        {
          "output_type": "stream",
          "text": [
            "[[338 361]\n",
            " [ 83 619]]\n",
            "              precision    recall  f1-score   support\n",
            "\n",
            "           0       0.80      0.48      0.60       699\n",
            "           1       0.63      0.88      0.74       702\n",
            "\n",
            "    accuracy                           0.68      1401\n",
            "   macro avg       0.72      0.68      0.67      1401\n",
            "weighted avg       0.72      0.68      0.67      1401\n",
            "\n",
            "0.683083511777302\n",
            "[[127 175]\n",
            " [ 36 263]]\n",
            "              precision    recall  f1-score   support\n",
            "\n",
            "           0       0.78      0.42      0.55       302\n",
            "           1       0.60      0.88      0.71       299\n",
            "\n",
            "    accuracy                           0.65       601\n",
            "   macro avg       0.69      0.65      0.63       601\n",
            "weighted avg       0.69      0.65      0.63       601\n",
            "\n",
            "0.64891846921797\n"
          ],
          "name": "stdout"
        }
      ]
    },
    {
      "cell_type": "markdown",
      "metadata": {
        "id": "vshRKnyBYFwJ",
        "colab_type": "text"
      },
      "source": [
        "# ***4. Testing Accuracy***"
      ]
    },
    {
      "cell_type": "code",
      "metadata": {
        "id": "8C01WkSYYL8M",
        "colab_type": "code",
        "colab": {
          "base_uri": "https://localhost:8080/",
          "height": 34
        },
        "outputId": "319ddba1-3139-4675-87f7-0a736e2119bd"
      },
      "source": [
        "print(\"The Final testing accuracy is: \",test_accuracy[i-1])"
      ],
      "execution_count": 236,
      "outputs": [
        {
          "output_type": "stream",
          "text": [
            "The Final testing accuracy is:  0.64891846921797\n"
          ],
          "name": "stdout"
        }
      ]
    }
  ]
}