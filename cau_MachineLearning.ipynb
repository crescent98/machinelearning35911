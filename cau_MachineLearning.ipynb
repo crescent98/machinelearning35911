{
  "nbformat": 4,
  "nbformat_minor": 0,
  "metadata": {
    "colab": {
      "name": "cau_MachineLearning",
      "provenance": [],
      "collapsed_sections": [],
      "authorship_tag": "ABX9TyMYlqhFNDQDj7a26KyYqKlB",
      "include_colab_link": true
    },
    "kernelspec": {
      "name": "python3",
      "display_name": "Python 3"
    }
  },
  "cells": [
    {
      "cell_type": "markdown",
      "metadata": {
        "id": "view-in-github",
        "colab_type": "text"
      },
      "source": [
        "<a href=\"https://colab.research.google.com/github/crescent98/machinelearning35911/blob/master/cau_MachineLearning.ipynb\" target=\"_parent\"><img src=\"https://colab.research.google.com/assets/colab-badge.svg\" alt=\"Open In Colab\"/></a>"
      ]
    },
    {
      "cell_type": "code",
      "metadata": {
        "id": "SHiF8P-VJRG0",
        "colab_type": "code",
        "colab": {}
      },
      "source": [
        "import numpy as np"
      ],
      "execution_count": 0,
      "outputs": []
    },
    {
      "cell_type": "code",
      "metadata": {
        "id": "WPZv1qMpJlKS",
        "colab_type": "code",
        "colab": {}
      },
      "source": [
        "import matplotlib.pyplot as plt"
      ],
      "execution_count": 0,
      "outputs": []
    },
    {
      "cell_type": "code",
      "metadata": {
        "id": "JOo9av6Bt4fP",
        "colab_type": "code",
        "colab": {}
      },
      "source": [
        "from matplotlib.pylab import plot, show"
      ],
      "execution_count": 0,
      "outputs": []
    },
    {
      "cell_type": "code",
      "metadata": {
        "id": "8iPJdId4Nx4c",
        "colab_type": "code",
        "colab": {}
      },
      "source": [
        "m=10"
      ],
      "execution_count": 0,
      "outputs": []
    },
    {
      "cell_type": "code",
      "metadata": {
        "id": "YANDc1TRvNUM",
        "colab_type": "code",
        "colab": {}
      },
      "source": [
        "a=0.01"
      ],
      "execution_count": 0,
      "outputs": []
    },
    {
      "cell_type": "code",
      "metadata": {
        "id": "3XrNyIm2Hux7",
        "colab_type": "code",
        "colab": {}
      },
      "source": [
        "x_point=np.random.uniform(low=0.0, high=10.0,size=m)"
      ],
      "execution_count": 0,
      "outputs": []
    },
    {
      "cell_type": "code",
      "metadata": {
        "id": "HzjNap-y6d9F",
        "colab_type": "code",
        "colab": {}
      },
      "source": [
        "y_point=np.random.normal(0.0,0.1,m)"
      ],
      "execution_count": 0,
      "outputs": []
    },
    {
      "cell_type": "markdown",
      "metadata": {
        "id": "eiuiXiKaH29e",
        "colab_type": "text"
      },
      "source": [
        "Linear Function Model y=8x+27"
      ]
    },
    {
      "cell_type": "code",
      "metadata": {
        "id": "w_PHm3qE5xmM",
        "colab_type": "code",
        "colab": {}
      },
      "source": [
        "for i in range(0,m):\n",
        "  y_point[i]=y_point[i]+x_point[i]*8+27"
      ],
      "execution_count": 0,
      "outputs": []
    },
    {
      "cell_type": "code",
      "metadata": {
        "id": "dqPlsJ5LtXvk",
        "colab_type": "code",
        "colab": {}
      },
      "source": [
        "y=x_point*8+27"
      ],
      "execution_count": 0,
      "outputs": []
    },
    {
      "cell_type": "markdown",
      "metadata": {
        "id": "IElm0IJ9p6Am",
        "colab_type": "text"
      },
      "source": [
        "a set of points that have random perturbations with respect to the straight line (in black color)"
      ]
    },
    {
      "cell_type": "code",
      "metadata": {
        "id": "7zBoTL4gIBD_",
        "colab_type": "code",
        "outputId": "20ce77d4-dee2-4936-fc8c-6f5364a40731",
        "colab": {
          "base_uri": "https://localhost:8080/",
          "height": 282
        }
      },
      "source": [
        "plt.scatter(x_point,y_point,c='#000000')"
      ],
      "execution_count": 10,
      "outputs": [
        {
          "output_type": "execute_result",
          "data": {
            "text/plain": [
              "<matplotlib.collections.PathCollection at 0x7f4fc1c28e80>"
            ]
          },
          "metadata": {
            "tags": []
          },
          "execution_count": 10
        },
        {
          "output_type": "display_data",
          "data": {
            "image/png": "[encoded data removed]",
            "text/plain": [
              "<Figure size 432x288 with 1 Axes>"
            ]
          },
          "metadata": {
            "tags": []
          }
        }
      ]
    },
    {
      "cell_type": "markdown",
      "metadata": {
        "id": "2oz5PXyjuMt3",
        "colab_type": "text"
      },
      "source": [
        "a straight line that is the graph of a linear function (in blue color)"
      ]
    },
    {
      "cell_type": "code",
      "metadata": {
        "id": "om6eK19Tq3Qg",
        "colab_type": "code",
        "outputId": "4b3d62fe-9386-4304-f2b2-c01a4b8bf369",
        "colab": {
          "base_uri": "https://localhost:8080/",
          "height": 282
        }
      },
      "source": [
        "plot(x_point,y)"
      ],
      "execution_count": 11,
      "outputs": [
        {
          "output_type": "execute_result",
          "data": {
            "text/plain": [
              "[<matplotlib.lines.Line2D at 0x7f4fbef00e48>]"
            ]
          },
          "metadata": {
            "tags": []
          },
          "execution_count": 11
        },
        {
          "output_type": "display_data",
          "data": {
            "image/png": "[encoded data removed]",
            "text/plain": [
              "<Figure size 432x288 with 1 Axes>"
            ]
          },
          "metadata": {
            "tags": []
          }
        }
      ]
    },
    {
      "cell_type": "markdown",
      "metadata": {
        "id": "z3NvBlP7ldJa",
        "colab_type": "text"
      },
      "source": [
        "Lists of theta_0 and theta_1"
      ]
    },
    {
      "cell_type": "code",
      "metadata": {
        "id": "cZ6Tm0N2ujyi",
        "colab_type": "code",
        "colab": {}
      },
      "source": [
        "theta_0=[30]"
      ],
      "execution_count": 0,
      "outputs": []
    },
    {
      "cell_type": "code",
      "metadata": {
        "id": "QAGJUCxVvYS0",
        "colab_type": "code",
        "colab": {}
      },
      "source": [
        "theta0=theta_0[-1]"
      ],
      "execution_count": 0,
      "outputs": []
    },
    {
      "cell_type": "code",
      "metadata": {
        "id": "9G6lHuoRlqxJ",
        "colab_type": "code",
        "colab": {}
      },
      "source": [
        "theta_1=[10]"
      ],
      "execution_count": 0,
      "outputs": []
    },
    {
      "cell_type": "code",
      "metadata": {
        "id": "x5k3dYL4vZY6",
        "colab_type": "code",
        "colab": {}
      },
      "source": [
        "theta1=theta_1[-1]"
      ],
      "execution_count": 0,
      "outputs": []
    },
    {
      "cell_type": "markdown",
      "metadata": {
        "id": "L11YCxjboAcl",
        "colab_type": "text"
      },
      "source": [
        "Objective Function"
      ]
    },
    {
      "cell_type": "code",
      "metadata": {
        "id": "dV2qfI9Elpt2",
        "colab_type": "code",
        "colab": {}
      },
      "source": [
        "def j_objective(m,theta0,theta1,x_point,y_point):\n",
        "  sum=0\n",
        "  for i in range(0,m):\n",
        "    sum=sum+np.square(theta1*x_point[i]+theta0-y_point[i])\n",
        "  return sum/(2*m)"
      ],
      "execution_count": 0,
      "outputs": []
    },
    {
      "cell_type": "markdown",
      "metadata": {
        "id": "eabg5sFppBgg",
        "colab_type": "text"
      },
      "source": [
        "Functions for Gradient Descent"
      ]
    },
    {
      "cell_type": "code",
      "metadata": {
        "id": "y_okBIxRoINo",
        "colab_type": "code",
        "colab": {}
      },
      "source": [
        "def next_0(theta0,theta1,a,m,x_point,y_point):\n",
        "  new_0=0\n",
        "  sum=0\n",
        "  for i in range(0,m):\n",
        "    sum=sum+theta1*x_point[i]+theta0-y_point[i]\n",
        "  new_0=theta0-((a*sum)/m)\n",
        "  return new_0"
      ],
      "execution_count": 0,
      "outputs": []
    },
    {
      "cell_type": "code",
      "metadata": {
        "id": "wy8G97A0owRU",
        "colab_type": "code",
        "colab": {}
      },
      "source": [
        "def next_1(theta0,theta1,a,m,x_point,y_point):\n",
        "  new_1=0\n",
        "  sum=0\n",
        "  for i in range(0,m):\n",
        "    sum=sum+(theta1*x_point[i]+theta0-y_point[i])*x_point[i]\n",
        "  new_1=theta1-((a*sum)/m)\n",
        "  return new_1"
      ],
      "execution_count": 0,
      "outputs": []
    },
    {
      "cell_type": "markdown",
      "metadata": {
        "id": "ptiC9Af-t0dJ",
        "colab_type": "text"
      },
      "source": [
        "Linear Regression"
      ]
    },
    {
      "cell_type": "code",
      "metadata": {
        "id": "tiz--j3iv8C3",
        "colab_type": "code",
        "colab": {}
      },
      "source": [
        "i=0"
      ],
      "execution_count": 0,
      "outputs": []
    },
    {
      "cell_type": "code",
      "metadata": {
        "id": "VUFH3I1ItuX6",
        "colab_type": "code",
        "colab": {}
      },
      "source": [
        "while j_objective(m,theta0,theta1,x_point,y_point)>0.01:\n",
        "  theta_0.append(next_0(theta0,theta1,a,m,x_point,y_point))\n",
        "  theta_1.append(next_1(theta0,theta1,a,m,x_point,y_point))\n",
        "  theta0=next_0(theta_0[i],theta_1[i],a,m,x_point,y_point)\n",
        "  theta1=next_1(theta_0[i],theta_1[i],a,m,x_point,y_point)\n",
        "  i=i+1"
      ],
      "execution_count": 0,
      "outputs": []
    },
    {
      "cell_type": "code",
      "metadata": {
        "id": "ltwATfAzFEm7",
        "colab_type": "code",
        "colab": {
          "base_uri": "https://localhost:8080/",
          "height": 34
        },
        "outputId": "d8a60a73-de4e-4753-d8dd-ff1cb1f49367"
      },
      "source": [
        "j_objective(m,theta0,theta1,x_point,y_point)"
      ],
      "execution_count": 21,
      "outputs": [
        {
          "output_type": "execute_result",
          "data": {
            "text/plain": [
              "0.009996630958964534"
            ]
          },
          "metadata": {
            "tags": []
          },
          "execution_count": 21
        }
      ]
    },
    {
      "cell_type": "code",
      "metadata": {
        "id": "18GiW4LpFMzL",
        "colab_type": "code",
        "colab": {
          "base_uri": "https://localhost:8080/",
          "height": 34
        },
        "outputId": "38da8cc6-6621-4f5f-b5e7-62d59d95ea3b"
      },
      "source": [
        "j_objective(m,27,8,x_point,y_point)"
      ],
      "execution_count": 22,
      "outputs": [
        {
          "output_type": "execute_result",
          "data": {
            "text/plain": [
              "0.0038686665077660165"
            ]
          },
          "metadata": {
            "tags": []
          },
          "execution_count": 22
        }
      ]
    },
    {
      "cell_type": "code",
      "metadata": {
        "id": "iRV01qw_CTFo",
        "colab_type": "code",
        "outputId": "4b46e8c1-42a2-44c6-f9a7-8308bb5ff4bb",
        "colab": {
          "base_uri": "https://localhost:8080/",
          "height": 34
        }
      },
      "source": [
        "theta_0[-1] "
      ],
      "execution_count": 23,
      "outputs": [
        {
          "output_type": "execute_result",
          "data": {
            "text/plain": [
              "27.166916905416606"
            ]
          },
          "metadata": {
            "tags": []
          },
          "execution_count": 23
        }
      ]
    },
    {
      "cell_type": "code",
      "metadata": {
        "id": "XUbT6bEfCTni",
        "colab_type": "code",
        "outputId": "cec23678-54dc-4d7d-ca0b-3711df5dc833",
        "colab": {
          "base_uri": "https://localhost:8080/",
          "height": 34
        }
      },
      "source": [
        "theta_1[-1]"
      ],
      "execution_count": 24,
      "outputs": [
        {
          "output_type": "execute_result",
          "data": {
            "text/plain": [
              "7.98011265990444"
            ]
          },
          "metadata": {
            "tags": []
          },
          "execution_count": 24
        }
      ]
    },
    {
      "cell_type": "markdown",
      "metadata": {
        "id": "8hTPPbV_3A7E",
        "colab_type": "text"
      },
      "source": [
        "Output Results"
      ]
    },
    {
      "cell_type": "markdown",
      "metadata": {
        "id": "zKZIPmpn3QGZ",
        "colab_type": "text"
      },
      "source": [
        "The set of points that have random perturbations with respect to the straight line"
      ]
    },
    {
      "cell_type": "code",
      "metadata": {
        "id": "32FJjbo52X1b",
        "colab_type": "code",
        "colab": {
          "base_uri": "https://localhost:8080/",
          "height": 282
        },
        "outputId": "5b440bf8-8dd0-41da-8703-00c75c80ff55"
      },
      "source": [
        "plt.scatter(x_point,y_point,c='#000000')"
      ],
      "execution_count": 28,
      "outputs": [
        {
          "output_type": "execute_result",
          "data": {
            "text/plain": [
              "<matplotlib.collections.PathCollection at 0x7f4fbecd1860>"
            ]
          },
          "metadata": {
            "tags": []
          },
          "execution_count": 28
        },
        {
          "output_type": "display_data",
          "data": {
            "image/png": "[encoded data removed]",
            "text/plain": [
              "<Figure size 432x288 with 1 Axes>"
            ]
          },
          "metadata": {
            "tags": []
          }
        }
      ]
    },
    {
      "cell_type": "markdown",
      "metadata": {
        "id": "QpJX9Kd13DWX",
        "colab_type": "text"
      },
      "source": [
        "A straight Line that is the Solution obtained by Linear Regression"
      ]
    },
    {
      "cell_type": "code",
      "metadata": {
        "id": "lZwdElt42QGm",
        "colab_type": "code",
        "colab": {
          "base_uri": "https://localhost:8080/",
          "height": 282
        },
        "outputId": "e0554b5e-5ade-45a6-e735-2eb215924104"
      },
      "source": [
        "plot(x_point,x_point*theta1+theta0,color='#FF0000')"
      ],
      "execution_count": 27,
      "outputs": [
        {
          "output_type": "execute_result",
          "data": {
            "text/plain": [
              "[<matplotlib.lines.Line2D at 0x7f4fbed61f98>]"
            ]
          },
          "metadata": {
            "tags": []
          },
          "execution_count": 27
        },
        {
          "output_type": "display_data",
          "data": {
            "image/png": "[encoded data removed]",
            "text/plain": [
              "<Figure size 432x288 with 1 Axes>"
            ]
          },
          "metadata": {
            "tags": []
          }
        }
      ]
    },
    {
      "cell_type": "code",
      "metadata": {
        "id": "sGGRoR3Q2Qjj",
        "colab_type": "code",
        "colab": {}
      },
      "source": [
        ""
      ],
      "execution_count": 0,
      "outputs": []
    }
  ]
}