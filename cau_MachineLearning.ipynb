{
  "nbformat": 4,
  "nbformat_minor": 0,
  "metadata": {
    "colab": {
      "name": "cau_MachineLearning",
      "provenance": [],
      "collapsed_sections": [],
      "authorship_tag": "ABX9TyMdMo+AfT5a8KAWmljrRUm5",
      "include_colab_link": true
    },
    "kernelspec": {
      "name": "python3",
      "display_name": "Python 3"
    }
  },
  "cells": [
    {
      "cell_type": "markdown",
      "metadata": {
        "id": "view-in-github",
        "colab_type": "text"
      },
      "source": [
        "<a href=\"https://colab.research.google.com/github/crescent98/machinelearning35911/blob/master/cau_MachineLearning.ipynb\" target=\"_parent\"><img src=\"https://colab.research.google.com/assets/colab-badge.svg\" alt=\"Open In Colab\"/></a>"
      ]
    },
    {
      "cell_type": "code",
      "metadata": {
        "id": "SHiF8P-VJRG0",
        "colab_type": "code",
        "colab": {}
      },
      "source": [
        "import numpy as np"
      ],
      "execution_count": 0,
      "outputs": []
    },
    {
      "cell_type": "code",
      "metadata": {
        "id": "WPZv1qMpJlKS",
        "colab_type": "code",
        "colab": {}
      },
      "source": [
        "import matplotlib.pyplot as plt"
      ],
      "execution_count": 0,
      "outputs": []
    },
    {
      "cell_type": "code",
      "metadata": {
        "id": "JOo9av6Bt4fP",
        "colab_type": "code",
        "colab": {}
      },
      "source": [
        "from matplotlib.pylab import plot, show"
      ],
      "execution_count": 0,
      "outputs": []
    },
    {
      "cell_type": "code",
      "metadata": {
        "id": "8iPJdId4Nx4c",
        "colab_type": "code",
        "colab": {}
      },
      "source": [
        "m=10"
      ],
      "execution_count": 0,
      "outputs": []
    },
    {
      "cell_type": "code",
      "metadata": {
        "id": "YANDc1TRvNUM",
        "colab_type": "code",
        "colab": {}
      },
      "source": [
        "a=0.01"
      ],
      "execution_count": 0,
      "outputs": []
    },
    {
      "cell_type": "code",
      "metadata": {
        "id": "3XrNyIm2Hux7",
        "colab_type": "code",
        "colab": {}
      },
      "source": [
        "x_point=np.random.uniform(low=0.0, high=10.0,size=m)"
      ],
      "execution_count": 0,
      "outputs": []
    },
    {
      "cell_type": "code",
      "metadata": {
        "id": "HzjNap-y6d9F",
        "colab_type": "code",
        "colab": {}
      },
      "source": [
        "y_point=np.random.normal(0.0,0.1,m)"
      ],
      "execution_count": 0,
      "outputs": []
    },
    {
      "cell_type": "markdown",
      "metadata": {
        "id": "eiuiXiKaH29e",
        "colab_type": "text"
      },
      "source": [
        "Linear Function Model y=8x+27"
      ]
    },
    {
      "cell_type": "code",
      "metadata": {
        "id": "w_PHm3qE5xmM",
        "colab_type": "code",
        "colab": {}
      },
      "source": [
        "for i in range(0,m):\n",
        "  y_point[i]=y_point[i]+x_point[i]*8+27"
      ],
      "execution_count": 0,
      "outputs": []
    },
    {
      "cell_type": "code",
      "metadata": {
        "id": "dqPlsJ5LtXvk",
        "colab_type": "code",
        "colab": {}
      },
      "source": [
        "y=x_point*8+27"
      ],
      "execution_count": 0,
      "outputs": []
    },
    {
      "cell_type": "markdown",
      "metadata": {
        "id": "IElm0IJ9p6Am",
        "colab_type": "text"
      },
      "source": [
        "a set of points that have random perturbations with respect to the straight line (in black color)"
      ]
    },
    {
      "cell_type": "code",
      "metadata": {
        "id": "7zBoTL4gIBD_",
        "colab_type": "code",
        "outputId": "f1e99c09-aa04-4817-ad8d-553a8bb47c98",
        "colab": {
          "base_uri": "https://localhost:8080/",
          "height": 282
        }
      },
      "source": [
        "plt.scatter(x_point,y_point,c='#000000')"
      ],
      "execution_count": 59,
      "outputs": [
        {
          "output_type": "execute_result",
          "data": {
            "text/plain": [
              "<matplotlib.collections.PathCollection at 0x7f4fbeaa79b0>"
            ]
          },
          "metadata": {
            "tags": []
          },
          "execution_count": 59
        },
        {
          "output_type": "display_data",
          "data": {
            "image/png": "[encoded data removed]",
            "text/plain": [
              "<Figure size 432x288 with 1 Axes>"
            ]
          },
          "metadata": {
            "tags": []
          }
        }
      ]
    },
    {
      "cell_type": "markdown",
      "metadata": {
        "id": "2oz5PXyjuMt3",
        "colab_type": "text"
      },
      "source": [
        "a straight line that is the graph of a linear function (in blue color)"
      ]
    },
    {
      "cell_type": "code",
      "metadata": {
        "id": "om6eK19Tq3Qg",
        "colab_type": "code",
        "outputId": "542ce8a2-cfd7-4a2c-885c-aada7c3c10cb",
        "colab": {
          "base_uri": "https://localhost:8080/",
          "height": 282
        }
      },
      "source": [
        "plot(x_point,y)"
      ],
      "execution_count": 60,
      "outputs": [
        {
          "output_type": "execute_result",
          "data": {
            "text/plain": [
              "[<matplotlib.lines.Line2D at 0x7f4fbea7df60>]"
            ]
          },
          "metadata": {
            "tags": []
          },
          "execution_count": 60
        },
        {
          "output_type": "display_data",
          "data": {
            "image/png": "[encoded data removed]",
            "text/plain": [
              "<Figure size 432x288 with 1 Axes>"
            ]
          },
          "metadata": {
            "tags": []
          }
        }
      ]
    },
    {
      "cell_type": "markdown",
      "metadata": {
        "id": "z3NvBlP7ldJa",
        "colab_type": "text"
      },
      "source": [
        "Lists of theta_0 and theta_1"
      ]
    },
    {
      "cell_type": "code",
      "metadata": {
        "id": "cZ6Tm0N2ujyi",
        "colab_type": "code",
        "colab": {}
      },
      "source": [
        "theta_0=[30]"
      ],
      "execution_count": 0,
      "outputs": []
    },
    {
      "cell_type": "code",
      "metadata": {
        "id": "QAGJUCxVvYS0",
        "colab_type": "code",
        "colab": {}
      },
      "source": [
        "theta0=theta_0[-1]"
      ],
      "execution_count": 0,
      "outputs": []
    },
    {
      "cell_type": "code",
      "metadata": {
        "id": "9G6lHuoRlqxJ",
        "colab_type": "code",
        "colab": {}
      },
      "source": [
        "theta_1=[10]"
      ],
      "execution_count": 0,
      "outputs": []
    },
    {
      "cell_type": "code",
      "metadata": {
        "id": "x5k3dYL4vZY6",
        "colab_type": "code",
        "colab": {}
      },
      "source": [
        "theta1=theta_1[-1]"
      ],
      "execution_count": 0,
      "outputs": []
    },
    {
      "cell_type": "code",
      "metadata": {
        "id": "4wLJtdlo37p8",
        "colab_type": "code",
        "colab": {}
      },
      "source": [
        "objective=[]"
      ],
      "execution_count": 0,
      "outputs": []
    },
    {
      "cell_type": "markdown",
      "metadata": {
        "id": "L11YCxjboAcl",
        "colab_type": "text"
      },
      "source": [
        "Objective Function"
      ]
    },
    {
      "cell_type": "code",
      "metadata": {
        "id": "dV2qfI9Elpt2",
        "colab_type": "code",
        "colab": {}
      },
      "source": [
        "def j_objective(m,theta0,theta1,x_point,y_point):\n",
        "  sum=0\n",
        "  for i in range(0,m):\n",
        "    sum=sum+np.square(theta1*x_point[i]+theta0-y_point[i])\n",
        "  return sum/(2*m)"
      ],
      "execution_count": 0,
      "outputs": []
    },
    {
      "cell_type": "markdown",
      "metadata": {
        "id": "eabg5sFppBgg",
        "colab_type": "text"
      },
      "source": [
        "Functions for Gradient Descent"
      ]
    },
    {
      "cell_type": "code",
      "metadata": {
        "id": "y_okBIxRoINo",
        "colab_type": "code",
        "colab": {}
      },
      "source": [
        "def next_0(theta0,theta1,a,m,x_point,y_point):\n",
        "  new_0=0\n",
        "  sum=0\n",
        "  for i in range(0,m):\n",
        "    sum=sum+theta1*x_point[i]+theta0-y_point[i]\n",
        "  new_0=theta0-((a*sum)/m)\n",
        "  return new_0"
      ],
      "execution_count": 0,
      "outputs": []
    },
    {
      "cell_type": "code",
      "metadata": {
        "id": "wy8G97A0owRU",
        "colab_type": "code",
        "colab": {}
      },
      "source": [
        "def next_1(theta0,theta1,a,m,x_point,y_point):\n",
        "  new_1=0\n",
        "  sum=0\n",
        "  for i in range(0,m):\n",
        "    sum=sum+(theta1*x_point[i]+theta0-y_point[i])*x_point[i]\n",
        "  new_1=theta1-((a*sum)/m)\n",
        "  return new_1"
      ],
      "execution_count": 0,
      "outputs": []
    },
    {
      "cell_type": "markdown",
      "metadata": {
        "id": "ptiC9Af-t0dJ",
        "colab_type": "text"
      },
      "source": [
        "Linear Regression"
      ]
    },
    {
      "cell_type": "code",
      "metadata": {
        "id": "tiz--j3iv8C3",
        "colab_type": "code",
        "colab": {}
      },
      "source": [
        "i=0"
      ],
      "execution_count": 0,
      "outputs": []
    },
    {
      "cell_type": "code",
      "metadata": {
        "id": "VUFH3I1ItuX6",
        "colab_type": "code",
        "colab": {}
      },
      "source": [
        "while j_objective(m,theta0,theta1,x_point,y_point)>0.01:\n",
        "  objective.append(j_objective(m,theta0,theta1,x_point,y_point))\n",
        "  theta_0.append(next_0(theta0,theta1,a,m,x_point,y_point))\n",
        "  theta_1.append(next_1(theta0,theta1,a,m,x_point,y_point))\n",
        "  theta0=next_0(theta_0[i],theta_1[i],a,m,x_point,y_point)\n",
        "  theta1=next_1(theta_0[i],theta_1[i],a,m,x_point,y_point)\n",
        "  i=i+1"
      ],
      "execution_count": 0,
      "outputs": []
    },
    {
      "cell_type": "code",
      "metadata": {
        "id": "ltwATfAzFEm7",
        "colab_type": "code",
        "colab": {
          "base_uri": "https://localhost:8080/",
          "height": 34
        },
        "outputId": "568fc9d1-b622-4440-ed2f-86bfc61ed48c"
      },
      "source": [
        "j_objective(m,theta0,theta1,x_point,y_point)"
      ],
      "execution_count": 71,
      "outputs": [
        {
          "output_type": "execute_result",
          "data": {
            "text/plain": [
              "0.009992495184204673"
            ]
          },
          "metadata": {
            "tags": []
          },
          "execution_count": 71
        }
      ]
    },
    {
      "cell_type": "code",
      "metadata": {
        "id": "18GiW4LpFMzL",
        "colab_type": "code",
        "colab": {
          "base_uri": "https://localhost:8080/",
          "height": 34
        },
        "outputId": "81e1e875-96b4-4173-c0d6-039060d29dd4"
      },
      "source": [
        "j_objective(m,27,8,x_point,y_point)"
      ],
      "execution_count": 72,
      "outputs": [
        {
          "output_type": "execute_result",
          "data": {
            "text/plain": [
              "0.003956346119051807"
            ]
          },
          "metadata": {
            "tags": []
          },
          "execution_count": 72
        }
      ]
    },
    {
      "cell_type": "code",
      "metadata": {
        "id": "iRV01qw_CTFo",
        "colab_type": "code",
        "outputId": "80dc12e4-01a5-40b7-d7ac-88baa9d08493",
        "colab": {
          "base_uri": "https://localhost:8080/",
          "height": 34
        }
      },
      "source": [
        "theta_0[-1] "
      ],
      "execution_count": 73,
      "outputs": [
        {
          "output_type": "execute_result",
          "data": {
            "text/plain": [
              "27.2023056678342"
            ]
          },
          "metadata": {
            "tags": []
          },
          "execution_count": 73
        }
      ]
    },
    {
      "cell_type": "code",
      "metadata": {
        "id": "XUbT6bEfCTni",
        "colab_type": "code",
        "outputId": "91367478-62e3-4be0-ef1c-a64ce99843b0",
        "colab": {
          "base_uri": "https://localhost:8080/",
          "height": 34
        }
      },
      "source": [
        "theta_1[-1]"
      ],
      "execution_count": 74,
      "outputs": [
        {
          "output_type": "execute_result",
          "data": {
            "text/plain": [
              "7.969759710739508"
            ]
          },
          "metadata": {
            "tags": []
          },
          "execution_count": 74
        }
      ]
    },
    {
      "cell_type": "markdown",
      "metadata": {
        "id": "8hTPPbV_3A7E",
        "colab_type": "text"
      },
      "source": [
        "Output Results"
      ]
    },
    {
      "cell_type": "markdown",
      "metadata": {
        "id": "zKZIPmpn3QGZ",
        "colab_type": "text"
      },
      "source": [
        "The set of points that have random perturbations with respect to the straight line"
      ]
    },
    {
      "cell_type": "code",
      "metadata": {
        "id": "32FJjbo52X1b",
        "colab_type": "code",
        "colab": {
          "base_uri": "https://localhost:8080/",
          "height": 282
        },
        "outputId": "b3e8b031-649a-46e2-a411-9f0140d4b855"
      },
      "source": [
        "plt.scatter(x_point,y_point,c='#000000')"
      ],
      "execution_count": 75,
      "outputs": [
        {
          "output_type": "execute_result",
          "data": {
            "text/plain": [
              "<matplotlib.collections.PathCollection at 0x7f4fbe9ffda0>"
            ]
          },
          "metadata": {
            "tags": []
          },
          "execution_count": 75
        },
        {
          "output_type": "display_data",
          "data": {
            "image/png": "[encoded data removed]",
            "text/plain": [
              "<Figure size 432x288 with 1 Axes>"
            ]
          },
          "metadata": {
            "tags": []
          }
        }
      ]
    },
    {
      "cell_type": "markdown",
      "metadata": {
        "id": "QpJX9Kd13DWX",
        "colab_type": "text"
      },
      "source": [
        "A straight Line that is the Solution obtained by Linear Regression"
      ]
    },
    {
      "cell_type": "code",
      "metadata": {
        "id": "lZwdElt42QGm",
        "colab_type": "code",
        "colab": {
          "base_uri": "https://localhost:8080/",
          "height": 282
        },
        "outputId": "247853e6-8056-4e6a-aaa9-48e3fa9ec4d0"
      },
      "source": [
        "plot(x_point,x_point*theta1+theta0,color='#FF0000')"
      ],
      "execution_count": 76,
      "outputs": [
        {
          "output_type": "execute_result",
          "data": {
            "text/plain": [
              "[<matplotlib.lines.Line2D at 0x7f4fbe9e1518>]"
            ]
          },
          "metadata": {
            "tags": []
          },
          "execution_count": 76
        },
        {
          "output_type": "display_data",
          "data": {
            "image/png": "[encoded data removed]",
            "text/plain": [
              "<Figure size 432x288 with 1 Axes>"
            ]
          },
          "metadata": {
            "tags": []
          }
        }
      ]
    },
    {
      "cell_type": "markdown",
      "metadata": {
        "id": "rlItg7_c4vGW",
        "colab_type": "text"
      },
      "source": [
        "the value of the objective function at every optimization step by the gradient descent algorithm"
      ]
    },
    {
      "cell_type": "code",
      "metadata": {
        "id": "l_fdr6Cj4uaY",
        "colab_type": "code",
        "colab": {
          "base_uri": "https://localhost:8080/",
          "height": 286
        },
        "outputId": "9aa0c433-3244-4b82-c50f-412ae16ae89b"
      },
      "source": [
        "plt.scatter(range(0,i),objective,c='#0000FF')"
      ],
      "execution_count": 84,
      "outputs": [
        {
          "output_type": "execute_result",
          "data": {
            "text/plain": [
              "<matplotlib.collections.PathCollection at 0x7f4fbe4eca58>"
            ]
          },
          "metadata": {
            "tags": []
          },
          "execution_count": 84
        },
        {
          "output_type": "display_data",
          "data": {
            "image/png": "[encoded data removed]",
            "text/plain": [
              "<Figure size 432x288 with 1 Axes>"
            ]
          },
          "metadata": {
            "tags": []
          }
        }
      ]
    }
  ]
}