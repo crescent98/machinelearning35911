{
  "nbformat": 4,
  "nbformat_minor": 0,
  "metadata": {
    "colab": {
      "name": "cau_MachineLearning",
      "provenance": [],
      "collapsed_sections": [],
      "authorship_tag": "ABX9TyNo7TqKg0QQTE3uXB5oe4/e",
      "include_colab_link": true
    },
    "kernelspec": {
      "name": "python3",
      "display_name": "Python 3"
    }
  },
  "cells": [
    {
      "cell_type": "markdown",
      "metadata": {
        "id": "view-in-github",
        "colab_type": "text"
      },
      "source": [
        "<a href=\"https://colab.research.google.com/github/crescent98/machinelearning35911/blob/master/cau_MachineLearning.ipynb\" target=\"_parent\"><img src=\"https://colab.research.google.com/assets/colab-badge.svg\" alt=\"Open In Colab\"/></a>"
      ]
    },
    {
      "cell_type": "code",
      "metadata": {
        "id": "SHiF8P-VJRG0",
        "colab_type": "code",
        "colab": {}
      },
      "source": [
        "import numpy as np"
      ],
      "execution_count": 0,
      "outputs": []
    },
    {
      "cell_type": "code",
      "metadata": {
        "id": "WPZv1qMpJlKS",
        "colab_type": "code",
        "colab": {}
      },
      "source": [
        "import matplotlib.pyplot as plt"
      ],
      "execution_count": 0,
      "outputs": []
    },
    {
      "cell_type": "code",
      "metadata": {
        "id": "JOo9av6Bt4fP",
        "colab_type": "code",
        "colab": {}
      },
      "source": [
        "from matplotlib.pylab import plot, show"
      ],
      "execution_count": 0,
      "outputs": []
    },
    {
      "cell_type": "code",
      "metadata": {
        "id": "8iPJdId4Nx4c",
        "colab_type": "code",
        "colab": {}
      },
      "source": [
        "m=100"
      ],
      "execution_count": 0,
      "outputs": []
    },
    {
      "cell_type": "code",
      "metadata": {
        "id": "YANDc1TRvNUM",
        "colab_type": "code",
        "colab": {}
      },
      "source": [
        "a=0.01"
      ],
      "execution_count": 0,
      "outputs": []
    },
    {
      "cell_type": "code",
      "metadata": {
        "id": "3XrNyIm2Hux7",
        "colab_type": "code",
        "colab": {}
      },
      "source": [
        "x_point=np.random.uniform(low=0.0, high=10.0,size=m)"
      ],
      "execution_count": 0,
      "outputs": []
    },
    {
      "cell_type": "code",
      "metadata": {
        "id": "HzjNap-y6d9F",
        "colab_type": "code",
        "colab": {}
      },
      "source": [
        "y_point=np.random.normal(0.0,0.01,m)"
      ],
      "execution_count": 0,
      "outputs": []
    },
    {
      "cell_type": "markdown",
      "metadata": {
        "id": "eiuiXiKaH29e",
        "colab_type": "text"
      },
      "source": [
        "Linear Function Model y=8x+27"
      ]
    },
    {
      "cell_type": "code",
      "metadata": {
        "id": "w_PHm3qE5xmM",
        "colab_type": "code",
        "colab": {}
      },
      "source": [
        "for i in range(0,m):\n",
        "  y_point[i]=y_point[i]+x_point[i]*8+27"
      ],
      "execution_count": 0,
      "outputs": []
    },
    {
      "cell_type": "code",
      "metadata": {
        "id": "dqPlsJ5LtXvk",
        "colab_type": "code",
        "colab": {}
      },
      "source": [
        "y=x_point*8+27"
      ],
      "execution_count": 0,
      "outputs": []
    },
    {
      "cell_type": "markdown",
      "metadata": {
        "id": "IElm0IJ9p6Am",
        "colab_type": "text"
      },
      "source": [
        "a set of points that have random perturbations with respect to the straight line (in black color)"
      ]
    },
    {
      "cell_type": "code",
      "metadata": {
        "id": "7zBoTL4gIBD_",
        "colab_type": "code",
        "colab": {
          "base_uri": "https://localhost:8080/",
          "height": 286
        },
        "outputId": "b5aca61a-8f7a-4f50-8014-1eab7ce6c738"
      },
      "source": [
        "plt.scatter(x_point,y_point,c='#000000')"
      ],
      "execution_count": 40,
      "outputs": [
        {
          "output_type": "execute_result",
          "data": {
            "text/plain": [
              "<matplotlib.collections.PathCollection at 0x7fd1896b00f0>"
            ]
          },
          "metadata": {
            "tags": []
          },
          "execution_count": 40
        },
        {
          "output_type": "display_data",
          "data": {
            "image/png": "[encoded data removed]",
            "text/plain": [
              "<Figure size 432x288 with 1 Axes>"
            ]
          },
          "metadata": {
            "tags": []
          }
        }
      ]
    },
    {
      "cell_type": "markdown",
      "metadata": {
        "id": "2oz5PXyjuMt3",
        "colab_type": "text"
      },
      "source": [
        "a straight line that is the graph of a linear function (in blue color)"
      ]
    },
    {
      "cell_type": "code",
      "metadata": {
        "id": "om6eK19Tq3Qg",
        "colab_type": "code",
        "colab": {
          "base_uri": "https://localhost:8080/",
          "height": 286
        },
        "outputId": "88192f9b-accb-4337-86ca-18fe5a592b94"
      },
      "source": [
        "plot(x_point,y)"
      ],
      "execution_count": 41,
      "outputs": [
        {
          "output_type": "execute_result",
          "data": {
            "text/plain": [
              "[<matplotlib.lines.Line2D at 0x7fd189acf080>]"
            ]
          },
          "metadata": {
            "tags": []
          },
          "execution_count": 41
        },
        {
          "output_type": "display_data",
          "data": {
            "image/png": "[encoded data removed]",
            "text/plain": [
              "<Figure size 432x288 with 1 Axes>"
            ]
          },
          "metadata": {
            "tags": []
          }
        }
      ]
    },
    {
      "cell_type": "markdown",
      "metadata": {
        "id": "z3NvBlP7ldJa",
        "colab_type": "text"
      },
      "source": [
        "Lists of theta_0 and theta_1"
      ]
    },
    {
      "cell_type": "code",
      "metadata": {
        "id": "cZ6Tm0N2ujyi",
        "colab_type": "code",
        "colab": {}
      },
      "source": [
        "theta_0=[30]"
      ],
      "execution_count": 0,
      "outputs": []
    },
    {
      "cell_type": "code",
      "metadata": {
        "id": "QAGJUCxVvYS0",
        "colab_type": "code",
        "colab": {}
      },
      "source": [
        "theta0=theta_0[-1]"
      ],
      "execution_count": 0,
      "outputs": []
    },
    {
      "cell_type": "code",
      "metadata": {
        "id": "9G6lHuoRlqxJ",
        "colab_type": "code",
        "colab": {}
      },
      "source": [
        "theta_1=[10]"
      ],
      "execution_count": 0,
      "outputs": []
    },
    {
      "cell_type": "code",
      "metadata": {
        "id": "x5k3dYL4vZY6",
        "colab_type": "code",
        "colab": {}
      },
      "source": [
        "theta1=theta_1[-1]"
      ],
      "execution_count": 0,
      "outputs": []
    },
    {
      "cell_type": "code",
      "metadata": {
        "id": "4wLJtdlo37p8",
        "colab_type": "code",
        "colab": {}
      },
      "source": [
        "objective=[]"
      ],
      "execution_count": 0,
      "outputs": []
    },
    {
      "cell_type": "markdown",
      "metadata": {
        "id": "L11YCxjboAcl",
        "colab_type": "text"
      },
      "source": [
        "Objective Function"
      ]
    },
    {
      "cell_type": "code",
      "metadata": {
        "id": "dV2qfI9Elpt2",
        "colab_type": "code",
        "colab": {}
      },
      "source": [
        "def j_objective(m,theta0,theta1,x_point,y_point):\n",
        "  sum=0\n",
        "  for i in range(0,m):\n",
        "    sum=sum+np.square(theta1*x_point[i]+theta0-y_point[i])\n",
        "  return sum/(2*m)"
      ],
      "execution_count": 0,
      "outputs": []
    },
    {
      "cell_type": "markdown",
      "metadata": {
        "id": "eabg5sFppBgg",
        "colab_type": "text"
      },
      "source": [
        "Functions for Gradient Descent"
      ]
    },
    {
      "cell_type": "code",
      "metadata": {
        "id": "y_okBIxRoINo",
        "colab_type": "code",
        "colab": {}
      },
      "source": [
        "def next_0(theta0,theta1,a,m,x_point,y_point):\n",
        "  new_0=0\n",
        "  sum=0\n",
        "  for i in range(0,m):\n",
        "    sum=sum+theta1*x_point[i]+theta0-y_point[i]\n",
        "  new_0=theta0-((a*sum)/m)\n",
        "  return new_0"
      ],
      "execution_count": 0,
      "outputs": []
    },
    {
      "cell_type": "code",
      "metadata": {
        "id": "wy8G97A0owRU",
        "colab_type": "code",
        "colab": {}
      },
      "source": [
        "def next_1(theta0,theta1,a,m,x_point,y_point):\n",
        "  new_1=0\n",
        "  sum=0\n",
        "  for i in range(0,m):\n",
        "    sum=sum+(theta1*x_point[i]+theta0-y_point[i])*x_point[i]\n",
        "  new_1=theta1-((a*sum)/m)\n",
        "  return new_1"
      ],
      "execution_count": 0,
      "outputs": []
    },
    {
      "cell_type": "markdown",
      "metadata": {
        "id": "yk0JwXwAV-wQ",
        "colab_type": "text"
      },
      "source": [
        "Size of Gradient"
      ]
    },
    {
      "cell_type": "code",
      "metadata": {
        "id": "i566BzaZWJ0t",
        "colab_type": "code",
        "colab": {}
      },
      "source": [
        "def gradient(m,theta0,theta1, x_point,y_point):\n",
        "  sum0=0\n",
        "  sum1=0\n",
        "  for i in range(0,m):\n",
        "    sum0=sum0+theta1*x_point[i]+theta0-y_point[i]\n",
        "  for i in range(0,m):\n",
        "    sum1=sum1+(theta1*x_point[i]+theta0-y_point[i])*x_point[i]\n",
        "  return np.sqrt((np.square(sum0)+np.square(sum1))/m)"
      ],
      "execution_count": 0,
      "outputs": []
    },
    {
      "cell_type": "markdown",
      "metadata": {
        "id": "ptiC9Af-t0dJ",
        "colab_type": "text"
      },
      "source": [
        "Linear Regression"
      ]
    },
    {
      "cell_type": "code",
      "metadata": {
        "id": "tiz--j3iv8C3",
        "colab_type": "code",
        "colab": {}
      },
      "source": [
        "i=0"
      ],
      "execution_count": 0,
      "outputs": []
    },
    {
      "cell_type": "code",
      "metadata": {
        "id": "VUFH3I1ItuX6",
        "colab_type": "code",
        "colab": {}
      },
      "source": [
        "while gradient(m,theta0,theta1,x_point,y_point)>0.01:\n",
        "  objective.append(j_objective(m,theta0,theta1,x_point,y_point))\n",
        "  theta_0.append(next_0(theta0,theta1,a,m,x_point,y_point))\n",
        "  theta_1.append(next_1(theta0,theta1,a,m,x_point,y_point))\n",
        "  theta0=next_0(theta_0[i],theta_1[i],a,m,x_point,y_point)\n",
        "  theta1=next_1(theta_0[i],theta_1[i],a,m,x_point,y_point)\n",
        "  i=i+1"
      ],
      "execution_count": 0,
      "outputs": []
    },
    {
      "cell_type": "code",
      "metadata": {
        "id": "ltwATfAzFEm7",
        "colab_type": "code",
        "colab": {
          "base_uri": "https://localhost:8080/",
          "height": 34
        },
        "outputId": "e15170b3-0435-4ba7-cee1-23863826d396"
      },
      "source": [
        "j_objective(m,theta0,theta1,x_point,y_point)"
      ],
      "execution_count": 53,
      "outputs": [
        {
          "output_type": "execute_result",
          "data": {
            "text/plain": [
              "5.866452695307476e-05"
            ]
          },
          "metadata": {
            "tags": []
          },
          "execution_count": 53
        }
      ]
    },
    {
      "cell_type": "code",
      "metadata": {
        "id": "18GiW4LpFMzL",
        "colab_type": "code",
        "colab": {
          "base_uri": "https://localhost:8080/",
          "height": 34
        },
        "outputId": "5c547fb7-41b1-41f7-abb5-b86ea6008c64"
      },
      "source": [
        "j_objective(m,27,8,x_point,y_point)"
      ],
      "execution_count": 54,
      "outputs": [
        {
          "output_type": "execute_result",
          "data": {
            "text/plain": [
              "5.686467351003086e-05"
            ]
          },
          "metadata": {
            "tags": []
          },
          "execution_count": 54
        }
      ]
    },
    {
      "cell_type": "code",
      "metadata": {
        "id": "iRV01qw_CTFo",
        "colab_type": "code",
        "colab": {
          "base_uri": "https://localhost:8080/",
          "height": 34
        },
        "outputId": "c142111e-d667-4416-a51d-6417cfa7c8ac"
      },
      "source": [
        "theta_0[-1] "
      ],
      "execution_count": 55,
      "outputs": [
        {
          "output_type": "execute_result",
          "data": {
            "text/plain": [
              "27.00488854192771"
            ]
          },
          "metadata": {
            "tags": []
          },
          "execution_count": 55
        }
      ]
    },
    {
      "cell_type": "code",
      "metadata": {
        "id": "XUbT6bEfCTni",
        "colab_type": "code",
        "colab": {
          "base_uri": "https://localhost:8080/",
          "height": 34
        },
        "outputId": "2b3469ef-b257-4147-df7e-85fbdc997323"
      },
      "source": [
        "theta_1[-1]"
      ],
      "execution_count": 56,
      "outputs": [
        {
          "output_type": "execute_result",
          "data": {
            "text/plain": [
              "7.999125369975288"
            ]
          },
          "metadata": {
            "tags": []
          },
          "execution_count": 56
        }
      ]
    },
    {
      "cell_type": "markdown",
      "metadata": {
        "id": "8hTPPbV_3A7E",
        "colab_type": "text"
      },
      "source": [
        "Output Results"
      ]
    },
    {
      "cell_type": "markdown",
      "metadata": {
        "id": "zKZIPmpn3QGZ",
        "colab_type": "text"
      },
      "source": [
        "The set of points that have random perturbations with respect to the straight line"
      ]
    },
    {
      "cell_type": "code",
      "metadata": {
        "id": "32FJjbo52X1b",
        "colab_type": "code",
        "colab": {
          "base_uri": "https://localhost:8080/",
          "height": 286
        },
        "outputId": "016b30ef-8621-4b70-f6c3-7230a9d7161b"
      },
      "source": [
        "plt.scatter(x_point,y_point,c='#000000')"
      ],
      "execution_count": 57,
      "outputs": [
        {
          "output_type": "execute_result",
          "data": {
            "text/plain": [
              "<matplotlib.collections.PathCollection at 0x7fd1895ed5f8>"
            ]
          },
          "metadata": {
            "tags": []
          },
          "execution_count": 57
        },
        {
          "output_type": "display_data",
          "data": {
            "image/png": "[encoded data removed]",
            "text/plain": [
              "<Figure size 432x288 with 1 Axes>"
            ]
          },
          "metadata": {
            "tags": []
          }
        }
      ]
    },
    {
      "cell_type": "markdown",
      "metadata": {
        "id": "QpJX9Kd13DWX",
        "colab_type": "text"
      },
      "source": [
        "A straight Line that is the Solution obtained by Linear Regression"
      ]
    },
    {
      "cell_type": "code",
      "metadata": {
        "id": "lZwdElt42QGm",
        "colab_type": "code",
        "colab": {
          "base_uri": "https://localhost:8080/",
          "height": 286
        },
        "outputId": "71307725-c2f3-45b2-c6dd-6949bf264f21"
      },
      "source": [
        "plot(x_point,x_point*theta1+theta0,color='#FF0000')"
      ],
      "execution_count": 58,
      "outputs": [
        {
          "output_type": "execute_result",
          "data": {
            "text/plain": [
              "[<matplotlib.lines.Line2D at 0x7fd1895cae80>]"
            ]
          },
          "metadata": {
            "tags": []
          },
          "execution_count": 58
        },
        {
          "output_type": "display_data",
          "data": {
            "image/png": "[encoded data removed]",
            "text/plain": [
              "<Figure size 432x288 with 1 Axes>"
            ]
          },
          "metadata": {
            "tags": []
          }
        }
      ]
    },
    {
      "cell_type": "markdown",
      "metadata": {
        "id": "rlItg7_c4vGW",
        "colab_type": "text"
      },
      "source": [
        "the value of the objective function at every optimization step by the gradient descent algorithm"
      ]
    },
    {
      "cell_type": "code",
      "metadata": {
        "id": "l_fdr6Cj4uaY",
        "colab_type": "code",
        "colab": {
          "base_uri": "https://localhost:8080/",
          "height": 282
        },
        "outputId": "a04d30d4-d51a-4f2a-e639-a9b7f98739f7"
      },
      "source": [
        "plt.scatter(range(0,i),objective,c='#0000FF')"
      ],
      "execution_count": 59,
      "outputs": [
        {
          "output_type": "execute_result",
          "data": {
            "text/plain": [
              "<matplotlib.collections.PathCollection at 0x7fd189534860>"
            ]
          },
          "metadata": {
            "tags": []
          },
          "execution_count": 59
        },
        {
          "output_type": "display_data",
          "data": {
            "image/png": "[encoded data removed]",
            "text/plain": [
              "<Figure size 432x288 with 1 Axes>"
            ]
          },
          "metadata": {
            "tags": []
          }
        }
      ]
    },
    {
      "cell_type": "code",
      "metadata": {
        "id": "dInO9a6E7Ui_",
        "colab_type": "code",
        "colab": {}
      },
      "source": [
        ""
      ],
      "execution_count": 0,
      "outputs": []
    }
  ]
}