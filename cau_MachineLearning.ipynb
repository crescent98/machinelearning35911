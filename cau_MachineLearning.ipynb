{
  "nbformat": 4,
  "nbformat_minor": 0,
  "metadata": {
    "colab": {
      "name": "cau_MachineLearning",
      "provenance": [],
      "collapsed_sections": [],
      "authorship_tag": "ABX9TyNV0CnGnNBLdFF9KcPMkGpx",
      "include_colab_link": true
    },
    "kernelspec": {
      "name": "python3",
      "display_name": "Python 3"
    }
  },
  "cells": [
    {
      "cell_type": "markdown",
      "metadata": {
        "id": "view-in-github",
        "colab_type": "text"
      },
      "source": [
        "<a href=\"https://colab.research.google.com/github/crescent98/machinelearning35911/blob/master/cau_MachineLearning.ipynb\" target=\"_parent\"><img src=\"https://colab.research.google.com/assets/colab-badge.svg\" alt=\"Open In Colab\"/></a>"
      ]
    },
    {
      "cell_type": "code",
      "metadata": {
        "id": "SHiF8P-VJRG0",
        "colab_type": "code",
        "colab": {}
      },
      "source": [
        "import numpy as np"
      ],
      "execution_count": 0,
      "outputs": []
    },
    {
      "cell_type": "code",
      "metadata": {
        "id": "WPZv1qMpJlKS",
        "colab_type": "code",
        "colab": {}
      },
      "source": [
        "import matplotlib.pyplot as plt"
      ],
      "execution_count": 0,
      "outputs": []
    },
    {
      "cell_type": "code",
      "metadata": {
        "id": "JOo9av6Bt4fP",
        "colab_type": "code",
        "colab": {}
      },
      "source": [
        "from matplotlib.pylab import plot, show"
      ],
      "execution_count": 0,
      "outputs": []
    },
    {
      "cell_type": "code",
      "metadata": {
        "id": "8iPJdId4Nx4c",
        "colab_type": "code",
        "colab": {}
      },
      "source": [
        "m=100"
      ],
      "execution_count": 0,
      "outputs": []
    },
    {
      "cell_type": "code",
      "metadata": {
        "id": "3XrNyIm2Hux7",
        "colab_type": "code",
        "colab": {}
      },
      "source": [
        "x_point=np.random.uniform(low=0.0, high=100.0,size=m)"
      ],
      "execution_count": 0,
      "outputs": []
    },
    {
      "cell_type": "code",
      "metadata": {
        "id": "HzjNap-y6d9F",
        "colab_type": "code",
        "colab": {}
      },
      "source": [
        "y_point=np.random.normal(0.0,5.0,m)"
      ],
      "execution_count": 0,
      "outputs": []
    },
    {
      "cell_type": "code",
      "metadata": {
        "id": "w_PHm3qE5xmM",
        "colab_type": "code",
        "colab": {}
      },
      "source": [
        "for i in range(0,m):\n",
        "  y_point[i]=y_point[i]+x_point[i]*8+27"
      ],
      "execution_count": 0,
      "outputs": []
    },
    {
      "cell_type": "code",
      "metadata": {
        "id": "dqPlsJ5LtXvk",
        "colab_type": "code",
        "colab": {}
      },
      "source": [
        "y=x_point*8+27"
      ],
      "execution_count": 0,
      "outputs": []
    },
    {
      "cell_type": "markdown",
      "metadata": {
        "id": "eiuiXiKaH29e",
        "colab_type": "text"
      },
      "source": [
        "Linear Function Model y=8x+27"
      ]
    },
    {
      "cell_type": "code",
      "metadata": {
        "id": "7zBoTL4gIBD_",
        "colab_type": "code",
        "outputId": "968e4747-0c82-4653-c5a2-8c572146e773",
        "colab": {
          "base_uri": "https://localhost:8080/",
          "height": 282
        }
      },
      "source": [
        "plt.scatter(x_point,y_point,c='#000000')"
      ],
      "execution_count": 44,
      "outputs": [
        {
          "output_type": "execute_result",
          "data": {
            "text/plain": [
              "<matplotlib.collections.PathCollection at 0x7f5650791710>"
            ]
          },
          "metadata": {
            "tags": []
          },
          "execution_count": 44
        },
        {
          "output_type": "display_data",
          "data": {
            "image/png": "[encoded data removed]",
            "text/plain": [
              "<Figure size 432x288 with 1 Axes>"
            ]
          },
          "metadata": {
            "tags": []
          }
        }
      ]
    },
    {
      "cell_type": "markdown",
      "metadata": {
        "id": "IElm0IJ9p6Am",
        "colab_type": "text"
      },
      "source": [
        "a set of points that have random perturbations with respect to the straight line (in black color)"
      ]
    },
    {
      "cell_type": "code",
      "metadata": {
        "id": "om6eK19Tq3Qg",
        "colab_type": "code",
        "colab": {
          "base_uri": "https://localhost:8080/",
          "height": 282
        },
        "outputId": "c9745c16-77b9-4073-8d04-6eeb65b14f96"
      },
      "source": [
        "plot(x_point,y)"
      ],
      "execution_count": 45,
      "outputs": [
        {
          "output_type": "execute_result",
          "data": {
            "text/plain": [
              "[<matplotlib.lines.Line2D at 0x7f56506eae48>]"
            ]
          },
          "metadata": {
            "tags": []
          },
          "execution_count": 45
        },
        {
          "output_type": "display_data",
          "data": {
            "image/png": "[encoded data removed]",
            "text/plain": [
              "<Figure size 432x288 with 1 Axes>"
            ]
          },
          "metadata": {
            "tags": []
          }
        }
      ]
    },
    {
      "cell_type": "markdown",
      "metadata": {
        "id": "2oz5PXyjuMt3",
        "colab_type": "text"
      },
      "source": [
        "a straight line that is the graph of a linear function (in blue color)"
      ]
    },
    {
      "cell_type": "markdown",
      "metadata": {
        "id": "z3NvBlP7ldJa",
        "colab_type": "text"
      },
      "source": [
        ""
      ]
    },
    {
      "cell_type": "code",
      "metadata": {
        "id": "cZ6Tm0N2ujyi",
        "colab_type": "code",
        "colab": {}
      },
      "source": [
        "theta_0=[]"
      ],
      "execution_count": 0,
      "outputs": []
    },
    {
      "cell_type": "code",
      "metadata": {
        "id": "9G6lHuoRlqxJ",
        "colab_type": "code",
        "colab": {}
      },
      "source": [
        "theta_1=[]"
      ],
      "execution_count": 0,
      "outputs": []
    },
    {
      "cell_type": "code",
      "metadata": {
        "id": "dV2qfI9Elpt2",
        "colab_type": "code",
        "colab": {}
      },
      "source": [
        "def j_objective(m,theta_0,theta_1,x_point,y_point):\n",
        "  sum=0\n",
        "  for i in range(0,m):\n",
        "    sum=sum+square(theta_1*x_point[i]+theta_0-y_point[i])\n",
        "  return sum/(2*m)"
      ],
      "execution_count": 0,
      "outputs": []
    },
    {
      "cell_type": "markdown",
      "metadata": {
        "id": "L11YCxjboAcl",
        "colab_type": "text"
      },
      "source": [
        "Objective Function"
      ]
    },
    {
      "cell_type": "code",
      "metadata": {
        "id": "y_okBIxRoINo",
        "colab_type": "code",
        "colab": {}
      },
      "source": [
        "def next_0(i,theta_0,theta_1,a,m):\n",
        "  new_0=0\n",
        "  sum=0\n",
        "  for i in range(0,m):\n",
        "    sum=sum+theta_1*x_point[i]+theta_0-y_point[i]\n",
        "  new_0=theta_0-a*sum/m\n",
        "  return new_0"
      ],
      "execution_count": 0,
      "outputs": []
    },
    {
      "cell_type": "code",
      "metadata": {
        "id": "wy8G97A0owRU",
        "colab_type": "code",
        "colab": {}
      },
      "source": [
        "def next_1(i,theta_0,theta_1,a,m):\n",
        "  new_1=0\n",
        "  sum=0\n",
        "  for i in range(0,m):\n",
        "    sum=sum+(theta_1*x_point[i]+theta_0-y_point[i])*x_point[i]\n",
        "  new_1=theta_1-a*sum/m\n",
        "  return new_1"
      ],
      "execution_count": 0,
      "outputs": []
    },
    {
      "cell_type": "markdown",
      "metadata": {
        "id": "eabg5sFppBgg",
        "colab_type": "text"
      },
      "source": [
        "Functions for Gradient Descent"
      ]
    }
  ]
}