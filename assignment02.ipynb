{
  "nbformat": 4,
  "nbformat_minor": 0,
  "metadata": {
    "colab": {
      "name": "cau_MachineLearning",
      "provenance": [],
      "collapsed_sections": [],
      "authorship_tag": "ABX9TyOUpIGNAvVB/qrc0ERRIrom",
      "include_colab_link": true
    },
    "kernelspec": {
      "name": "python3",
      "display_name": "Python 3"
    }
  },
  "cells": [
    {
      "cell_type": "markdown",
      "metadata": {
        "id": "view-in-github",
        "colab_type": "text"
      },
      "source": [
        "<a href=\"https://colab.research.google.com/github/crescent98/machinelearning35911/blob/master/cau_MachineLearning.ipynb\" target=\"_parent\"><img src=\"https://colab.research.google.com/assets/colab-badge.svg\" alt=\"Open In Colab\"/></a>"
      ]
    },
    {
      "cell_type": "code",
      "metadata": {
        "id": "SHiF8P-VJRG0",
        "colab_type": "code",
        "outputId": "3e3058ed-60d3-4cc1-fd55-0bc7c50e3827",
        "colab": {
          "base_uri": "https://localhost:8080/",
          "height": 34
        }
      },
      "source": [
        "import numpy as np"
      ],
      "execution_count": 0,
      "outputs": [
        {
          "output_type": "stream",
          "text": [
            "ERROR! Session/line number was not unique in database. History logging moved to new session 60\n"
          ],
          "name": "stdout"
        }
      ]
    },
    {
      "cell_type": "code",
      "metadata": {
        "id": "2vzXV3vKbZw9",
        "colab_type": "code",
        "colab": {}
      },
      "source": [
        "from mpl_toolkits import mplot3d"
      ],
      "execution_count": 0,
      "outputs": []
    },
    {
      "cell_type": "code",
      "metadata": {
        "id": "P7Zjgb20bfCS",
        "colab_type": "code",
        "colab": {}
      },
      "source": [
        "%matplotlib inline"
      ],
      "execution_count": 0,
      "outputs": []
    },
    {
      "cell_type": "code",
      "metadata": {
        "id": "WPZv1qMpJlKS",
        "colab_type": "code",
        "colab": {}
      },
      "source": [
        "import matplotlib.pyplot as plt"
      ],
      "execution_count": 0,
      "outputs": []
    },
    {
      "cell_type": "code",
      "metadata": {
        "id": "JOo9av6Bt4fP",
        "colab_type": "code",
        "colab": {}
      },
      "source": [
        "from matplotlib.pylab import plot, show"
      ],
      "execution_count": 0,
      "outputs": []
    },
    {
      "cell_type": "code",
      "metadata": {
        "id": "qjwrs-a3Zyco",
        "colab_type": "code",
        "colab": {}
      },
      "source": [
        "from mpl_toolkits.mplot3d import Axes3D"
      ],
      "execution_count": 0,
      "outputs": []
    },
    {
      "cell_type": "code",
      "metadata": {
        "id": "8iPJdId4Nx4c",
        "colab_type": "code",
        "colab": {}
      },
      "source": [
        "m=10"
      ],
      "execution_count": 0,
      "outputs": []
    },
    {
      "cell_type": "code",
      "metadata": {
        "id": "YANDc1TRvNUM",
        "colab_type": "code",
        "colab": {}
      },
      "source": [
        "a=0.01"
      ],
      "execution_count": 0,
      "outputs": []
    },
    {
      "cell_type": "code",
      "metadata": {
        "id": "3XrNyIm2Hux7",
        "colab_type": "code",
        "colab": {}
      },
      "source": [
        "x_point=np.random.uniform(low=0.0, high=10.0,size=m)"
      ],
      "execution_count": 0,
      "outputs": []
    },
    {
      "cell_type": "code",
      "metadata": {
        "id": "HzjNap-y6d9F",
        "colab_type": "code",
        "colab": {}
      },
      "source": [
        "y_point=np.random.normal(0.0,0.01,m)"
      ],
      "execution_count": 0,
      "outputs": []
    },
    {
      "cell_type": "markdown",
      "metadata": {
        "id": "eiuiXiKaH29e",
        "colab_type": "text"
      },
      "source": [
        "Linear Function Model y=8x+27"
      ]
    },
    {
      "cell_type": "code",
      "metadata": {
        "id": "w_PHm3qE5xmM",
        "colab_type": "code",
        "colab": {}
      },
      "source": [
        "for i in range(0,m):\n",
        "  y_point[i]=y_point[i]+x_point[i]*8+27"
      ],
      "execution_count": 0,
      "outputs": []
    },
    {
      "cell_type": "code",
      "metadata": {
        "id": "dqPlsJ5LtXvk",
        "colab_type": "code",
        "colab": {}
      },
      "source": [
        "y=x_point*8+27"
      ],
      "execution_count": 0,
      "outputs": []
    },
    {
      "cell_type": "markdown",
      "metadata": {
        "id": "IElm0IJ9p6Am",
        "colab_type": "text"
      },
      "source": [
        "a set of points that have random perturbations with respect to the straight line (in black color)"
      ]
    },
    {
      "cell_type": "code",
      "metadata": {
        "id": "7zBoTL4gIBD_",
        "colab_type": "code",
        "outputId": "672d6767-308f-48c0-bcd0-c9a76a395825",
        "colab": {
          "base_uri": "https://localhost:8080/",
          "height": 282
        }
      },
      "source": [
        "plt.scatter(x_point,y_point,c='#000000')"
      ],
      "execution_count": 0,
      "outputs": [
        {
          "output_type": "execute_result",
          "data": {
            "text/plain": [
              "<matplotlib.collections.PathCollection at 0x7fd188bb1828>"
            ]
          },
          "metadata": {
            "tags": []
          },
          "execution_count": 208
        },
        {
          "output_type": "display_data",
          "data": {
            "image/png": "[encoded data removed]",
            "text/plain": [
              "<Figure size 432x288 with 1 Axes>"
            ]
          },
          "metadata": {
            "tags": []
          }
        }
      ]
    },
    {
      "cell_type": "markdown",
      "metadata": {
        "id": "2oz5PXyjuMt3",
        "colab_type": "text"
      },
      "source": [
        "a straight line that is the graph of a linear function (in blue color)"
      ]
    },
    {
      "cell_type": "code",
      "metadata": {
        "id": "om6eK19Tq3Qg",
        "colab_type": "code",
        "outputId": "5cd5e607-1053-4dcd-bc07-70bd4f084644",
        "colab": {
          "base_uri": "https://localhost:8080/",
          "height": 282
        }
      },
      "source": [
        "plot(x_point,y)"
      ],
      "execution_count": 0,
      "outputs": [
        {
          "output_type": "execute_result",
          "data": {
            "text/plain": [
              "[<matplotlib.lines.Line2D at 0x7fd188901048>]"
            ]
          },
          "metadata": {
            "tags": []
          },
          "execution_count": 209
        },
        {
          "output_type": "display_data",
          "data": {
            "image/png": "[encoded data removed]",
            "text/plain": [
              "<Figure size 432x288 with 1 Axes>"
            ]
          },
          "metadata": {
            "tags": []
          }
        }
      ]
    },
    {
      "cell_type": "markdown",
      "metadata": {
        "id": "z3NvBlP7ldJa",
        "colab_type": "text"
      },
      "source": [
        "Lists of theta_0 and theta_1"
      ]
    },
    {
      "cell_type": "code",
      "metadata": {
        "id": "cZ6Tm0N2ujyi",
        "colab_type": "code",
        "colab": {}
      },
      "source": [
        "theta_0=[30]"
      ],
      "execution_count": 0,
      "outputs": []
    },
    {
      "cell_type": "code",
      "metadata": {
        "id": "QAGJUCxVvYS0",
        "colab_type": "code",
        "colab": {}
      },
      "source": [
        "theta0=theta_0[-1]"
      ],
      "execution_count": 0,
      "outputs": []
    },
    {
      "cell_type": "code",
      "metadata": {
        "id": "9G6lHuoRlqxJ",
        "colab_type": "code",
        "colab": {}
      },
      "source": [
        "theta_1=[10]"
      ],
      "execution_count": 0,
      "outputs": []
    },
    {
      "cell_type": "code",
      "metadata": {
        "id": "x5k3dYL4vZY6",
        "colab_type": "code",
        "colab": {}
      },
      "source": [
        "theta1=theta_1[-1]"
      ],
      "execution_count": 0,
      "outputs": []
    },
    {
      "cell_type": "code",
      "metadata": {
        "id": "4wLJtdlo37p8",
        "colab_type": "code",
        "colab": {}
      },
      "source": [
        "objective=[]"
      ],
      "execution_count": 0,
      "outputs": []
    },
    {
      "cell_type": "markdown",
      "metadata": {
        "id": "L11YCxjboAcl",
        "colab_type": "text"
      },
      "source": [
        "Objective Function"
      ]
    },
    {
      "cell_type": "code",
      "metadata": {
        "id": "dV2qfI9Elpt2",
        "colab_type": "code",
        "colab": {}
      },
      "source": [
        "def j_objective(m,theta0,theta1,x_point,y_point):\n",
        "  sum=0\n",
        "  for i in range(0,m):\n",
        "    sum=sum+np.square(theta1*x_point[i]+theta0-y_point[i])\n",
        "  return sum/(2*m)"
      ],
      "execution_count": 0,
      "outputs": []
    },
    {
      "cell_type": "markdown",
      "metadata": {
        "id": "eabg5sFppBgg",
        "colab_type": "text"
      },
      "source": [
        "Functions for Gradient Descent"
      ]
    },
    {
      "cell_type": "code",
      "metadata": {
        "id": "y_okBIxRoINo",
        "colab_type": "code",
        "colab": {}
      },
      "source": [
        "def next_0(theta0,theta1,a,m,x_point,y_point):\n",
        "  new_0=0\n",
        "  sum=0\n",
        "  for i in range(0,m):\n",
        "    sum=sum+theta1*x_point[i]+theta0-y_point[i]\n",
        "  new_0=theta0-((a*sum)/m)\n",
        "  return new_0"
      ],
      "execution_count": 0,
      "outputs": []
    },
    {
      "cell_type": "code",
      "metadata": {
        "id": "wy8G97A0owRU",
        "colab_type": "code",
        "colab": {}
      },
      "source": [
        "def next_1(theta0,theta1,a,m,x_point,y_point):\n",
        "  new_1=0\n",
        "  sum=0\n",
        "  for i in range(0,m):\n",
        "    sum=sum+(theta1*x_point[i]+theta0-y_point[i])*x_point[i]\n",
        "  new_1=theta1-((a*sum)/m)\n",
        "  return new_1"
      ],
      "execution_count": 0,
      "outputs": []
    },
    {
      "cell_type": "markdown",
      "metadata": {
        "id": "yk0JwXwAV-wQ",
        "colab_type": "text"
      },
      "source": [
        "Size of Gradient"
      ]
    },
    {
      "cell_type": "code",
      "metadata": {
        "id": "i566BzaZWJ0t",
        "colab_type": "code",
        "colab": {}
      },
      "source": [
        "def gradient(m,theta0,theta1, x_point,y_point):\n",
        "  sum0=0\n",
        "  sum1=0\n",
        "  for i in range(0,m):\n",
        "    sum0=sum0+theta1*x_point[i]+theta0-y_point[i]\n",
        "  for i in range(0,m):\n",
        "    sum1=sum1+(theta1*x_point[i]+theta0-y_point[i])*x_point[i]\n",
        "  return np.sqrt((np.square(sum0)+np.square(sum1))/m)"
      ],
      "execution_count": 0,
      "outputs": []
    },
    {
      "cell_type": "markdown",
      "metadata": {
        "id": "ptiC9Af-t0dJ",
        "colab_type": "text"
      },
      "source": [
        "Linear Regression"
      ]
    },
    {
      "cell_type": "code",
      "metadata": {
        "id": "tiz--j3iv8C3",
        "colab_type": "code",
        "colab": {}
      },
      "source": [
        "i=0"
      ],
      "execution_count": 0,
      "outputs": []
    },
    {
      "cell_type": "code",
      "metadata": {
        "id": "VUFH3I1ItuX6",
        "colab_type": "code",
        "colab": {}
      },
      "source": [
        "while gradient(m,theta0,theta1,x_point,y_point)>0.01:\n",
        "  objective.append(j_objective(m,theta0,theta1,x_point,y_point))\n",
        "  theta_0.append(next_0(theta0,theta1,a,m,x_point,y_point))\n",
        "  theta_1.append(next_1(theta0,theta1,a,m,x_point,y_point))\n",
        "  theta0=next_0(theta_0[i],theta_1[i],a,m,x_point,y_point)\n",
        "  theta1=next_1(theta_0[i],theta_1[i],a,m,x_point,y_point)\n",
        "  i=i+1"
      ],
      "execution_count": 0,
      "outputs": []
    },
    {
      "cell_type": "code",
      "metadata": {
        "id": "ltwATfAzFEm7",
        "colab_type": "code",
        "outputId": "fd7f27f9-6ae2-47bd-c7da-f2b045d1213d",
        "colab": {
          "base_uri": "https://localhost:8080/",
          "height": 34
        }
      },
      "source": [
        "j_objective(m,theta0,theta1,x_point,y_point)"
      ],
      "execution_count": 0,
      "outputs": [
        {
          "output_type": "execute_result",
          "data": {
            "text/plain": [
              "5.5346793947440535e-05"
            ]
          },
          "metadata": {
            "tags": []
          },
          "execution_count": 221
        }
      ]
    },
    {
      "cell_type": "code",
      "metadata": {
        "id": "18GiW4LpFMzL",
        "colab_type": "code",
        "outputId": "a723422a-8245-4d8d-ac64-42e1caac5fba",
        "colab": {
          "base_uri": "https://localhost:8080/",
          "height": 34
        }
      },
      "source": [
        "j_objective(m,27,8,x_point,y_point)"
      ],
      "execution_count": 0,
      "outputs": [
        {
          "output_type": "execute_result",
          "data": {
            "text/plain": [
              "4.7319266366435126e-05"
            ]
          },
          "metadata": {
            "tags": []
          },
          "execution_count": 222
        }
      ]
    },
    {
      "cell_type": "code",
      "metadata": {
        "id": "iRV01qw_CTFo",
        "colab_type": "code",
        "outputId": "27514239-404a-49ea-fead-a8a0f34f1a60",
        "colab": {
          "base_uri": "https://localhost:8080/",
          "height": 34
        }
      },
      "source": [
        "theta_0.pop()"
      ],
      "execution_count": 0,
      "outputs": [
        {
          "output_type": "execute_result",
          "data": {
            "text/plain": [
              "27.028499475011785"
            ]
          },
          "metadata": {
            "tags": []
          },
          "execution_count": 223
        }
      ]
    },
    {
      "cell_type": "code",
      "metadata": {
        "id": "XUbT6bEfCTni",
        "colab_type": "code",
        "outputId": "5999a43f-c019-4b65-c13c-49692dd026a7",
        "colab": {
          "base_uri": "https://localhost:8080/",
          "height": 34
        }
      },
      "source": [
        "theta_1.pop()"
      ],
      "execution_count": 0,
      "outputs": [
        {
          "output_type": "execute_result",
          "data": {
            "text/plain": [
              "7.995947828564306"
            ]
          },
          "metadata": {
            "tags": []
          },
          "execution_count": 224
        }
      ]
    },
    {
      "cell_type": "markdown",
      "metadata": {
        "id": "8hTPPbV_3A7E",
        "colab_type": "text"
      },
      "source": [
        "Output Results"
      ]
    },
    {
      "cell_type": "markdown",
      "metadata": {
        "id": "zKZIPmpn3QGZ",
        "colab_type": "text"
      },
      "source": [
        "The set of points that have random perturbations with respect to the straight line"
      ]
    },
    {
      "cell_type": "code",
      "metadata": {
        "id": "32FJjbo52X1b",
        "colab_type": "code",
        "outputId": "c0af91f8-b6d8-4a9d-c4bf-a0759ee03f93",
        "colab": {
          "base_uri": "https://localhost:8080/",
          "height": 282
        }
      },
      "source": [
        "plt.scatter(x_point,y_point,c='#000000')"
      ],
      "execution_count": 0,
      "outputs": [
        {
          "output_type": "execute_result",
          "data": {
            "text/plain": [
              "<matplotlib.collections.PathCollection at 0x7fd188c49828>"
            ]
          },
          "metadata": {
            "tags": []
          },
          "execution_count": 225
        },
        {
          "output_type": "display_data",
          "data": {
            "image/png": "[encoded data removed]",
            "text/plain": [
              "<Figure size 432x288 with 1 Axes>"
            ]
          },
          "metadata": {
            "tags": []
          }
        }
      ]
    },
    {
      "cell_type": "markdown",
      "metadata": {
        "id": "QpJX9Kd13DWX",
        "colab_type": "text"
      },
      "source": [
        "A straight Line that is the Solution obtained by Linear Regression"
      ]
    },
    {
      "cell_type": "code",
      "metadata": {
        "id": "lZwdElt42QGm",
        "colab_type": "code",
        "outputId": "6a6d8e6a-f838-4501-dca3-22ac132a7bf7",
        "colab": {
          "base_uri": "https://localhost:8080/",
          "height": 282
        }
      },
      "source": [
        "plot(x_point,x_point*theta1+theta0,color='#FF0000')"
      ],
      "execution_count": 0,
      "outputs": [
        {
          "output_type": "execute_result",
          "data": {
            "text/plain": [
              "[<matplotlib.lines.Line2D at 0x7fd188b03b00>]"
            ]
          },
          "metadata": {
            "tags": []
          },
          "execution_count": 226
        },
        {
          "output_type": "display_data",
          "data": {
            "image/png": "[encoded data removed]",
            "text/plain": [
              "<Figure size 432x288 with 1 Axes>"
            ]
          },
          "metadata": {
            "tags": []
          }
        }
      ]
    },
    {
      "cell_type": "markdown",
      "metadata": {
        "id": "rlItg7_c4vGW",
        "colab_type": "text"
      },
      "source": [
        "the value of the objective function at every optimization step by the gradient descent algorithm"
      ]
    },
    {
      "cell_type": "code",
      "metadata": {
        "id": "l_fdr6Cj4uaY",
        "colab_type": "code",
        "outputId": "4985b49d-176e-49f1-abb3-451c16aaea0a",
        "colab": {
          "base_uri": "https://localhost:8080/",
          "height": 282
        }
      },
      "source": [
        "plt.scatter(range(0,i),objective,c='#0000FF')"
      ],
      "execution_count": 0,
      "outputs": [
        {
          "output_type": "execute_result",
          "data": {
            "text/plain": [
              "<matplotlib.collections.PathCollection at 0x7fd188587898>"
            ]
          },
          "metadata": {
            "tags": []
          },
          "execution_count": 227
        },
        {
          "output_type": "display_data",
          "data": {
            "image/png": "[encoded data removed]",
            "text/plain": [
              "<Figure size 432x288 with 1 Axes>"
            ]
          },
          "metadata": {
            "tags": []
          }
        }
      ]
    },
    {
      "cell_type": "markdown",
      "metadata": {
        "id": "3624dL3NYsZZ",
        "colab_type": "text"
      },
      "source": [
        "4. Plotting the model parameters"
      ]
    },
    {
      "cell_type": "code",
      "metadata": {
        "id": "5PhRSDaqY1hH",
        "colab_type": "code",
        "outputId": "ef952ad6-9653-453e-e196-022e63cb21df",
        "colab": {
          "base_uri": "https://localhost:8080/",
          "height": 266
        }
      },
      "source": [
        "fig=plt.figure()\n",
        "ax=plt.axes(projection='3d')\n",
        "ax.scatter3D(theta_0,theta_1,objective,color='#FF0000')"
      ],
      "execution_count": 0,
      "outputs": [
        {
          "output_type": "execute_result",
          "data": {
            "text/plain": [
              "<mpl_toolkits.mplot3d.art3d.Path3DCollection at 0x7fd18853bf60>"
            ]
          },
          "metadata": {
            "tags": []
          },
          "execution_count": 228
        },
        {
          "output_type": "display_data",
          "data": {
            "image/png": "[encoded data removed]",
            "text/plain": [
              "<Figure size 432x288 with 1 Axes>"
            ]
          },
          "metadata": {
            "tags": []
          }
        }
      ]
    },
    {
      "cell_type": "markdown",
      "metadata": {
        "id": "jnl-P8w4g8AW",
        "colab_type": "text"
      },
      "source": [
        "the value of the theta0 and theta1\n",
        "at every optimization step"
      ]
    },
    {
      "cell_type": "markdown",
      "metadata": {
        "id": "Y_rVWqkihIqU",
        "colab_type": "text"
      },
      "source": [
        "  theta0 (in red)"
      ]
    },
    {
      "cell_type": "code",
      "metadata": {
        "id": "OjzBzLsmgHbT",
        "colab_type": "code",
        "outputId": "13bf1532-a6ff-4164-a224-72146189789c",
        "colab": {
          "base_uri": "https://localhost:8080/",
          "height": 282
        }
      },
      "source": [
        "plt.scatter(range(0,i),theta_0,c='#FF0000')"
      ],
      "execution_count": 0,
      "outputs": [
        {
          "output_type": "execute_result",
          "data": {
            "text/plain": [
              "<matplotlib.collections.PathCollection at 0x7fd18846a828>"
            ]
          },
          "metadata": {
            "tags": []
          },
          "execution_count": 229
        },
        {
          "output_type": "display_data",
          "data": {
            "image/png": "[encoded data removed]",
            "text/plain": [
              "<Figure size 432x288 with 1 Axes>"
            ]
          },
          "metadata": {
            "tags": []
          }
        }
      ]
    },
    {
      "cell_type": "markdown",
      "metadata": {
        "id": "mYrJTU_chIOA",
        "colab_type": "text"
      },
      "source": [
        "theta1 (in blue)"
      ]
    },
    {
      "cell_type": "code",
      "metadata": {
        "id": "bTox8kOkgU69",
        "colab_type": "code",
        "outputId": "c0a4b3c0-67de-4592-e260-7795da0881b4",
        "colab": {
          "base_uri": "https://localhost:8080/",
          "height": 282
        }
      },
      "source": [
        "plt.scatter(range(0,i),theta_1)"
      ],
      "execution_count": 0,
      "outputs": [
        {
          "output_type": "execute_result",
          "data": {
            "text/plain": [
              "<matplotlib.collections.PathCollection at 0x7fd18844d550>"
            ]
          },
          "metadata": {
            "tags": []
          },
          "execution_count": 230
        },
        {
          "output_type": "display_data",
          "data": {
            "image/png": "[encoded data removed]",
            "text/plain": [
              "<Figure size 432x288 with 1 Axes>"
            ]
          },
          "metadata": {
            "tags": []
          }
        }
      ]
    }
  ]
}
