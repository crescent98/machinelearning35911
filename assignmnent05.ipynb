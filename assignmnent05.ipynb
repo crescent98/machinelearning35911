{
  "nbformat": 4,
  "nbformat_minor": 0,
  "metadata": {
    "colab": {
      "name": "assignmnent05.ipynb",
      "provenance": [],
      "collapsed_sections": [],
      "authorship_tag": "ABX9TyMgkvwibeSoWrwAwuhXuocq",
      "include_colab_link": true
    },
    "kernelspec": {
      "name": "python3",
      "display_name": "Python 3"
    }
  },
  "cells": [
    {
      "cell_type": "markdown",
      "metadata": {
        "id": "view-in-github",
        "colab_type": "text"
      },
      "source": [
        "<a href=\"https://colab.research.google.com/github/crescent98/machinelearning35911/blob/master/assignmnent05.ipynb\" target=\"_parent\"><img src=\"https://colab.research.google.com/assets/colab-badge.svg\" alt=\"Open In Colab\"/></a>"
      ]
    },
    {
      "cell_type": "code",
      "metadata": {
        "id": "r7Ea_owgfyjh",
        "colab_type": "code",
        "colab": {}
      },
      "source": [
        "import numpy as np\n",
        "from mpl_toolkits import mplot3d\n",
        "import matplotlib.pyplot as plt\n",
        "from matplotlib import cm\n",
        "from matplotlib.ticker import LinearLocator, FormatStrFormatter\n",
        "from matplotlib.pylab import plot, show\n",
        "from mpl_toolkits.mplot3d import Axes3D\n",
        "%matplotlib inline"
      ],
      "execution_count": 0,
      "outputs": []
    },
    {
      "cell_type": "code",
      "metadata": {
        "id": "BIL28i7zggTa",
        "colab_type": "code",
        "outputId": "04f8e9a0-f941-462e-c490-3ced498705fd",
        "colab": {
          "base_uri": "https://localhost:8080/",
          "height": 483
        }
      },
      "source": [
        "data    = np.genfromtxt(\"data.txt\", delimiter=',')\n",
        "\n",
        "x       = data[:, 0]\n",
        "y       = data[:, 1]\n",
        "label   = data[:, 2]\n",
        "\n",
        "x_label0    = x[label == 0]\n",
        "x_label1    = x[label == 1]\n",
        "\n",
        "y_label0    = y[label == 0]\n",
        "y_label1    = y[label == 1]\n",
        "\n",
        "plt.figure(figsize=(8, 8))\n",
        "plt.scatter(x_label0, y_label0, alpha=0.3, c='b')\n",
        "plt.scatter(x_label1, y_label1, alpha=0.3, c='r')\n",
        "plt.show()\n"
      ],
      "execution_count": 142,
      "outputs": [
        {
          "output_type": "display_data",
          "data": {
            "image/png": "[encoded data removed]",
            "text/plain": [
              "<Figure size 576x576 with 1 Axes>"
            ]
          },
          "metadata": {
            "tags": [],
            "needs_background": "light"
          }
        }
      ]
    },
    {
      "cell_type": "markdown",
      "metadata": {
        "id": "7xjSIjVJ4a6y",
        "colab_type": "text"
      },
      "source": [
        "# ***Data Organization***"
      ]
    },
    {
      "cell_type": "code",
      "metadata": {
        "id": "zCqQdCvY4lzy",
        "colab_type": "code",
        "colab": {
          "base_uri": "https://localhost:8080/",
          "height": 35
        },
        "outputId": "483a7142-8a9a-4b60-e9b4-ae42f4792cdb"
      },
      "source": [
        "data[5][2]==0"
      ],
      "execution_count": 143,
      "outputs": [
        {
          "output_type": "execute_result",
          "data": {
            "text/plain": [
              "True"
            ]
          },
          "metadata": {
            "tags": []
          },
          "execution_count": 143
        }
      ]
    },
    {
      "cell_type": "markdown",
      "metadata": {
        "id": "UEhQqWxH1l-6",
        "colab_type": "text"
      },
      "source": [
        "# ***Logistic Regression_Variables***"
      ]
    },
    {
      "cell_type": "code",
      "metadata": {
        "id": "ey8O9urq2pVO",
        "colab_type": "code",
        "colab": {}
      },
      "source": [
        "m=len(data)\n",
        "a=0.003\n",
        "objective=[]\n",
        "#values of cost function results\n",
        "theta=[]\n",
        "#theta0, theta1, theta2\n",
        "i=0\n",
        "theta_temp=[0,0,0]"
      ],
      "execution_count": 0,
      "outputs": []
    },
    {
      "cell_type": "markdown",
      "metadata": {
        "id": "Qv4_Vv4i1uKL",
        "colab_type": "text"
      },
      "source": [
        "# ***Logistic Regression_Functions***"
      ]
    },
    {
      "cell_type": "code",
      "metadata": {
        "id": "bGWC1ILPVz57",
        "colab_type": "code",
        "colab": {}
      },
      "source": [
        "def z_linear(theta,x,y): #[theta0,theta1,theta2] 로 구성된 theta\n",
        "  return theta[0]+theta[1]*x+theta[2]*y\n",
        "\n",
        "def h_function(theta,x,y):\n",
        "  return 1/(1+np.exp((-1)*z_linear(theta,x,y)))\n",
        "\n",
        "def objective_function(m,theta,data): #[x,y,i]로 구성된 data , [theta0,theta1,theta2]로 구성된 theta\n",
        "  sum=0\n",
        "  for i in range(0,m):\n",
        "    if data[i][2]==0:\n",
        "      sum=sum-np.log(1-h_function(theta,data[i][0],data[i][1]))\n",
        "    elif data[i][2]==1:\n",
        "      sum=sum-np.log(h_function(theta,data[i][0],data[i][1]))\n",
        "  return sum/m\n",
        "\n",
        "#Gradient Descent\n",
        "def next_theta(m,a,theta,data):\n",
        "  next_theta=[]\n",
        "  sum=0\n",
        "  for i in range(0,len(theta)):\n",
        "    sum=0\n",
        "    if i==0:\n",
        "      for j in range(0,m):\n",
        "        sum=sum+(h_function(theta,data[j][0],data[j][1])-data[j][2])\n",
        "      next_theta.append(theta[i]-a*(sum/m))\n",
        "    else:\n",
        "      for j in range(0,m):\n",
        "        sum=sum+(h_function(theta,data[j][0],data[j][1])-data[j][2])*data[j][i]\n",
        "      next_theta.append(theta[i]-a*(sum/m))\n",
        "  return next_theta\n",
        "\n",
        "  #Gradient\n",
        "def gradient(theta,m,data):\n",
        "  theta_count=len(theta)\n",
        "  total=0\n",
        "  sum=[]\n",
        "  sum_temp=0\n",
        "  for i in range(0,theta_count):\n",
        "    sum_temp=0\n",
        "    if i==0:\n",
        "      for j in range(0,m):\n",
        "        sum_temp=sum_temp+(h_function(theta,data[j][0],data[j][1])-data[j][2])\n",
        "    else:\n",
        "      for j in range(0,m):\n",
        "        sum_temp=sum_temp+(h_function(theta,data[j][0],data[j][1])-data[j][2])*data[i]\n",
        "    sum.append(np.square(sum_temp))\n",
        "    for i in range(0,len(sum)):\n",
        "      total=total+sum[i]\n",
        "    return np.sqrt(total/m)"
      ],
      "execution_count": 0,
      "outputs": []
    },
    {
      "cell_type": "code",
      "metadata": {
        "id": "U14yzyRAVTsG",
        "colab_type": "code",
        "colab": {
          "base_uri": "https://localhost:8080/",
          "height": 35
        },
        "outputId": "e55caa83-b8ae-4cb5-a79a-4f8db5740c77"
      },
      "source": [
        "next_theta(m,a,[0,0,0],data)"
      ],
      "execution_count": 146,
      "outputs": [
        {
          "output_type": "execute_result",
          "data": {
            "text/plain": [
              "[0.00030000000000000003, 0.033788526616540776, 0.0009]"
            ]
          },
          "metadata": {
            "tags": []
          },
          "execution_count": 146
        }
      ]
    },
    {
      "cell_type": "markdown",
      "metadata": {
        "id": "dGuDgJpJUhGx",
        "colab_type": "text"
      },
      "source": [
        "# ***Gradient Descenting***"
      ]
    },
    {
      "cell_type": "code",
      "metadata": {
        "id": "8KJFlttiUjlO",
        "colab_type": "code",
        "colab": {}
      },
      "source": [
        "while gradient(theta_temp,m,data)>0.01:\n",
        "  objective.append(objective_function(m,theta_temp,data))\n",
        "  theta.append(theta_temp)\n",
        "  theta_temp=next_theta(m,a,theta_temp,data)\n",
        "  i=i+1"
      ],
      "execution_count": 0,
      "outputs": []
    },
    {
      "cell_type": "code",
      "metadata": {
        "id": "mvgRlS80Wbqr",
        "colab_type": "code",
        "colab": {
          "base_uri": "https://localhost:8080/",
          "height": 35
        },
        "outputId": "c69d13a5-199d-4b99-b114-efe30acd5bea"
      },
      "source": [
        "theta[-1]"
      ],
      "execution_count": 148,
      "outputs": [
        {
          "output_type": "execute_result",
          "data": {
            "text/plain": [
              "[-0.017279587473987133, -0.07067001325115058, 0.08276498942454637]"
            ]
          },
          "metadata": {
            "tags": []
          },
          "execution_count": 148
        }
      ]
    },
    {
      "cell_type": "code",
      "metadata": {
        "id": "oEcr9l3EWwgL",
        "colab_type": "code",
        "colab": {}
      },
      "source": [
        "theta_0=[]\n",
        "for i in range(0,len(theta)):\n",
        "  theta_0.append(theta[i][0])\n",
        "theta_1=[]\n",
        "for i in range(0,len(theta)):\n",
        "  theta_1.append(theta[i][1])\n",
        "theta_2=[]\n",
        "for i in range(0,len(theta)):\n",
        "  theta_2.append(theta[i][2])"
      ],
      "execution_count": 0,
      "outputs": []
    },
    {
      "cell_type": "markdown",
      "metadata": {
        "id": "2T1leDcHYQeH",
        "colab_type": "text"
      },
      "source": [
        "# ***Plot the estimated parameters***"
      ]
    },
    {
      "cell_type": "code",
      "metadata": {
        "id": "mF-i5yLxWmKZ",
        "colab_type": "code",
        "colab": {
          "base_uri": "https://localhost:8080/",
          "height": 283
        },
        "outputId": "956e4028-49ad-4712-8700-05760b835aa4"
      },
      "source": [
        "plt.scatter(range(0,i+1),theta_0,c='#ff0000',s=5)\n",
        "plt.scatter(range(0,i+1),theta_1,c='#008000',s=5)\n",
        "plt.scatter(range(0,i+1),theta_2,c='#0000ff',s=5)"
      ],
      "execution_count": 150,
      "outputs": [
        {
          "output_type": "execute_result",
          "data": {
            "text/plain": [
              "<matplotlib.collections.PathCollection at 0x7ffa164bbda0>"
            ]
          },
          "metadata": {
            "tags": []
          },
          "execution_count": 150
        },
        {
          "output_type": "display_data",
          "data": {
            "image/png": "[encoded data removed]",
            "text/plain": [
              "<Figure size 432x288 with 1 Axes>"
            ]
          },
          "metadata": {
            "tags": [],
            "needs_background": "light"
          }
        }
      ]
    },
    {
      "cell_type": "code",
      "metadata": {
        "id": "4vr1vgZ0YdK7",
        "colab_type": "code",
        "colab": {
          "base_uri": "https://localhost:8080/",
          "height": 284
        },
        "outputId": "6288c947-d3f0-4c3a-efc0-e85b0b907d56"
      },
      "source": [
        "plt.scatter(range(0,i+1),objective,c=\"#0000ff\")"
      ],
      "execution_count": 152,
      "outputs": [
        {
          "output_type": "execute_result",
          "data": {
            "text/plain": [
              "<matplotlib.collections.PathCollection at 0x7ffa16095160>"
            ]
          },
          "metadata": {
            "tags": []
          },
          "execution_count": 152
        },
        {
          "output_type": "display_data",
          "data": {
            "image/png": "[encoded data removed]",
            "text/plain": [
              "<Figure size 432x288 with 1 Axes>"
            ]
          },
          "metadata": {
            "tags": [],
            "needs_background": "light"
          }
        }
      ]
    }
  ]
}